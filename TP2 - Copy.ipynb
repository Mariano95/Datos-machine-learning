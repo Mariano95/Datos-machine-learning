{
 "cells": [
  {
   "cell_type": "code",
   "execution_count": 1,
   "metadata": {},
   "outputs": [],
   "source": [
    "import numpy as np\n",
    "import pandas as pd\n",
    "import gc #Recolector de basura\n",
    "import warnings\n",
    "warnings.filterwarnings('ignore')\n",
    "import matplotlib.pyplot as plt\n",
    "%matplotlib inline\n",
    "\n",
    "from sklearn.preprocessing import OneHotEncoder\n",
    "from sklearn.metrics import accuracy_score\n",
    "from sklearn.model_selection import KFold\n",
    "from sklearn.model_selection import cross_val_score\n",
    "import sklearn.utils\n",
    "from sklearn.model_selection import GridSearchCV\n",
    "from sklearn.model_selection import RandomizedSearchCV\n",
    "\n",
    "\n",
    "from sklearn import tree\n",
    "from sklearn.neighbors import KNeighborsClassifier\n",
    "from sklearn.ensemble import GradientBoostingClassifier\n",
    "from sklearn.ensemble import RandomForestClassifier\n",
    "from sklearn.ensemble import AdaBoostClassifier\n",
    "from sklearn import svm\n",
    "from sklearn import datasets, linear_model\n",
    "from xgboost import XGBClassifier\n",
    "from sklearn import model_selection\n",
    "from sklearn.ensemble import BaggingClassifier\n",
    "from sklearn.ensemble import VotingClassifier"
   ]
  },
  {
   "cell_type": "code",
   "execution_count": 2,
   "metadata": {},
   "outputs": [],
   "source": [
    "test_final_100k_ = pd.read_csv('Datos/test_final_100k.csv')"
   ]
  },
  {
   "cell_type": "markdown",
   "metadata": {},
   "source": [
    "# Pre procesamiento de los datos\n"
   ]
  },
  {
   "cell_type": "markdown",
   "metadata": {},
   "source": [
    "En este primer paso recolectaremos los datos que nos sean útiles para entrenar nuestros modelos y los llevaremos a un formato en el que puedan usarlos.\n",
    "También realizaremos una limpieza de los datos, eliminando o corrigiendo datos erróneos según corresponda."
   ]
  },
  {
   "cell_type": "markdown",
   "metadata": {},
   "source": [
    "## Postulantes"
   ]
  },
  {
   "cell_type": "code",
   "execution_count": 24,
   "metadata": {},
   "outputs": [],
   "source": [
    "postulantes_educacion_desde_15_Abril = pd.read_csv('Datos/Fiuba_desde_15_Abril/fiuba_1_postulantes_educacion.csv')\n",
    "postulantes_genero_y_edad_desde_15_Abril = pd.read_csv('Datos/Fiuba_desde_15_Abril/fiuba_2_postulantes_genero_y_edad.csv')\n",
    "postulantes_educacion_hasta_15_abril = pd.read_csv('Datos/fiuba_hasta_15_abril/fiuba_1_postulantes_educacion.csv')\n",
    "postulantes_genero_y_edad_hasta_15_abril = pd.read_csv('Datos/fiuba_hasta_15_abril/fiuba_2_postulantes_genero_y_edad.csv')\n",
    "postulantes_educacion_original = pd.read_csv('Datos/datos_navent_fiuba/fiuba_1_postulantes_educacion.csv')\n",
    "postulantes_genero_y_edad_original = pd.read_csv('Datos/datos_navent_fiuba/fiuba_2_postulantes_genero_y_edad.csv')"
   ]
  },
  {
   "cell_type": "code",
   "execution_count": 25,
   "metadata": {},
   "outputs": [],
   "source": [
    "#Concateno datos de los tres sets y filtro postulantes repetidos\n",
    "\n",
    "postulantes_genero_y_edad = pd.concat([postulantes_genero_y_edad_desde_15_Abril,postulantes_genero_y_edad_hasta_15_abril,postulantes_genero_y_edad_original], axis=0)\n",
    "postulantes_genero_y_edad = postulantes_genero_y_edad.drop_duplicates('idpostulante')\n",
    "\n",
    "postulantes_educacion = pd.concat([postulantes_educacion_desde_15_Abril,postulantes_educacion_hasta_15_abril,postulantes_educacion_original], axis=0)\n",
    "postulantes_educacion = postulantes_educacion.drop_duplicates('idpostulante')"
   ]
  },
  {
   "cell_type": "code",
   "execution_count": 26,
   "metadata": {},
   "outputs": [
    {
     "data": {
      "text/plain": [
       "118"
      ]
     },
     "execution_count": 26,
     "metadata": {},
     "output_type": "execute_result"
    }
   ],
   "source": [
    "#Elimino los dataframes que ya no uso\n",
    "\n",
    "del [[postulantes_educacion_desde_15_Abril,postulantes_genero_y_edad_desde_15_Abril,postulantes_educacion_hasta_15_abril,postulantes_genero_y_edad_hasta_15_abril,postulantes_educacion_original,postulantes_genero_y_edad_original]]\n",
    "gc.collect()"
   ]
  },
  {
   "cell_type": "code",
   "execution_count": 27,
   "metadata": {},
   "outputs": [],
   "source": [
    "#Renombro las columnas a un nombre más apropiado\n",
    "\n",
    "postulantes_educacion = postulantes_educacion.rename(columns={\"nombre\":\"educacion\"})"
   ]
  },
  {
   "cell_type": "code",
   "execution_count": 28,
   "metadata": {},
   "outputs": [
    {
     "data": {
      "text/plain": [
       "idpostulante    False\n",
       "educacion       False\n",
       "estado          False\n",
       "dtype: bool"
      ]
     },
     "execution_count": 28,
     "metadata": {},
     "output_type": "execute_result"
    }
   ],
   "source": [
    "#Hay algun dato nulo?\n",
    "\n",
    "postulantes_educacion.isnull().any()"
   ]
  },
  {
   "cell_type": "code",
   "execution_count": 29,
   "metadata": {},
   "outputs": [
    {
     "data": {
      "text/plain": [
       "Graduado      257355\n",
       "En Curso      169975\n",
       "Abandonado     20579\n",
       "Name: estado, dtype: int64"
      ]
     },
     "execution_count": 29,
     "metadata": {},
     "output_type": "execute_result"
    }
   ],
   "source": [
    "#Tipos de estado para la educación\n",
    "\n",
    "postulantes_educacion.estado.value_counts()"
   ]
  },
  {
   "cell_type": "code",
   "execution_count": 30,
   "metadata": {},
   "outputs": [
    {
     "data": {
      "text/plain": [
       "Universitario        189379\n",
       "Secundario           164075\n",
       "Terciario/Técnico     66251\n",
       "Otro                  14521\n",
       "Posgrado               8026\n",
       "Master                 5319\n",
       "Doctorado               338\n",
       "Name: educacion, dtype: int64"
      ]
     },
     "execution_count": 30,
     "metadata": {},
     "output_type": "execute_result"
    }
   ],
   "source": [
    "#Tipos de educación\n",
    "\n",
    "postulantes_educacion.educacion.value_counts()"
   ]
  },
  {
   "cell_type": "code",
   "execution_count": 31,
   "metadata": {},
   "outputs": [],
   "source": [
    "#Para cada postulante, me interesa quedarme solamente con la mayor de sus educaciones\n",
    "#Codifico variables categóricas en forma numérica para que luego puedan procesarlas los algoritmos.\n",
    "\n",
    "postulantes_educacion['Cod_edu'] = np.array([1 if educacion == 'Secundario' else \n",
    "                                             2 if educacion == 'Otro' else \n",
    "                                             3 if educacion == 'Terciario/Técnico' else \n",
    "                                             4 if educacion == 'Universitario' else \n",
    "                                             5 if educacion == 'Posgrado' else \n",
    "                                             6 if educacion == 'Master' else 7 for educacion in postulantes_educacion.educacion])\n",
    "\n",
    "#Ya no necesito la columna educacion\n",
    "postulantes_educacion = postulantes_educacion.drop('educacion',axis=1)\n",
    "\n",
    "#Codifico el estado de la educación\n",
    "postulantes_educacion['Cod_est'] = np.array([1 if estado == 'Abandonado' else \n",
    "                                             2 if estado == 'En Curso' else \n",
    "                                             3 for estado in postulantes_educacion.estado])\n",
    "                                   \n",
    "#Ya no necesito la columna estado\n",
    "postulantes_educacion = postulantes_educacion.drop('estado',axis=1)\n",
    "\n",
    "\n",
    "postulantes_educacion = postulantes_educacion.sort_values(['idpostulante','Cod_edu'], ascending = False).drop_duplicates('idpostulante')"
   ]
  },
  {
   "cell_type": "code",
   "execution_count": 32,
   "metadata": {},
   "outputs": [
    {
     "data": {
      "text/html": [
       "<div>\n",
       "<style scoped>\n",
       "    .dataframe tbody tr th:only-of-type {\n",
       "        vertical-align: middle;\n",
       "    }\n",
       "\n",
       "    .dataframe tbody tr th {\n",
       "        vertical-align: top;\n",
       "    }\n",
       "\n",
       "    .dataframe thead th {\n",
       "        text-align: right;\n",
       "    }\n",
       "</style>\n",
       "<table border=\"1\" class=\"dataframe\">\n",
       "  <thead>\n",
       "    <tr style=\"text-align: right;\">\n",
       "      <th></th>\n",
       "      <th>idpostulante</th>\n",
       "      <th>Cod_edu</th>\n",
       "      <th>Cod_est</th>\n",
       "    </tr>\n",
       "  </thead>\n",
       "  <tbody>\n",
       "    <tr>\n",
       "      <th>53092</th>\n",
       "      <td>zvxzzL6</td>\n",
       "      <td>1</td>\n",
       "      <td>3</td>\n",
       "    </tr>\n",
       "    <tr>\n",
       "      <th>118722</th>\n",
       "      <td>zvxzvD5</td>\n",
       "      <td>3</td>\n",
       "      <td>2</td>\n",
       "    </tr>\n",
       "    <tr>\n",
       "      <th>60153</th>\n",
       "      <td>zvxzrWm</td>\n",
       "      <td>2</td>\n",
       "      <td>3</td>\n",
       "    </tr>\n",
       "    <tr>\n",
       "      <th>50863</th>\n",
       "      <td>zvxzmED</td>\n",
       "      <td>1</td>\n",
       "      <td>3</td>\n",
       "    </tr>\n",
       "    <tr>\n",
       "      <th>211836</th>\n",
       "      <td>zvxzjoK</td>\n",
       "      <td>3</td>\n",
       "      <td>2</td>\n",
       "    </tr>\n",
       "  </tbody>\n",
       "</table>\n",
       "</div>"
      ],
      "text/plain": [
       "       idpostulante  Cod_edu  Cod_est\n",
       "53092       zvxzzL6        1        3\n",
       "118722      zvxzvD5        3        2\n",
       "60153       zvxzrWm        2        3\n",
       "50863       zvxzmED        1        3\n",
       "211836      zvxzjoK        3        2"
      ]
     },
     "execution_count": 32,
     "metadata": {},
     "output_type": "execute_result"
    }
   ],
   "source": [
    "postulantes_educacion.head()"
   ]
  },
  {
   "cell_type": "code",
   "execution_count": 33,
   "metadata": {},
   "outputs": [
    {
     "data": {
      "text/plain": [
       "FEM           251205\n",
       "MASC          227853\n",
       "NO_DECLARA     25342\n",
       "0.0                7\n",
       "Name: sexo, dtype: int64"
      ]
     },
     "execution_count": 33,
     "metadata": {},
     "output_type": "execute_result"
    }
   ],
   "source": [
    "#Sexos declarados\n",
    "\n",
    "postulantes_genero_y_edad.sexo.value_counts()"
   ]
  },
  {
   "cell_type": "code",
   "execution_count": 34,
   "metadata": {},
   "outputs": [],
   "source": [
    "#Codificación de los sexos\n",
    "\n",
    "postulantes_genero_y_edad['Cod_sexo'] = np.array([0 if sexo == 'MASC' else \n",
    "                                                  1 if sexo == 'FEM' else 2 for sexo in postulantes_genero_y_edad.sexo])\n",
    "\n",
    "#Ya no necesito la columna sexo\n",
    "postulantes_genero_y_edad = postulantes_genero_y_edad.drop('sexo',axis=1)\n"
   ]
  },
  {
   "cell_type": "code",
   "execution_count": 35,
   "metadata": {},
   "outputs": [
    {
     "data": {
      "text/plain": [
       "idpostulante       False\n",
       "fechanacimiento     True\n",
       "Cod_sexo           False\n",
       "dtype: bool"
      ]
     },
     "execution_count": 35,
     "metadata": {},
     "output_type": "execute_result"
    }
   ],
   "source": [
    "#Ojo, fechas de nacimiento nulas\n",
    "\n",
    "postulantes_genero_y_edad.isnull().any()"
   ]
  },
  {
   "cell_type": "code",
   "execution_count": 36,
   "metadata": {},
   "outputs": [],
   "source": [
    "#Convierto la columna fechanacimiento a formato datetime. \n",
    "\n",
    "postulantes_genero_y_edad['fechanacimiento'] = pd.to_datetime(postulantes_genero_y_edad['fechanacimiento'], errors='coerce')"
   ]
  },
  {
   "cell_type": "code",
   "execution_count": 37,
   "metadata": {},
   "outputs": [
    {
     "data": {
      "text/html": [
       "<div>\n",
       "<style scoped>\n",
       "    .dataframe tbody tr th:only-of-type {\n",
       "        vertical-align: middle;\n",
       "    }\n",
       "\n",
       "    .dataframe tbody tr th {\n",
       "        vertical-align: top;\n",
       "    }\n",
       "\n",
       "    .dataframe thead th {\n",
       "        text-align: right;\n",
       "    }\n",
       "</style>\n",
       "<table border=\"1\" class=\"dataframe\">\n",
       "  <thead>\n",
       "    <tr style=\"text-align: right;\">\n",
       "      <th></th>\n",
       "      <th>idpostulante</th>\n",
       "      <th>fechanacimiento</th>\n",
       "      <th>Cod_sexo</th>\n",
       "    </tr>\n",
       "  </thead>\n",
       "  <tbody>\n",
       "    <tr>\n",
       "      <th>1</th>\n",
       "      <td>ZX1</td>\n",
       "      <td>NaT</td>\n",
       "      <td>2</td>\n",
       "    </tr>\n",
       "    <tr>\n",
       "      <th>4</th>\n",
       "      <td>N1x</td>\n",
       "      <td>NaT</td>\n",
       "      <td>2</td>\n",
       "    </tr>\n",
       "    <tr>\n",
       "      <th>5</th>\n",
       "      <td>8mW</td>\n",
       "      <td>NaT</td>\n",
       "      <td>2</td>\n",
       "    </tr>\n",
       "    <tr>\n",
       "      <th>6</th>\n",
       "      <td>52aw</td>\n",
       "      <td>NaT</td>\n",
       "      <td>2</td>\n",
       "    </tr>\n",
       "    <tr>\n",
       "      <th>8</th>\n",
       "      <td>a6OE</td>\n",
       "      <td>NaT</td>\n",
       "      <td>2</td>\n",
       "    </tr>\n",
       "  </tbody>\n",
       "</table>\n",
       "</div>"
      ],
      "text/plain": [
       "  idpostulante fechanacimiento  Cod_sexo\n",
       "1          ZX1             NaT         2\n",
       "4          N1x             NaT         2\n",
       "5          8mW             NaT         2\n",
       "6         52aw             NaT         2\n",
       "8         a6OE             NaT         2"
      ]
     },
     "execution_count": 37,
     "metadata": {},
     "output_type": "execute_result"
    }
   ],
   "source": [
    "#Fechas nulas\n",
    "\n",
    "postulantes_genero_y_edad.loc[postulantes_genero_y_edad.fechanacimiento.isnull()].head()"
   ]
  },
  {
   "cell_type": "code",
   "execution_count": 38,
   "metadata": {
    "scrolled": true
   },
   "outputs": [
    {
     "data": {
      "text/html": [
       "<div>\n",
       "<style scoped>\n",
       "    .dataframe tbody tr th:only-of-type {\n",
       "        vertical-align: middle;\n",
       "    }\n",
       "\n",
       "    .dataframe tbody tr th {\n",
       "        vertical-align: top;\n",
       "    }\n",
       "\n",
       "    .dataframe thead th {\n",
       "        text-align: right;\n",
       "    }\n",
       "</style>\n",
       "<table border=\"1\" class=\"dataframe\">\n",
       "  <thead>\n",
       "    <tr style=\"text-align: right;\">\n",
       "      <th></th>\n",
       "      <th>idpostulante</th>\n",
       "      <th>Cod_sexo</th>\n",
       "      <th>edad</th>\n",
       "    </tr>\n",
       "  </thead>\n",
       "  <tbody>\n",
       "    <tr>\n",
       "      <th>0</th>\n",
       "      <td>6MM</td>\n",
       "      <td>0</td>\n",
       "      <td>33</td>\n",
       "    </tr>\n",
       "    <tr>\n",
       "      <th>1</th>\n",
       "      <td>ZX1</td>\n",
       "      <td>2</td>\n",
       "      <td>0</td>\n",
       "    </tr>\n",
       "    <tr>\n",
       "      <th>2</th>\n",
       "      <td>YZP</td>\n",
       "      <td>0</td>\n",
       "      <td>57</td>\n",
       "    </tr>\n",
       "    <tr>\n",
       "      <th>3</th>\n",
       "      <td>ebE</td>\n",
       "      <td>0</td>\n",
       "      <td>66</td>\n",
       "    </tr>\n",
       "    <tr>\n",
       "      <th>4</th>\n",
       "      <td>N1x</td>\n",
       "      <td>2</td>\n",
       "      <td>0</td>\n",
       "    </tr>\n",
       "    <tr>\n",
       "      <th>5</th>\n",
       "      <td>8mW</td>\n",
       "      <td>2</td>\n",
       "      <td>0</td>\n",
       "    </tr>\n",
       "    <tr>\n",
       "      <th>6</th>\n",
       "      <td>52aw</td>\n",
       "      <td>2</td>\n",
       "      <td>0</td>\n",
       "    </tr>\n",
       "    <tr>\n",
       "      <th>7</th>\n",
       "      <td>NAjM</td>\n",
       "      <td>1</td>\n",
       "      <td>56</td>\n",
       "    </tr>\n",
       "    <tr>\n",
       "      <th>8</th>\n",
       "      <td>a6OE</td>\n",
       "      <td>2</td>\n",
       "      <td>0</td>\n",
       "    </tr>\n",
       "    <tr>\n",
       "      <th>9</th>\n",
       "      <td>ZjlZ</td>\n",
       "      <td>0</td>\n",
       "      <td>48</td>\n",
       "    </tr>\n",
       "  </tbody>\n",
       "</table>\n",
       "</div>"
      ],
      "text/plain": [
       "  idpostulante  Cod_sexo  edad\n",
       "0          6MM         0    33\n",
       "1          ZX1         2     0\n",
       "2          YZP         0    57\n",
       "3          ebE         0    66\n",
       "4          N1x         2     0\n",
       "5          8mW         2     0\n",
       "6         52aw         2     0\n",
       "7         NAjM         1    56\n",
       "8         a6OE         2     0\n",
       "9         ZjlZ         0    48"
      ]
     },
     "execution_count": 38,
     "metadata": {},
     "output_type": "execute_result"
    }
   ],
   "source": [
    "#Vamos ahora a agregar una columna adicional al dataframe, de modo que podamos observar la edad de cada persona\n",
    "\n",
    "postulantes_genero_y_edad['edad'] = ((pd.datetime.today() - postulantes_genero_y_edad['fechanacimiento']).dt.days/365)\n",
    "postulantes_genero_y_edad['edad'] = postulantes_genero_y_edad['edad'].fillna(0)\n",
    "postulantes_genero_y_edad['edad'] = postulantes_genero_y_edad['edad'].astype(int)\n",
    "postulantes_genero_y_edad = postulantes_genero_y_edad.drop('fechanacimiento',axis=1)\n",
    "postulantes_genero_y_edad.head(10)"
   ]
  },
  {
   "cell_type": "code",
   "execution_count": 39,
   "metadata": {},
   "outputs": [
    {
     "data": {
      "text/plain": [
       "0     26096\n",
       "7         1\n",
       "9         1\n",
       "10        1\n",
       "11        1\n",
       "Name: edad, dtype: int64"
      ]
     },
     "execution_count": 39,
     "metadata": {},
     "output_type": "execute_result"
    }
   ],
   "source": [
    "#Muchos postulantes con edad cero producto de que no tenian cargada una fecha de nacimiento.\n",
    "\n",
    "postulantes_genero_y_edad.edad.value_counts().sort_index().head()"
   ]
  },
  {
   "cell_type": "code",
   "execution_count": 40,
   "metadata": {},
   "outputs": [],
   "source": [
    "#Hay muchos registros con edad en cero como para simplemente descartarlos. Propongo asignarle a estos registros \n",
    "#una edad al azar basándome en el promedio de edades del set de datos y la desviación estándar de las mismas.\n",
    "\n",
    "#Edad promedio del set de datos\n",
    "edad_promedio = postulantes_genero_y_edad.loc[postulantes_genero_y_edad.edad !=0].edad.mean()\n",
    "\n",
    "#Desviación estándar del set de datos\n",
    "desviacion = postulantes_genero_y_edad.loc[postulantes_genero_y_edad.edad !=0].edad.std()"
   ]
  },
  {
   "cell_type": "code",
   "execution_count": 41,
   "metadata": {},
   "outputs": [],
   "source": [
    "#Asigno edades\n",
    "\n",
    "postulantes_genero_y_edad.edad =  np.array([np.random.randint(edad_promedio-desviacion,edad_promedio+desviacion) if edad == 0 else edad for edad in postulantes_genero_y_edad.edad])"
   ]
  },
  {
   "cell_type": "code",
   "execution_count": 42,
   "metadata": {},
   "outputs": [
    {
     "data": {
      "text/plain": [
       "7          1\n",
       "9          1\n",
       "10         1\n",
       "11         1\n",
       "12         2\n",
       "13         1\n",
       "14         1\n",
       "15         1\n",
       "16         9\n",
       "17       197\n",
       "18      6446\n",
       "19     13332\n",
       "20     17655\n",
       "21     22600\n",
       "22     24711\n",
       "23     26327\n",
       "24     26837\n",
       "25     27306\n",
       "26     27769\n",
       "27     27349\n",
       "28     24714\n",
       "29     23391\n",
       "30     21638\n",
       "31     20499\n",
       "32     18781\n",
       "33     16672\n",
       "34     15667\n",
       "35     14607\n",
       "36     13944\n",
       "37     13186\n",
       "       ...  \n",
       "62       452\n",
       "63       316\n",
       "64       229\n",
       "65       171\n",
       "66       148\n",
       "67       127\n",
       "68        84\n",
       "69        59\n",
       "70        37\n",
       "71        22\n",
       "72        21\n",
       "73        15\n",
       "74        12\n",
       "75        12\n",
       "76         6\n",
       "77         3\n",
       "78         6\n",
       "79         2\n",
       "80         2\n",
       "81         1\n",
       "83         1\n",
       "85         1\n",
       "96         1\n",
       "99         1\n",
       "101        1\n",
       "102        2\n",
       "103        1\n",
       "116        1\n",
       "131        1\n",
       "243        1\n",
       "Name: edad, Length: 84, dtype: int64"
      ]
     },
     "execution_count": 42,
     "metadata": {},
     "output_type": "execute_result"
    }
   ],
   "source": [
    "#Todos tienen edades\n",
    "\n",
    "#OBS: Quisiera filtrar a los postulantes cuya edad no está en el intervalo [18,65]. Sin embargo, no puedo hacerlo\n",
    "#porque test_final_100k_ tiene varios registros pertenecientes a ellos.\n",
    "#Para los que tienen edad cero, una opción es asignarles edades al azar según la desviación del promedio, la otra es dejarlos omo están.\n",
    "#Veremos con cuál opción obtenemos mejores resultados.\n",
    "\n",
    "postulantes_genero_y_edad.edad.value_counts().sort_index()"
   ]
  },
  {
   "cell_type": "code",
   "execution_count": 43,
   "metadata": {},
   "outputs": [
    {
     "data": {
      "text/html": [
       "<div>\n",
       "<style scoped>\n",
       "    .dataframe tbody tr th:only-of-type {\n",
       "        vertical-align: middle;\n",
       "    }\n",
       "\n",
       "    .dataframe tbody tr th {\n",
       "        vertical-align: top;\n",
       "    }\n",
       "\n",
       "    .dataframe thead th {\n",
       "        text-align: right;\n",
       "    }\n",
       "</style>\n",
       "<table border=\"1\" class=\"dataframe\">\n",
       "  <thead>\n",
       "    <tr style=\"text-align: right;\">\n",
       "      <th></th>\n",
       "      <th>idpostulante</th>\n",
       "      <th>Cod_sexo</th>\n",
       "      <th>edad</th>\n",
       "      <th>Cod_edu</th>\n",
       "      <th>Cod_est</th>\n",
       "    </tr>\n",
       "  </thead>\n",
       "  <tbody>\n",
       "    <tr>\n",
       "      <th>0</th>\n",
       "      <td>6MM</td>\n",
       "      <td>0</td>\n",
       "      <td>33</td>\n",
       "      <td>0</td>\n",
       "      <td>0</td>\n",
       "    </tr>\n",
       "    <tr>\n",
       "      <th>1</th>\n",
       "      <td>ZX1</td>\n",
       "      <td>2</td>\n",
       "      <td>25</td>\n",
       "      <td>0</td>\n",
       "      <td>0</td>\n",
       "    </tr>\n",
       "    <tr>\n",
       "      <th>2</th>\n",
       "      <td>YZP</td>\n",
       "      <td>0</td>\n",
       "      <td>57</td>\n",
       "      <td>6</td>\n",
       "      <td>2</td>\n",
       "    </tr>\n",
       "    <tr>\n",
       "      <th>3</th>\n",
       "      <td>ebE</td>\n",
       "      <td>0</td>\n",
       "      <td>66</td>\n",
       "      <td>4</td>\n",
       "      <td>3</td>\n",
       "    </tr>\n",
       "    <tr>\n",
       "      <th>4</th>\n",
       "      <td>N1x</td>\n",
       "      <td>2</td>\n",
       "      <td>25</td>\n",
       "      <td>0</td>\n",
       "      <td>0</td>\n",
       "    </tr>\n",
       "  </tbody>\n",
       "</table>\n",
       "</div>"
      ],
      "text/plain": [
       "  idpostulante  Cod_sexo  edad Cod_edu Cod_est\n",
       "0          6MM         0    33       0       0\n",
       "1          ZX1         2    25       0       0\n",
       "2          YZP         0    57       6       2\n",
       "3          ebE         0    66       4       3\n",
       "4          N1x         2    25       0       0"
      ]
     },
     "execution_count": 43,
     "metadata": {},
     "output_type": "execute_result"
    }
   ],
   "source": [
    "#Merge de los datos de los postulantes\n",
    "\n",
    "postulantes = pd.merge(postulantes_genero_y_edad,postulantes_educacion,how='left',on='idpostulante')\n",
    "postulantes['Cod_est'] = postulantes['Cod_est'].fillna('0')\n",
    "postulantes['Cod_edu'] = postulantes['Cod_edu'].fillna('0')\n",
    "\n",
    "#Ya no necesito este dataframe\n",
    "del [[postulantes_genero_y_edad,postulantes_educacion]]\n",
    "gc.collect()\n",
    "\n",
    "postulantes.head()"
   ]
  },
  {
   "cell_type": "code",
   "execution_count": 44,
   "metadata": {},
   "outputs": [
    {
     "data": {
      "text/plain": [
       "idpostulante    False\n",
       "Cod_sexo        False\n",
       "edad            False\n",
       "Cod_edu         False\n",
       "Cod_est         False\n",
       "dtype: bool"
      ]
     },
     "execution_count": 44,
     "metadata": {},
     "output_type": "execute_result"
    }
   ],
   "source": [
    "postulantes.isnull().any()"
   ]
  },
  {
   "cell_type": "code",
   "execution_count": 45,
   "metadata": {},
   "outputs": [],
   "source": [
    "postulantes.set_index('idpostulante').to_csv('Datos/postulantes.csv')"
   ]
  },
  {
   "cell_type": "markdown",
   "metadata": {},
   "source": [
    "# Avisos"
   ]
  },
  {
   "cell_type": "code",
   "execution_count": 47,
   "metadata": {},
   "outputs": [],
   "source": [
    "avisos_detalle_desde_15_Abril = pd.read_csv('Datos/Fiuba_desde_15_Abril/fiuba_6_avisos_detalle.csv')\n",
    "avisos_online_hasta_15_abril = pd.read_csv('Datos/fiuba_hasta_15_abril/fiuba_5_avisos_online.csv')\n",
    "avisos_detalle_hasta_15_abril = pd.read_csv('Datos/fiuba_hasta_15_abril/fiuba_6_avisos_detalle.csv')\n",
    "avisos_online_original = pd.read_csv('Datos/datos_navent_fiuba/fiuba_5_avisos_online.csv')\n",
    "avisos_detalle_original = pd.read_csv('Datos/datos_navent_fiuba/fiuba_6_avisos_detalle.csv')\n",
    "avisos_detalle2 = pd.read_csv('Datos/fiuba_6_avisos_detalle_missing_nivel_laboral.csv')"
   ]
  },
  {
   "cell_type": "code",
   "execution_count": 48,
   "metadata": {},
   "outputs": [],
   "source": [
    "avisos_detalle = pd.concat([avisos_detalle2,avisos_detalle_desde_15_Abril,avisos_detalle_hasta_15_abril,avisos_detalle_original],axis=0).drop_duplicates('idaviso')\n",
    "avisos_online = pd.concat([avisos_online_hasta_15_abril,avisos_online_original],axis=0).drop_duplicates('idaviso')"
   ]
  },
  {
   "cell_type": "code",
   "execution_count": 49,
   "metadata": {},
   "outputs": [
    {
     "data": {
      "text/plain": [
       "65"
      ]
     },
     "execution_count": 49,
     "metadata": {},
     "output_type": "execute_result"
    }
   ],
   "source": [
    "#Ya no necesito este dataframe\n",
    "del [[avisos_detalle_desde_15_Abril,avisos_online_hasta_15_abril,avisos_detalle_hasta_15_abril,avisos_online_original,avisos_detalle_original,avisos_detalle2]]\n",
    "gc.collect()"
   ]
  },
  {
   "cell_type": "markdown",
   "metadata": {},
   "source": [
    "## Avisos detalle"
   ]
  },
  {
   "cell_type": "code",
   "execution_count": 50,
   "metadata": {},
   "outputs": [
    {
     "data": {
      "text/html": [
       "<div>\n",
       "<style scoped>\n",
       "    .dataframe tbody tr th:only-of-type {\n",
       "        vertical-align: middle;\n",
       "    }\n",
       "\n",
       "    .dataframe tbody tr th {\n",
       "        vertical-align: top;\n",
       "    }\n",
       "\n",
       "    .dataframe thead th {\n",
       "        text-align: right;\n",
       "    }\n",
       "</style>\n",
       "<table border=\"1\" class=\"dataframe\">\n",
       "  <thead>\n",
       "    <tr style=\"text-align: right;\">\n",
       "      <th></th>\n",
       "      <th>idaviso</th>\n",
       "      <th>idpais</th>\n",
       "      <th>titulo</th>\n",
       "      <th>descripcion</th>\n",
       "      <th>nombre_zona</th>\n",
       "      <th>ciudad</th>\n",
       "      <th>mapacalle</th>\n",
       "      <th>tipo_de_trabajo</th>\n",
       "      <th>nivel_laboral</th>\n",
       "      <th>nombre_area</th>\n",
       "      <th>denominacion_empresa</th>\n",
       "    </tr>\n",
       "  </thead>\n",
       "  <tbody>\n",
       "    <tr>\n",
       "      <th>0</th>\n",
       "      <td>1001284385</td>\n",
       "      <td>1</td>\n",
       "      <td>Dejanos tu CV</td>\n",
       "      <td>&lt;p&gt;&lt;br /&gt;Si est&amp;aacute;s interesado en ser par...</td>\n",
       "      <td>Corrientes</td>\n",
       "      <td>NaN</td>\n",
       "      <td>NaN</td>\n",
       "      <td>Full-time</td>\n",
       "      <td>NaN</td>\n",
       "      <td>Otros</td>\n",
       "      <td>Establecimiento Las Marías</td>\n",
       "    </tr>\n",
       "    <tr>\n",
       "      <th>1</th>\n",
       "      <td>1110092955</td>\n",
       "      <td>1</td>\n",
       "      <td>para línea de producción (ref. 28376)</td>\n",
       "      <td>&lt;p&gt;Empresas vinculadas a la industria automotr...</td>\n",
       "      <td>GBA Oeste</td>\n",
       "      <td>NaN</td>\n",
       "      <td>NaN</td>\n",
       "      <td>Full-time</td>\n",
       "      <td>NaN</td>\n",
       "      <td>Producción</td>\n",
       "      <td>RANDSTAD</td>\n",
       "    </tr>\n",
       "    <tr>\n",
       "      <th>2</th>\n",
       "      <td>1110092958</td>\n",
       "      <td>1</td>\n",
       "      <td>para mantenimiento (ref. 27181)</td>\n",
       "      <td>&lt;p style=\"display: inline !important;\"&gt;Empresa...</td>\n",
       "      <td>GBA Oeste</td>\n",
       "      <td>NaN</td>\n",
       "      <td>NaN</td>\n",
       "      <td>Full-time</td>\n",
       "      <td>NaN</td>\n",
       "      <td>Mantenimiento</td>\n",
       "      <td>RANDSTAD</td>\n",
       "    </tr>\n",
       "    <tr>\n",
       "      <th>3</th>\n",
       "      <td>1110391074</td>\n",
       "      <td>1</td>\n",
       "      <td>Trabajá con nosotros</td>\n",
       "      <td>&lt;p&gt;&lt;strong&gt;Trabaj&amp;aacute; con nosotros&lt;/strong...</td>\n",
       "      <td>Cordoba</td>\n",
       "      <td>NaN</td>\n",
       "      <td>NaN</td>\n",
       "      <td>Full-time</td>\n",
       "      <td>NaN</td>\n",
       "      <td>Ingeniería  Industrial</td>\n",
       "      <td>Coca Cola Andina Argentina</td>\n",
       "    </tr>\n",
       "    <tr>\n",
       "      <th>4</th>\n",
       "      <td>1110669632</td>\n",
       "      <td>1</td>\n",
       "      <td>Técnico de Mantenimiento</td>\n",
       "      <td>&lt;p&gt;Experiencia en f&amp;aacute;bricas cosm&amp;eacute;...</td>\n",
       "      <td>GBA Oeste</td>\n",
       "      <td>NaN</td>\n",
       "      <td>, Lanús</td>\n",
       "      <td>Full-time</td>\n",
       "      <td>NaN</td>\n",
       "      <td>Mantenimiento</td>\n",
       "      <td>PLUMARI S A</td>\n",
       "    </tr>\n",
       "  </tbody>\n",
       "</table>\n",
       "</div>"
      ],
      "text/plain": [
       "      idaviso  idpais                                 titulo  \\\n",
       "0  1001284385       1                          Dejanos tu CV   \n",
       "1  1110092955       1  para línea de producción (ref. 28376)   \n",
       "2  1110092958       1        para mantenimiento (ref. 27181)   \n",
       "3  1110391074       1                   Trabajá con nosotros   \n",
       "4  1110669632       1               Técnico de Mantenimiento   \n",
       "\n",
       "                                         descripcion nombre_zona ciudad  \\\n",
       "0  <p><br />Si est&aacute;s interesado en ser par...  Corrientes    NaN   \n",
       "1  <p>Empresas vinculadas a la industria automotr...   GBA Oeste    NaN   \n",
       "2  <p style=\"display: inline !important;\">Empresa...   GBA Oeste    NaN   \n",
       "3  <p><strong>Trabaj&aacute; con nosotros</strong...     Cordoba    NaN   \n",
       "4  <p>Experiencia en f&aacute;bricas cosm&eacute;...   GBA Oeste    NaN   \n",
       "\n",
       "  mapacalle tipo_de_trabajo nivel_laboral             nombre_area  \\\n",
       "0       NaN       Full-time           NaN                   Otros   \n",
       "1       NaN       Full-time           NaN              Producción   \n",
       "2       NaN       Full-time           NaN           Mantenimiento   \n",
       "3       NaN       Full-time           NaN  Ingeniería  Industrial   \n",
       "4   , Lanús       Full-time           NaN           Mantenimiento   \n",
       "\n",
       "         denominacion_empresa  \n",
       "0  Establecimiento Las Marías  \n",
       "1                    RANDSTAD  \n",
       "2                    RANDSTAD  \n",
       "3  Coca Cola Andina Argentina  \n",
       "4                 PLUMARI S A  "
      ]
     },
     "execution_count": 50,
     "metadata": {},
     "output_type": "execute_result"
    }
   ],
   "source": [
    "avisos_detalle.head()"
   ]
  },
  {
   "cell_type": "code",
   "execution_count": 51,
   "metadata": {},
   "outputs": [
    {
     "data": {
      "text/plain": [
       "idaviso                 False\n",
       "idpais                  False\n",
       "titulo                  False\n",
       "descripcion             False\n",
       "nombre_zona             False\n",
       "ciudad                   True\n",
       "mapacalle                True\n",
       "tipo_de_trabajo         False\n",
       "nivel_laboral            True\n",
       "nombre_area             False\n",
       "denominacion_empresa     True\n",
       "dtype: bool"
      ]
     },
     "execution_count": 51,
     "metadata": {},
     "output_type": "execute_result"
    }
   ],
   "source": [
    "#Hay registros nulos\n",
    "avisos_detalle.isnull().any()"
   ]
  },
  {
   "cell_type": "code",
   "execution_count": 52,
   "metadata": {},
   "outputs": [
    {
     "name": "stdout",
     "output_type": "stream",
     "text": [
      "25128\n",
      "23218\n",
      "335\n",
      "7\n"
     ]
    }
   ],
   "source": [
    "#Práctimente ningún registro tiene mapacalle o ciudad, no parecen ser features que me vayan a aportar de cara\n",
    "#a armar el modelo\n",
    "\n",
    "print (len(avisos_detalle.loc[avisos_detalle.ciudad.isnull()]))\n",
    "print (len(avisos_detalle.loc[avisos_detalle.mapacalle.isnull()]))\n",
    "print (len(avisos_detalle.loc[avisos_detalle.nivel_laboral.isnull()]))\n",
    "print (len(avisos_detalle.loc[avisos_detalle.denominacion_empresa.isnull()]))"
   ]
  },
  {
   "cell_type": "code",
   "execution_count": 53,
   "metadata": {},
   "outputs": [],
   "source": [
    "avisos_detalle=avisos_detalle.fillna(0)"
   ]
  },
  {
   "cell_type": "code",
   "execution_count": 54,
   "metadata": {},
   "outputs": [],
   "source": [
    "avisos_detalle['mapacalle'] = np.array([0 if mapacalle == 0 else 1 for mapacalle in avisos_detalle.mapacalle])\n",
    "##################################################################################################################\n",
    "avisos_detalle['ciudad'] = np.array([0 if ciudad == 0 else 1 for ciudad in avisos_detalle.ciudad])\n",
    "##################################################################################################################\n",
    "#Agrego una columna al datframe que me muestre el largo del título del aviso\n",
    "dic={}\n",
    "for x in set(avisos_detalle.titulo.values):\n",
    "    dic[x] = len(x)\n",
    "    \n",
    "avisos_detalle['longitud_titulo'] = avisos_detalle['titulo'].map(dic).astype(int)\n",
    "##################################################################################################################\n",
    "#Agrego una columna al datframe que me muestre el largo de la descripción del aviso\n",
    "dic={}\n",
    "for x in set(avisos_detalle.descripcion.values):\n",
    "    dic[x] = len(x)\n",
    "    \n",
    "avisos_detalle['longitud_descripcion'] = avisos_detalle['descripcion'].map(dic).astype(int)\n",
    "##################################################################################################################\n",
    "#Codifico nivel laboral\n",
    "dic={}\n",
    "cod=1\n",
    "for x in set(avisos_detalle.nivel_laboral.values):\n",
    "    dic[x] = cod\n",
    "    cod+=1\n",
    "    \n",
    "avisos_detalle['nivel_laboral'] = avisos_detalle['nivel_laboral'].map(dic).astype(int)\n",
    "##################################################################################################################\n",
    "#Codifico denominacion empresa\n",
    "dic={}\n",
    "cod=1\n",
    "for x in set(avisos_detalle.denominacion_empresa.values):\n",
    "    dic[x] = cod\n",
    "    cod+=1\n",
    "    \n",
    "avisos_detalle['denominacion_empresa'] = avisos_detalle['denominacion_empresa'].map(dic).astype(int)\n",
    "##################################################################################################################\n",
    "#Codifico las zonas\n",
    "avisos_detalle['nombre_zona'] = avisos_detalle['nombre_zona'].map( {'Gran Buenos Aires':1,\n",
    "                                    'Capital Federal':2,\n",
    "                                    'Buenos Aires (fuera de GBA)':3,\n",
    "                                    'GBA Oeste':4,\n",
    "                                    'La Plata':5,\n",
    "                                    'Ciudad de Mendoza':6,\n",
    "                                    'Mendoza':7,\n",
    "                                    'Cordoba':8,\n",
    "                                    'Rosario':9,\n",
    "                                    'Santa Cruz':10,\n",
    "                                    'Santa Fe':11,\n",
    "                                    'San Juan':12,\n",
    "                                    'Corrientes':13,\n",
    "                                    'Tucuman':14,\n",
    "                                    'Catamarca':15,\n",
    "                                    'Neuquen':16} \n",
    "                                  ).astype(int)\n",
    "\n",
    "##################################################################################################################\n",
    "#Codifico los tipos de trabajo\n",
    "avisos_detalle['tipo_de_trabajo'] = avisos_detalle['tipo_de_trabajo'].map( {'Full-time':1,\n",
    "                                        'Part-time':2,\n",
    "                                        'Teletrabajo':3,\n",
    "                                        'Por Horas':4,\n",
    "                                        'Pasantia':5,\n",
    "                                        'Temporario':6,\n",
    "                                        'Por Contrato':7,\n",
    "                                        'Fines de Semana':8,\n",
    "                                        'Primer empleo':9,\n",
    "                                        'Voluntario'  :10\n",
    "                                        }\n",
    "                                     ).astype(int)\n",
    "##################################################################################################################\n",
    "#Codifico las areas de trabajo\n",
    "dic={}\n",
    "cod=1\n",
    "for x in set(avisos_detalle.nombre_area.values):\n",
    "    dic[x] = cod\n",
    "    cod+=1\n",
    "    \n",
    "avisos_detalle['nombre_area'] = avisos_detalle['nombre_area'].map(dic).astype(int)"
   ]
  },
  {
   "cell_type": "code",
   "execution_count": 55,
   "metadata": {},
   "outputs": [
    {
     "data": {
      "text/html": [
       "<div>\n",
       "<style scoped>\n",
       "    .dataframe tbody tr th:only-of-type {\n",
       "        vertical-align: middle;\n",
       "    }\n",
       "\n",
       "    .dataframe tbody tr th {\n",
       "        vertical-align: top;\n",
       "    }\n",
       "\n",
       "    .dataframe thead th {\n",
       "        text-align: right;\n",
       "    }\n",
       "</style>\n",
       "<table border=\"1\" class=\"dataframe\">\n",
       "  <thead>\n",
       "    <tr style=\"text-align: right;\">\n",
       "      <th></th>\n",
       "      <th>idaviso</th>\n",
       "      <th>nombre_zona</th>\n",
       "      <th>tipo_de_trabajo</th>\n",
       "      <th>nombre_area</th>\n",
       "      <th>longitud_titulo</th>\n",
       "      <th>longitud_descripcion</th>\n",
       "      <th>nivel_laboral</th>\n",
       "      <th>denominacion_empresa</th>\n",
       "      <th>mapacalle</th>\n",
       "      <th>ciudad</th>\n",
       "    </tr>\n",
       "  </thead>\n",
       "  <tbody>\n",
       "    <tr>\n",
       "      <th>0</th>\n",
       "      <td>1001284385</td>\n",
       "      <td>13</td>\n",
       "      <td>1</td>\n",
       "      <td>186</td>\n",
       "      <td>13</td>\n",
       "      <td>116</td>\n",
       "      <td>1</td>\n",
       "      <td>3718</td>\n",
       "      <td>0</td>\n",
       "      <td>0</td>\n",
       "    </tr>\n",
       "    <tr>\n",
       "      <th>1</th>\n",
       "      <td>1110092955</td>\n",
       "      <td>4</td>\n",
       "      <td>1</td>\n",
       "      <td>112</td>\n",
       "      <td>39</td>\n",
       "      <td>565</td>\n",
       "      <td>1</td>\n",
       "      <td>1859</td>\n",
       "      <td>0</td>\n",
       "      <td>0</td>\n",
       "    </tr>\n",
       "    <tr>\n",
       "      <th>2</th>\n",
       "      <td>1110092958</td>\n",
       "      <td>4</td>\n",
       "      <td>1</td>\n",
       "      <td>18</td>\n",
       "      <td>31</td>\n",
       "      <td>675</td>\n",
       "      <td>1</td>\n",
       "      <td>1859</td>\n",
       "      <td>0</td>\n",
       "      <td>0</td>\n",
       "    </tr>\n",
       "    <tr>\n",
       "      <th>3</th>\n",
       "      <td>1110391074</td>\n",
       "      <td>8</td>\n",
       "      <td>1</td>\n",
       "      <td>16</td>\n",
       "      <td>21</td>\n",
       "      <td>576</td>\n",
       "      <td>1</td>\n",
       "      <td>146</td>\n",
       "      <td>0</td>\n",
       "      <td>0</td>\n",
       "    </tr>\n",
       "    <tr>\n",
       "      <th>4</th>\n",
       "      <td>1110669632</td>\n",
       "      <td>4</td>\n",
       "      <td>1</td>\n",
       "      <td>18</td>\n",
       "      <td>25</td>\n",
       "      <td>470</td>\n",
       "      <td>1</td>\n",
       "      <td>3408</td>\n",
       "      <td>1</td>\n",
       "      <td>0</td>\n",
       "    </tr>\n",
       "  </tbody>\n",
       "</table>\n",
       "</div>"
      ],
      "text/plain": [
       "      idaviso  nombre_zona  tipo_de_trabajo  nombre_area  longitud_titulo  \\\n",
       "0  1001284385           13                1          186               13   \n",
       "1  1110092955            4                1          112               39   \n",
       "2  1110092958            4                1           18               31   \n",
       "3  1110391074            8                1           16               21   \n",
       "4  1110669632            4                1           18               25   \n",
       "\n",
       "   longitud_descripcion  nivel_laboral  denominacion_empresa  mapacalle  \\\n",
       "0                   116              1                  3718          0   \n",
       "1                   565              1                  1859          0   \n",
       "2                   675              1                  1859          0   \n",
       "3                   576              1                   146          0   \n",
       "4                   470              1                  3408          1   \n",
       "\n",
       "   ciudad  \n",
       "0       0  \n",
       "1       0  \n",
       "2       0  \n",
       "3       0  \n",
       "4       0  "
      ]
     },
     "execution_count": 55,
     "metadata": {},
     "output_type": "execute_result"
    }
   ],
   "source": [
    "avisos_detalle = avisos_detalle[['idaviso','nombre_zona','tipo_de_trabajo','nombre_area','longitud_titulo','longitud_descripcion','nivel_laboral','denominacion_empresa','mapacalle','ciudad']]\n",
    "avisos_detalle.head()"
   ]
  },
  {
   "cell_type": "markdown",
   "metadata": {},
   "source": [
    "## Avisos online "
   ]
  },
  {
   "cell_type": "code",
   "execution_count": 56,
   "metadata": {},
   "outputs": [],
   "source": [
    "avisos_online['online']=int(1)"
   ]
  },
  {
   "cell_type": "code",
   "execution_count": 57,
   "metadata": {},
   "outputs": [],
   "source": [
    "avisos_detalle = pd.merge(avisos_detalle,avisos_online,on='idaviso',how='left')\n",
    "avisos_detalle['online'] = avisos_detalle['online'].fillna(int(0))"
   ]
  },
  {
   "cell_type": "code",
   "execution_count": 58,
   "metadata": {
    "scrolled": true
   },
   "outputs": [
    {
     "data": {
      "text/plain": [
       "idaviso                 False\n",
       "nombre_zona             False\n",
       "tipo_de_trabajo         False\n",
       "nombre_area             False\n",
       "longitud_titulo         False\n",
       "longitud_descripcion    False\n",
       "nivel_laboral           False\n",
       "denominacion_empresa    False\n",
       "mapacalle               False\n",
       "ciudad                  False\n",
       "online                  False\n",
       "dtype: bool"
      ]
     },
     "execution_count": 58,
     "metadata": {},
     "output_type": "execute_result"
    }
   ],
   "source": [
    "avisos_detalle.isnull().any()"
   ]
  },
  {
   "cell_type": "code",
   "execution_count": 59,
   "metadata": {},
   "outputs": [
    {
     "data": {
      "text/plain": [
       "30"
      ]
     },
     "execution_count": 59,
     "metadata": {},
     "output_type": "execute_result"
    }
   ],
   "source": [
    "del[avisos_online]\n",
    "gc.collect()"
   ]
  },
  {
   "cell_type": "code",
   "execution_count": 60,
   "metadata": {},
   "outputs": [
    {
     "data": {
      "text/html": [
       "<div>\n",
       "<style scoped>\n",
       "    .dataframe tbody tr th:only-of-type {\n",
       "        vertical-align: middle;\n",
       "    }\n",
       "\n",
       "    .dataframe tbody tr th {\n",
       "        vertical-align: top;\n",
       "    }\n",
       "\n",
       "    .dataframe thead th {\n",
       "        text-align: right;\n",
       "    }\n",
       "</style>\n",
       "<table border=\"1\" class=\"dataframe\">\n",
       "  <thead>\n",
       "    <tr style=\"text-align: right;\">\n",
       "      <th></th>\n",
       "      <th>idaviso</th>\n",
       "      <th>nombre_zona</th>\n",
       "      <th>tipo_de_trabajo</th>\n",
       "      <th>nombre_area</th>\n",
       "      <th>longitud_titulo</th>\n",
       "      <th>longitud_descripcion</th>\n",
       "      <th>nivel_laboral</th>\n",
       "      <th>denominacion_empresa</th>\n",
       "      <th>mapacalle</th>\n",
       "      <th>ciudad</th>\n",
       "      <th>online</th>\n",
       "    </tr>\n",
       "  </thead>\n",
       "  <tbody>\n",
       "    <tr>\n",
       "      <th>0</th>\n",
       "      <td>1001284385</td>\n",
       "      <td>13</td>\n",
       "      <td>1</td>\n",
       "      <td>186</td>\n",
       "      <td>13</td>\n",
       "      <td>116</td>\n",
       "      <td>1</td>\n",
       "      <td>3718</td>\n",
       "      <td>0</td>\n",
       "      <td>0</td>\n",
       "      <td>1.0</td>\n",
       "    </tr>\n",
       "    <tr>\n",
       "      <th>1</th>\n",
       "      <td>1110092955</td>\n",
       "      <td>4</td>\n",
       "      <td>1</td>\n",
       "      <td>112</td>\n",
       "      <td>39</td>\n",
       "      <td>565</td>\n",
       "      <td>1</td>\n",
       "      <td>1859</td>\n",
       "      <td>0</td>\n",
       "      <td>0</td>\n",
       "      <td>1.0</td>\n",
       "    </tr>\n",
       "    <tr>\n",
       "      <th>2</th>\n",
       "      <td>1110092958</td>\n",
       "      <td>4</td>\n",
       "      <td>1</td>\n",
       "      <td>18</td>\n",
       "      <td>31</td>\n",
       "      <td>675</td>\n",
       "      <td>1</td>\n",
       "      <td>1859</td>\n",
       "      <td>0</td>\n",
       "      <td>0</td>\n",
       "      <td>1.0</td>\n",
       "    </tr>\n",
       "    <tr>\n",
       "      <th>3</th>\n",
       "      <td>1110391074</td>\n",
       "      <td>8</td>\n",
       "      <td>1</td>\n",
       "      <td>16</td>\n",
       "      <td>21</td>\n",
       "      <td>576</td>\n",
       "      <td>1</td>\n",
       "      <td>146</td>\n",
       "      <td>0</td>\n",
       "      <td>0</td>\n",
       "      <td>1.0</td>\n",
       "    </tr>\n",
       "    <tr>\n",
       "      <th>4</th>\n",
       "      <td>1110669632</td>\n",
       "      <td>4</td>\n",
       "      <td>1</td>\n",
       "      <td>18</td>\n",
       "      <td>25</td>\n",
       "      <td>470</td>\n",
       "      <td>1</td>\n",
       "      <td>3408</td>\n",
       "      <td>1</td>\n",
       "      <td>0</td>\n",
       "      <td>1.0</td>\n",
       "    </tr>\n",
       "  </tbody>\n",
       "</table>\n",
       "</div>"
      ],
      "text/plain": [
       "      idaviso  nombre_zona  tipo_de_trabajo  nombre_area  longitud_titulo  \\\n",
       "0  1001284385           13                1          186               13   \n",
       "1  1110092955            4                1          112               39   \n",
       "2  1110092958            4                1           18               31   \n",
       "3  1110391074            8                1           16               21   \n",
       "4  1110669632            4                1           18               25   \n",
       "\n",
       "   longitud_descripcion  nivel_laboral  denominacion_empresa  mapacalle  \\\n",
       "0                   116              1                  3718          0   \n",
       "1                   565              1                  1859          0   \n",
       "2                   675              1                  1859          0   \n",
       "3                   576              1                   146          0   \n",
       "4                   470              1                  3408          1   \n",
       "\n",
       "   ciudad  online  \n",
       "0       0     1.0  \n",
       "1       0     1.0  \n",
       "2       0     1.0  \n",
       "3       0     1.0  \n",
       "4       0     1.0  "
      ]
     },
     "execution_count": 60,
     "metadata": {},
     "output_type": "execute_result"
    }
   ],
   "source": [
    "avisos_detalle.head()"
   ]
  },
  {
   "cell_type": "code",
   "execution_count": 61,
   "metadata": {},
   "outputs": [],
   "source": [
    "avisos_detalle.set_index('idaviso').to_csv('Datos/avisos_detalle.csv')"
   ]
  },
  {
   "cell_type": "markdown",
   "metadata": {},
   "source": [
    "## Postulaciones"
   ]
  },
  {
   "cell_type": "code",
   "execution_count": 62,
   "metadata": {},
   "outputs": [],
   "source": [
    "postulaciones_hasta_15_abril = pd.read_csv('Datos/fiuba_hasta_15_abril/fiuba_4_postulaciones.csv')\n",
    "postulaciones_original = pd.read_csv('Datos/datos_navent_fiuba/fiuba_4_postulaciones.csv')"
   ]
  },
  {
   "cell_type": "code",
   "execution_count": 63,
   "metadata": {},
   "outputs": [],
   "source": [
    "#Concateno datos de todos los sets y filtro repetidos\n",
    "\n",
    "postulaciones = pd.concat([postulaciones_hasta_15_abril,postulaciones_original],axis=0).drop_duplicates()"
   ]
  },
  {
   "cell_type": "code",
   "execution_count": 64,
   "metadata": {},
   "outputs": [
    {
     "data": {
      "text/plain": [
       "323"
      ]
     },
     "execution_count": 64,
     "metadata": {},
     "output_type": "execute_result"
    }
   ],
   "source": [
    "#Ya no necesito este dataframe\n",
    "del [[postulaciones_hasta_15_abril,postulaciones_original]]\n",
    "gc.collect()"
   ]
  },
  {
   "cell_type": "code",
   "execution_count": 65,
   "metadata": {},
   "outputs": [
    {
     "data": {
      "text/html": [
       "<div>\n",
       "<style scoped>\n",
       "    .dataframe tbody tr th:only-of-type {\n",
       "        vertical-align: middle;\n",
       "    }\n",
       "\n",
       "    .dataframe tbody tr th {\n",
       "        vertical-align: top;\n",
       "    }\n",
       "\n",
       "    .dataframe thead th {\n",
       "        text-align: right;\n",
       "    }\n",
       "</style>\n",
       "<table border=\"1\" class=\"dataframe\">\n",
       "  <thead>\n",
       "    <tr style=\"text-align: right;\">\n",
       "      <th></th>\n",
       "      <th>idaviso</th>\n",
       "      <th>idpostulante</th>\n",
       "      <th>fechapostulacion</th>\n",
       "    </tr>\n",
       "  </thead>\n",
       "  <tbody>\n",
       "    <tr>\n",
       "      <th>0</th>\n",
       "      <td>1112248724</td>\n",
       "      <td>NjlD</td>\n",
       "      <td>2018-01-19 07:39:16</td>\n",
       "    </tr>\n",
       "    <tr>\n",
       "      <th>1</th>\n",
       "      <td>1112286523</td>\n",
       "      <td>ZaO5</td>\n",
       "      <td>2018-01-24 15:07:39</td>\n",
       "    </tr>\n",
       "    <tr>\n",
       "      <th>2</th>\n",
       "      <td>1112272060</td>\n",
       "      <td>ZaO5</td>\n",
       "      <td>2018-01-24 15:20:10</td>\n",
       "    </tr>\n",
       "    <tr>\n",
       "      <th>3</th>\n",
       "      <td>1112288401</td>\n",
       "      <td>ZaO5</td>\n",
       "      <td>2018-01-26 08:37:04</td>\n",
       "    </tr>\n",
       "    <tr>\n",
       "      <th>4</th>\n",
       "      <td>1112300563</td>\n",
       "      <td>ZaO5</td>\n",
       "      <td>2018-01-30 13:35:48</td>\n",
       "    </tr>\n",
       "  </tbody>\n",
       "</table>\n",
       "</div>"
      ],
      "text/plain": [
       "      idaviso idpostulante     fechapostulacion\n",
       "0  1112248724         NjlD  2018-01-19 07:39:16\n",
       "1  1112286523         ZaO5  2018-01-24 15:07:39\n",
       "2  1112272060         ZaO5  2018-01-24 15:20:10\n",
       "3  1112288401         ZaO5  2018-01-26 08:37:04\n",
       "4  1112300563         ZaO5  2018-01-30 13:35:48"
      ]
     },
     "execution_count": 65,
     "metadata": {},
     "output_type": "execute_result"
    }
   ],
   "source": [
    "postulaciones.head()"
   ]
  },
  {
   "cell_type": "code",
   "execution_count": 66,
   "metadata": {},
   "outputs": [
    {
     "data": {
      "text/plain": [
       "idaviso             False\n",
       "idpostulante        False\n",
       "fechapostulacion    False\n",
       "dtype: bool"
      ]
     },
     "execution_count": 66,
     "metadata": {},
     "output_type": "execute_result"
    }
   ],
   "source": [
    "#No hay registros nulos\n",
    "\n",
    "postulaciones.isnull().any()"
   ]
  },
  {
   "cell_type": "code",
   "execution_count": 67,
   "metadata": {},
   "outputs": [
    {
     "data": {
      "text/html": [
       "<div>\n",
       "<style scoped>\n",
       "    .dataframe tbody tr th:only-of-type {\n",
       "        vertical-align: middle;\n",
       "    }\n",
       "\n",
       "    .dataframe tbody tr th {\n",
       "        vertical-align: top;\n",
       "    }\n",
       "\n",
       "    .dataframe thead th {\n",
       "        text-align: right;\n",
       "    }\n",
       "</style>\n",
       "<table border=\"1\" class=\"dataframe\">\n",
       "  <thead>\n",
       "    <tr style=\"text-align: right;\">\n",
       "      <th></th>\n",
       "      <th>idaviso</th>\n",
       "      <th>idpostulante</th>\n",
       "      <th>fechapostulacion</th>\n",
       "      <th>nombre_zona</th>\n",
       "      <th>tipo_de_trabajo</th>\n",
       "      <th>nombre_area</th>\n",
       "      <th>longitud_titulo</th>\n",
       "      <th>longitud_descripcion</th>\n",
       "      <th>nivel_laboral</th>\n",
       "      <th>denominacion_empresa</th>\n",
       "      <th>mapacalle</th>\n",
       "      <th>ciudad</th>\n",
       "      <th>online</th>\n",
       "    </tr>\n",
       "  </thead>\n",
       "  <tbody>\n",
       "    <tr>\n",
       "      <th>0</th>\n",
       "      <td>1112248724</td>\n",
       "      <td>NjlD</td>\n",
       "      <td>2018-01-19 07:39:16</td>\n",
       "      <td>1</td>\n",
       "      <td>1</td>\n",
       "      <td>153</td>\n",
       "      <td>35</td>\n",
       "      <td>1173</td>\n",
       "      <td>2</td>\n",
       "      <td>2477</td>\n",
       "      <td>0</td>\n",
       "      <td>0</td>\n",
       "      <td>0.0</td>\n",
       "    </tr>\n",
       "    <tr>\n",
       "      <th>1</th>\n",
       "      <td>1112248724</td>\n",
       "      <td>MV6eM8N</td>\n",
       "      <td>2018-01-30 23:44:30</td>\n",
       "      <td>1</td>\n",
       "      <td>1</td>\n",
       "      <td>153</td>\n",
       "      <td>35</td>\n",
       "      <td>1173</td>\n",
       "      <td>2</td>\n",
       "      <td>2477</td>\n",
       "      <td>0</td>\n",
       "      <td>0</td>\n",
       "      <td>0.0</td>\n",
       "    </tr>\n",
       "    <tr>\n",
       "      <th>2</th>\n",
       "      <td>1112248724</td>\n",
       "      <td>5LzQkN</td>\n",
       "      <td>2018-01-15 07:23:49</td>\n",
       "      <td>1</td>\n",
       "      <td>1</td>\n",
       "      <td>153</td>\n",
       "      <td>35</td>\n",
       "      <td>1173</td>\n",
       "      <td>2</td>\n",
       "      <td>2477</td>\n",
       "      <td>0</td>\n",
       "      <td>0</td>\n",
       "      <td>0.0</td>\n",
       "    </tr>\n",
       "    <tr>\n",
       "      <th>3</th>\n",
       "      <td>1112248724</td>\n",
       "      <td>8M2rOBz</td>\n",
       "      <td>2018-01-30 22:20:45</td>\n",
       "      <td>1</td>\n",
       "      <td>1</td>\n",
       "      <td>153</td>\n",
       "      <td>35</td>\n",
       "      <td>1173</td>\n",
       "      <td>2</td>\n",
       "      <td>2477</td>\n",
       "      <td>0</td>\n",
       "      <td>0</td>\n",
       "      <td>0.0</td>\n",
       "    </tr>\n",
       "    <tr>\n",
       "      <th>4</th>\n",
       "      <td>1112248724</td>\n",
       "      <td>Dr6V3Da</td>\n",
       "      <td>2018-01-23 15:11:35</td>\n",
       "      <td>1</td>\n",
       "      <td>1</td>\n",
       "      <td>153</td>\n",
       "      <td>35</td>\n",
       "      <td>1173</td>\n",
       "      <td>2</td>\n",
       "      <td>2477</td>\n",
       "      <td>0</td>\n",
       "      <td>0</td>\n",
       "      <td>0.0</td>\n",
       "    </tr>\n",
       "  </tbody>\n",
       "</table>\n",
       "</div>"
      ],
      "text/plain": [
       "      idaviso idpostulante     fechapostulacion  nombre_zona  tipo_de_trabajo  \\\n",
       "0  1112248724         NjlD  2018-01-19 07:39:16            1                1   \n",
       "1  1112248724      MV6eM8N  2018-01-30 23:44:30            1                1   \n",
       "2  1112248724       5LzQkN  2018-01-15 07:23:49            1                1   \n",
       "3  1112248724      8M2rOBz  2018-01-30 22:20:45            1                1   \n",
       "4  1112248724      Dr6V3Da  2018-01-23 15:11:35            1                1   \n",
       "\n",
       "   nombre_area  longitud_titulo  longitud_descripcion  nivel_laboral  \\\n",
       "0          153               35                  1173              2   \n",
       "1          153               35                  1173              2   \n",
       "2          153               35                  1173              2   \n",
       "3          153               35                  1173              2   \n",
       "4          153               35                  1173              2   \n",
       "\n",
       "   denominacion_empresa  mapacalle  ciudad  online  \n",
       "0                  2477          0       0     0.0  \n",
       "1                  2477          0       0     0.0  \n",
       "2                  2477          0       0     0.0  \n",
       "3                  2477          0       0     0.0  \n",
       "4                  2477          0       0     0.0  "
      ]
     },
     "execution_count": 67,
     "metadata": {},
     "output_type": "execute_result"
    }
   ],
   "source": [
    "postulaciones = pd.merge(postulaciones,avisos_detalle,on='idaviso',how='inner')\n",
    "postulaciones.head()"
   ]
  },
  {
   "cell_type": "code",
   "execution_count": 68,
   "metadata": {},
   "outputs": [],
   "source": [
    "#Saco las postulaciones que se repiten\n",
    "postulaciones = postulaciones.drop_duplicates(subset=['idaviso','idpostulante'])"
   ]
  },
  {
   "cell_type": "code",
   "execution_count": 69,
   "metadata": {},
   "outputs": [],
   "source": [
    "#Todas las postulaciones historicas\n",
    "\n",
    "postulaciones_historico = pd.merge(postulantes,postulaciones.drop(['fechapostulacion'],axis=1),on='idpostulante',how='inner')"
   ]
  },
  {
   "cell_type": "code",
   "execution_count": 70,
   "metadata": {
    "scrolled": true
   },
   "outputs": [
    {
     "data": {
      "text/html": [
       "<div>\n",
       "<style scoped>\n",
       "    .dataframe tbody tr th:only-of-type {\n",
       "        vertical-align: middle;\n",
       "    }\n",
       "\n",
       "    .dataframe tbody tr th {\n",
       "        vertical-align: top;\n",
       "    }\n",
       "\n",
       "    .dataframe thead th {\n",
       "        text-align: right;\n",
       "    }\n",
       "</style>\n",
       "<table border=\"1\" class=\"dataframe\">\n",
       "  <thead>\n",
       "    <tr style=\"text-align: right;\">\n",
       "      <th></th>\n",
       "      <th>idpostulante</th>\n",
       "      <th>Cod_sexo</th>\n",
       "      <th>edad</th>\n",
       "      <th>Cod_edu</th>\n",
       "      <th>Cod_est</th>\n",
       "      <th>idaviso</th>\n",
       "      <th>nombre_zona</th>\n",
       "      <th>tipo_de_trabajo</th>\n",
       "      <th>nombre_area</th>\n",
       "      <th>longitud_titulo</th>\n",
       "      <th>longitud_descripcion</th>\n",
       "      <th>nivel_laboral</th>\n",
       "      <th>denominacion_empresa</th>\n",
       "      <th>mapacalle</th>\n",
       "      <th>ciudad</th>\n",
       "      <th>online</th>\n",
       "      <th>sepostulo</th>\n",
       "    </tr>\n",
       "  </thead>\n",
       "  <tbody>\n",
       "    <tr>\n",
       "      <th>0</th>\n",
       "      <td>aEW8J</td>\n",
       "      <td>1</td>\n",
       "      <td>53</td>\n",
       "      <td>4</td>\n",
       "      <td>2</td>\n",
       "      <td>1112028437</td>\n",
       "      <td>1</td>\n",
       "      <td>1</td>\n",
       "      <td>157</td>\n",
       "      <td>33</td>\n",
       "      <td>1420</td>\n",
       "      <td>2</td>\n",
       "      <td>4016</td>\n",
       "      <td>0</td>\n",
       "      <td>0</td>\n",
       "      <td>1.0</td>\n",
       "      <td>1</td>\n",
       "    </tr>\n",
       "    <tr>\n",
       "      <th>1</th>\n",
       "      <td>aEW8J</td>\n",
       "      <td>1</td>\n",
       "      <td>53</td>\n",
       "      <td>4</td>\n",
       "      <td>2</td>\n",
       "      <td>1112263553</td>\n",
       "      <td>1</td>\n",
       "      <td>1</td>\n",
       "      <td>157</td>\n",
       "      <td>35</td>\n",
       "      <td>1602</td>\n",
       "      <td>3</td>\n",
       "      <td>3084</td>\n",
       "      <td>0</td>\n",
       "      <td>0</td>\n",
       "      <td>0.0</td>\n",
       "      <td>1</td>\n",
       "    </tr>\n",
       "    <tr>\n",
       "      <th>2</th>\n",
       "      <td>aEW8J</td>\n",
       "      <td>1</td>\n",
       "      <td>53</td>\n",
       "      <td>4</td>\n",
       "      <td>2</td>\n",
       "      <td>1112262301</td>\n",
       "      <td>1</td>\n",
       "      <td>1</td>\n",
       "      <td>75</td>\n",
       "      <td>53</td>\n",
       "      <td>1537</td>\n",
       "      <td>2</td>\n",
       "      <td>1488</td>\n",
       "      <td>0</td>\n",
       "      <td>0</td>\n",
       "      <td>0.0</td>\n",
       "      <td>1</td>\n",
       "    </tr>\n",
       "    <tr>\n",
       "      <th>3</th>\n",
       "      <td>aEW8J</td>\n",
       "      <td>1</td>\n",
       "      <td>53</td>\n",
       "      <td>4</td>\n",
       "      <td>2</td>\n",
       "      <td>1112280883</td>\n",
       "      <td>1</td>\n",
       "      <td>1</td>\n",
       "      <td>75</td>\n",
       "      <td>42</td>\n",
       "      <td>1625</td>\n",
       "      <td>3</td>\n",
       "      <td>3819</td>\n",
       "      <td>0</td>\n",
       "      <td>0</td>\n",
       "      <td>1.0</td>\n",
       "      <td>1</td>\n",
       "    </tr>\n",
       "    <tr>\n",
       "      <th>4</th>\n",
       "      <td>aEW8J</td>\n",
       "      <td>1</td>\n",
       "      <td>53</td>\n",
       "      <td>4</td>\n",
       "      <td>2</td>\n",
       "      <td>1112284858</td>\n",
       "      <td>1</td>\n",
       "      <td>1</td>\n",
       "      <td>157</td>\n",
       "      <td>70</td>\n",
       "      <td>2588</td>\n",
       "      <td>2</td>\n",
       "      <td>2256</td>\n",
       "      <td>0</td>\n",
       "      <td>0</td>\n",
       "      <td>0.0</td>\n",
       "      <td>1</td>\n",
       "    </tr>\n",
       "  </tbody>\n",
       "</table>\n",
       "</div>"
      ],
      "text/plain": [
       "  idpostulante  Cod_sexo  edad Cod_edu Cod_est     idaviso  nombre_zona  \\\n",
       "0        aEW8J         1    53       4       2  1112028437            1   \n",
       "1        aEW8J         1    53       4       2  1112263553            1   \n",
       "2        aEW8J         1    53       4       2  1112262301            1   \n",
       "3        aEW8J         1    53       4       2  1112280883            1   \n",
       "4        aEW8J         1    53       4       2  1112284858            1   \n",
       "\n",
       "   tipo_de_trabajo  nombre_area  longitud_titulo  longitud_descripcion  \\\n",
       "0                1          157               33                  1420   \n",
       "1                1          157               35                  1602   \n",
       "2                1           75               53                  1537   \n",
       "3                1           75               42                  1625   \n",
       "4                1          157               70                  2588   \n",
       "\n",
       "   nivel_laboral  denominacion_empresa  mapacalle  ciudad  online  sepostulo  \n",
       "0              2                  4016          0       0     1.0          1  \n",
       "1              3                  3084          0       0     0.0          1  \n",
       "2              2                  1488          0       0     0.0          1  \n",
       "3              3                  3819          0       0     1.0          1  \n",
       "4              2                  2256          0       0     0.0          1  "
      ]
     },
     "execution_count": 70,
     "metadata": {},
     "output_type": "execute_result"
    }
   ],
   "source": [
    "#Agrego label para indicar si se postulo o no, en este caso todos se postularon\n",
    "\n",
    "postulaciones_historico['sepostulo'] = 1\n",
    "postulaciones_historico.head()"
   ]
  },
  {
   "cell_type": "code",
   "execution_count": 71,
   "metadata": {},
   "outputs": [],
   "source": [
    "#Filtro edades que no sean lógicas\n",
    "\n",
    "postulaciones_historico = postulaciones_historico.drop(postulaciones_historico.loc[postulaciones_historico.edad < 17].index,axis=0)\n",
    "postulaciones_historico = postulaciones_historico.drop(postulaciones_historico.loc[postulaciones_historico.edad > 75].index,axis=0)"
   ]
  },
  {
   "cell_type": "code",
   "execution_count": 72,
   "metadata": {},
   "outputs": [
    {
     "data": {
      "text/html": [
       "<div>\n",
       "<style scoped>\n",
       "    .dataframe tbody tr th:only-of-type {\n",
       "        vertical-align: middle;\n",
       "    }\n",
       "\n",
       "    .dataframe tbody tr th {\n",
       "        vertical-align: top;\n",
       "    }\n",
       "\n",
       "    .dataframe thead th {\n",
       "        text-align: right;\n",
       "    }\n",
       "</style>\n",
       "<table border=\"1\" class=\"dataframe\">\n",
       "  <thead>\n",
       "    <tr style=\"text-align: right;\">\n",
       "      <th></th>\n",
       "      <th>idpostulante</th>\n",
       "      <th>Cod_sexo</th>\n",
       "      <th>edad</th>\n",
       "      <th>Cod_edu</th>\n",
       "      <th>Cod_est</th>\n",
       "      <th>idaviso</th>\n",
       "      <th>nombre_zona</th>\n",
       "      <th>tipo_de_trabajo</th>\n",
       "      <th>nombre_area</th>\n",
       "      <th>longitud_titulo</th>\n",
       "      <th>longitud_descripcion</th>\n",
       "      <th>nivel_laboral</th>\n",
       "      <th>denominacion_empresa</th>\n",
       "      <th>mapacalle</th>\n",
       "      <th>ciudad</th>\n",
       "      <th>online</th>\n",
       "      <th>sepostulo</th>\n",
       "    </tr>\n",
       "  </thead>\n",
       "  <tbody>\n",
       "    <tr>\n",
       "      <th>0</th>\n",
       "      <td>aEW8J</td>\n",
       "      <td>1</td>\n",
       "      <td>53</td>\n",
       "      <td>4</td>\n",
       "      <td>2</td>\n",
       "      <td>1112028437</td>\n",
       "      <td>1</td>\n",
       "      <td>1</td>\n",
       "      <td>157</td>\n",
       "      <td>33</td>\n",
       "      <td>1420</td>\n",
       "      <td>2</td>\n",
       "      <td>4016</td>\n",
       "      <td>0</td>\n",
       "      <td>0</td>\n",
       "      <td>1.0</td>\n",
       "      <td>1</td>\n",
       "    </tr>\n",
       "    <tr>\n",
       "      <th>1</th>\n",
       "      <td>aEW8J</td>\n",
       "      <td>1</td>\n",
       "      <td>53</td>\n",
       "      <td>4</td>\n",
       "      <td>2</td>\n",
       "      <td>1112263553</td>\n",
       "      <td>1</td>\n",
       "      <td>1</td>\n",
       "      <td>157</td>\n",
       "      <td>35</td>\n",
       "      <td>1602</td>\n",
       "      <td>3</td>\n",
       "      <td>3084</td>\n",
       "      <td>0</td>\n",
       "      <td>0</td>\n",
       "      <td>0.0</td>\n",
       "      <td>1</td>\n",
       "    </tr>\n",
       "    <tr>\n",
       "      <th>2</th>\n",
       "      <td>aEW8J</td>\n",
       "      <td>1</td>\n",
       "      <td>53</td>\n",
       "      <td>4</td>\n",
       "      <td>2</td>\n",
       "      <td>1112262301</td>\n",
       "      <td>1</td>\n",
       "      <td>1</td>\n",
       "      <td>75</td>\n",
       "      <td>53</td>\n",
       "      <td>1537</td>\n",
       "      <td>2</td>\n",
       "      <td>1488</td>\n",
       "      <td>0</td>\n",
       "      <td>0</td>\n",
       "      <td>0.0</td>\n",
       "      <td>1</td>\n",
       "    </tr>\n",
       "    <tr>\n",
       "      <th>3</th>\n",
       "      <td>aEW8J</td>\n",
       "      <td>1</td>\n",
       "      <td>53</td>\n",
       "      <td>4</td>\n",
       "      <td>2</td>\n",
       "      <td>1112280883</td>\n",
       "      <td>1</td>\n",
       "      <td>1</td>\n",
       "      <td>75</td>\n",
       "      <td>42</td>\n",
       "      <td>1625</td>\n",
       "      <td>3</td>\n",
       "      <td>3819</td>\n",
       "      <td>0</td>\n",
       "      <td>0</td>\n",
       "      <td>1.0</td>\n",
       "      <td>1</td>\n",
       "    </tr>\n",
       "    <tr>\n",
       "      <th>4</th>\n",
       "      <td>aEW8J</td>\n",
       "      <td>1</td>\n",
       "      <td>53</td>\n",
       "      <td>4</td>\n",
       "      <td>2</td>\n",
       "      <td>1112284858</td>\n",
       "      <td>1</td>\n",
       "      <td>1</td>\n",
       "      <td>157</td>\n",
       "      <td>70</td>\n",
       "      <td>2588</td>\n",
       "      <td>2</td>\n",
       "      <td>2256</td>\n",
       "      <td>0</td>\n",
       "      <td>0</td>\n",
       "      <td>0.0</td>\n",
       "      <td>1</td>\n",
       "    </tr>\n",
       "  </tbody>\n",
       "</table>\n",
       "</div>"
      ],
      "text/plain": [
       "  idpostulante  Cod_sexo  edad Cod_edu Cod_est     idaviso  nombre_zona  \\\n",
       "0        aEW8J         1    53       4       2  1112028437            1   \n",
       "1        aEW8J         1    53       4       2  1112263553            1   \n",
       "2        aEW8J         1    53       4       2  1112262301            1   \n",
       "3        aEW8J         1    53       4       2  1112280883            1   \n",
       "4        aEW8J         1    53       4       2  1112284858            1   \n",
       "\n",
       "   tipo_de_trabajo  nombre_area  longitud_titulo  longitud_descripcion  \\\n",
       "0                1          157               33                  1420   \n",
       "1                1          157               35                  1602   \n",
       "2                1           75               53                  1537   \n",
       "3                1           75               42                  1625   \n",
       "4                1          157               70                  2588   \n",
       "\n",
       "   nivel_laboral  denominacion_empresa  mapacalle  ciudad  online  sepostulo  \n",
       "0              2                  4016          0       0     1.0          1  \n",
       "1              3                  3084          0       0     0.0          1  \n",
       "2              2                  1488          0       0     0.0          1  \n",
       "3              3                  3819          0       0     1.0          1  \n",
       "4              2                  2256          0       0     0.0          1  "
      ]
     },
     "execution_count": 72,
     "metadata": {},
     "output_type": "execute_result"
    }
   ],
   "source": [
    "postulaciones_historico.head()"
   ]
  },
  {
   "cell_type": "markdown",
   "metadata": {},
   "source": [
    "# Obteniendo los casos de no postulaciones"
   ]
  },
  {
   "cell_type": "markdown",
   "metadata": {},
   "source": [
    "Ya tengo los casos de postulaciones que se realizaron. Necesito ahora fabricarme casos de postulaciones que no se\n",
    "hayan realizado para que el modelo no entrene solamente con los casos de exito.\n",
    "Para que las muestras sean representativas, tomaremos casos de postulantes que hayan visto la publicacion y no see hayan postulado a ella."
   ]
  },
  {
   "cell_type": "markdown",
   "metadata": {},
   "source": [
    "## Vistas"
   ]
  },
  {
   "cell_type": "code",
   "execution_count": 73,
   "metadata": {},
   "outputs": [],
   "source": [
    "vistas_desde_15_Abril = pd.read_csv('Datos/Fiuba_desde_15_Abril/fiuba_3_vistas.csv')\n",
    "vistas_hasta_15_abril = pd.read_csv('Datos/fiuba_hasta_15_abril/fiuba_3_vistas.csv')\n",
    "vistas_original = pd.read_csv('Datos/datos_navent_fiuba/fiuba_3_vistas.csv')"
   ]
  },
  {
   "cell_type": "code",
   "execution_count": 74,
   "metadata": {},
   "outputs": [
    {
     "data": {
      "text/plain": [
       "18"
      ]
     },
     "execution_count": 74,
     "metadata": {},
     "output_type": "execute_result"
    }
   ],
   "source": [
    "vistas = pd.concat([vistas_desde_15_Abril,vistas_hasta_15_abril,vistas_original],axis=0)\n",
    "vistas = vistas.drop_duplicates()\n",
    "\n",
    "\n",
    "del [[vistas_desde_15_Abril, vistas_hasta_15_abril, vistas_original]]\n",
    "gc.collect()"
   ]
  },
  {
   "cell_type": "code",
   "execution_count": 75,
   "metadata": {},
   "outputs": [
    {
     "data": {
      "text/html": [
       "<div>\n",
       "<style scoped>\n",
       "    .dataframe tbody tr th:only-of-type {\n",
       "        vertical-align: middle;\n",
       "    }\n",
       "\n",
       "    .dataframe tbody tr th {\n",
       "        vertical-align: top;\n",
       "    }\n",
       "\n",
       "    .dataframe thead th {\n",
       "        text-align: right;\n",
       "    }\n",
       "</style>\n",
       "<table border=\"1\" class=\"dataframe\">\n",
       "  <thead>\n",
       "    <tr style=\"text-align: right;\">\n",
       "      <th></th>\n",
       "      <th>idaviso</th>\n",
       "      <th>idpostulante</th>\n",
       "      <th>cantidad_vistas</th>\n",
       "    </tr>\n",
       "  </thead>\n",
       "  <tbody>\n",
       "    <tr>\n",
       "      <th>0</th>\n",
       "      <td>18</td>\n",
       "      <td>BolNL</td>\n",
       "      <td>2</td>\n",
       "    </tr>\n",
       "    <tr>\n",
       "      <th>1</th>\n",
       "      <td>48375</td>\n",
       "      <td>RwVdKR</td>\n",
       "      <td>1</td>\n",
       "    </tr>\n",
       "    <tr>\n",
       "      <th>2</th>\n",
       "      <td>169730</td>\n",
       "      <td>1KjXB</td>\n",
       "      <td>2</td>\n",
       "    </tr>\n",
       "    <tr>\n",
       "      <th>3</th>\n",
       "      <td>169730</td>\n",
       "      <td>2AKzxa</td>\n",
       "      <td>2</td>\n",
       "    </tr>\n",
       "    <tr>\n",
       "      <th>4</th>\n",
       "      <td>169730</td>\n",
       "      <td>6LJ64</td>\n",
       "      <td>1</td>\n",
       "    </tr>\n",
       "  </tbody>\n",
       "</table>\n",
       "</div>"
      ],
      "text/plain": [
       "   idaviso idpostulante  cantidad_vistas\n",
       "0       18        BolNL                2\n",
       "1    48375       RwVdKR                1\n",
       "2   169730        1KjXB                2\n",
       "3   169730       2AKzxa                2\n",
       "4   169730        6LJ64                1"
      ]
     },
     "execution_count": 75,
     "metadata": {},
     "output_type": "execute_result"
    }
   ],
   "source": [
    "vistas = vistas.rename(columns={'idAviso':'idaviso', 'timestamp':'cantidad_vistas'})\n",
    "vistas = vistas.groupby(['idaviso','idpostulante']).count().reset_index()\n",
    "vistas.head()"
   ]
  },
  {
   "cell_type": "code",
   "execution_count": 76,
   "metadata": {},
   "outputs": [
    {
     "data": {
      "text/plain": [
       "145"
      ]
     },
     "execution_count": 76,
     "metadata": {},
     "output_type": "execute_result"
    }
   ],
   "source": [
    "#Guardo la cantidad de vistas de los postulantes\n",
    "vistas_postulantes = vistas\n",
    "vistas_postulantes.set_index('idaviso').to_csv('Datos/vistas_postulantes.csv')\n",
    "del[[vistas_postulantes]]\n",
    "gc.collect()"
   ]
  },
  {
   "cell_type": "code",
   "execution_count": 77,
   "metadata": {},
   "outputs": [
    {
     "data": {
      "text/html": [
       "<div>\n",
       "<style scoped>\n",
       "    .dataframe tbody tr th:only-of-type {\n",
       "        vertical-align: middle;\n",
       "    }\n",
       "\n",
       "    .dataframe tbody tr th {\n",
       "        vertical-align: top;\n",
       "    }\n",
       "\n",
       "    .dataframe thead th {\n",
       "        text-align: right;\n",
       "    }\n",
       "</style>\n",
       "<table border=\"1\" class=\"dataframe\">\n",
       "  <thead>\n",
       "    <tr style=\"text-align: right;\">\n",
       "      <th></th>\n",
       "      <th>idpostulante</th>\n",
       "      <th>Cod_sexo</th>\n",
       "      <th>edad</th>\n",
       "      <th>Cod_edu</th>\n",
       "      <th>Cod_est</th>\n",
       "      <th>idaviso</th>\n",
       "      <th>nombre_zona</th>\n",
       "      <th>tipo_de_trabajo</th>\n",
       "      <th>nombre_area</th>\n",
       "      <th>longitud_titulo</th>\n",
       "      <th>longitud_descripcion</th>\n",
       "      <th>nivel_laboral</th>\n",
       "      <th>denominacion_empresa</th>\n",
       "      <th>mapacalle</th>\n",
       "      <th>ciudad</th>\n",
       "      <th>online</th>\n",
       "      <th>sepostulo</th>\n",
       "      <th>cantidad_vistas</th>\n",
       "    </tr>\n",
       "  </thead>\n",
       "  <tbody>\n",
       "    <tr>\n",
       "      <th>0</th>\n",
       "      <td>aEW8J</td>\n",
       "      <td>1</td>\n",
       "      <td>53</td>\n",
       "      <td>4</td>\n",
       "      <td>2</td>\n",
       "      <td>1112028437</td>\n",
       "      <td>1</td>\n",
       "      <td>1</td>\n",
       "      <td>157</td>\n",
       "      <td>33</td>\n",
       "      <td>1420</td>\n",
       "      <td>2</td>\n",
       "      <td>4016</td>\n",
       "      <td>0</td>\n",
       "      <td>0</td>\n",
       "      <td>1.0</td>\n",
       "      <td>1</td>\n",
       "      <td>1.0</td>\n",
       "    </tr>\n",
       "    <tr>\n",
       "      <th>1</th>\n",
       "      <td>aEW8J</td>\n",
       "      <td>1</td>\n",
       "      <td>53</td>\n",
       "      <td>4</td>\n",
       "      <td>2</td>\n",
       "      <td>1112263553</td>\n",
       "      <td>1</td>\n",
       "      <td>1</td>\n",
       "      <td>157</td>\n",
       "      <td>35</td>\n",
       "      <td>1602</td>\n",
       "      <td>3</td>\n",
       "      <td>3084</td>\n",
       "      <td>0</td>\n",
       "      <td>0</td>\n",
       "      <td>0.0</td>\n",
       "      <td>1</td>\n",
       "      <td>1.0</td>\n",
       "    </tr>\n",
       "    <tr>\n",
       "      <th>2</th>\n",
       "      <td>aEW8J</td>\n",
       "      <td>1</td>\n",
       "      <td>53</td>\n",
       "      <td>4</td>\n",
       "      <td>2</td>\n",
       "      <td>1112262301</td>\n",
       "      <td>1</td>\n",
       "      <td>1</td>\n",
       "      <td>75</td>\n",
       "      <td>53</td>\n",
       "      <td>1537</td>\n",
       "      <td>2</td>\n",
       "      <td>1488</td>\n",
       "      <td>0</td>\n",
       "      <td>0</td>\n",
       "      <td>0.0</td>\n",
       "      <td>1</td>\n",
       "      <td>1.0</td>\n",
       "    </tr>\n",
       "    <tr>\n",
       "      <th>3</th>\n",
       "      <td>aEW8J</td>\n",
       "      <td>1</td>\n",
       "      <td>53</td>\n",
       "      <td>4</td>\n",
       "      <td>2</td>\n",
       "      <td>1112280883</td>\n",
       "      <td>1</td>\n",
       "      <td>1</td>\n",
       "      <td>75</td>\n",
       "      <td>42</td>\n",
       "      <td>1625</td>\n",
       "      <td>3</td>\n",
       "      <td>3819</td>\n",
       "      <td>0</td>\n",
       "      <td>0</td>\n",
       "      <td>1.0</td>\n",
       "      <td>1</td>\n",
       "      <td>1.0</td>\n",
       "    </tr>\n",
       "    <tr>\n",
       "      <th>4</th>\n",
       "      <td>aEW8J</td>\n",
       "      <td>1</td>\n",
       "      <td>53</td>\n",
       "      <td>4</td>\n",
       "      <td>2</td>\n",
       "      <td>1112284858</td>\n",
       "      <td>1</td>\n",
       "      <td>1</td>\n",
       "      <td>157</td>\n",
       "      <td>70</td>\n",
       "      <td>2588</td>\n",
       "      <td>2</td>\n",
       "      <td>2256</td>\n",
       "      <td>0</td>\n",
       "      <td>0</td>\n",
       "      <td>0.0</td>\n",
       "      <td>1</td>\n",
       "      <td>1.0</td>\n",
       "    </tr>\n",
       "  </tbody>\n",
       "</table>\n",
       "</div>"
      ],
      "text/plain": [
       "  idpostulante  Cod_sexo  edad Cod_edu Cod_est     idaviso  nombre_zona  \\\n",
       "0        aEW8J         1    53       4       2  1112028437            1   \n",
       "1        aEW8J         1    53       4       2  1112263553            1   \n",
       "2        aEW8J         1    53       4       2  1112262301            1   \n",
       "3        aEW8J         1    53       4       2  1112280883            1   \n",
       "4        aEW8J         1    53       4       2  1112284858            1   \n",
       "\n",
       "   tipo_de_trabajo  nombre_area  longitud_titulo  longitud_descripcion  \\\n",
       "0                1          157               33                  1420   \n",
       "1                1          157               35                  1602   \n",
       "2                1           75               53                  1537   \n",
       "3                1           75               42                  1625   \n",
       "4                1          157               70                  2588   \n",
       "\n",
       "   nivel_laboral  denominacion_empresa  mapacalle  ciudad  online  sepostulo  \\\n",
       "0              2                  4016          0       0     1.0          1   \n",
       "1              3                  3084          0       0     0.0          1   \n",
       "2              2                  1488          0       0     0.0          1   \n",
       "3              3                  3819          0       0     1.0          1   \n",
       "4              2                  2256          0       0     0.0          1   \n",
       "\n",
       "   cantidad_vistas  \n",
       "0              1.0  \n",
       "1              1.0  \n",
       "2              1.0  \n",
       "3              1.0  \n",
       "4              1.0  "
      ]
     },
     "execution_count": 77,
     "metadata": {},
     "output_type": "execute_result"
    }
   ],
   "source": [
    "#Agrego la cantidad de vistas a las postulaciones\n",
    "postulaciones_historico = pd.merge(postulaciones_historico,vistas, how='left', on=['idpostulante','idaviso'])\n",
    "#Aquellos que no figuren con cantidad de vistas se los contara como 1 vista\n",
    "postulaciones_historico = postulaciones_historico.fillna(1)\n",
    "postulaciones_historico.head()"
   ]
  },
  {
   "cell_type": "code",
   "execution_count": 78,
   "metadata": {},
   "outputs": [
    {
     "data": {
      "text/html": [
       "<div>\n",
       "<style scoped>\n",
       "    .dataframe tbody tr th:only-of-type {\n",
       "        vertical-align: middle;\n",
       "    }\n",
       "\n",
       "    .dataframe tbody tr th {\n",
       "        vertical-align: top;\n",
       "    }\n",
       "\n",
       "    .dataframe thead th {\n",
       "        text-align: right;\n",
       "    }\n",
       "</style>\n",
       "<table border=\"1\" class=\"dataframe\">\n",
       "  <thead>\n",
       "    <tr style=\"text-align: right;\">\n",
       "      <th></th>\n",
       "      <th>idaviso</th>\n",
       "      <th>idpostulante</th>\n",
       "      <th>cantidad_vistas</th>\n",
       "      <th>Cod_sexo</th>\n",
       "      <th>edad</th>\n",
       "      <th>Cod_edu</th>\n",
       "      <th>Cod_est</th>\n",
       "      <th>nombre_zona</th>\n",
       "      <th>tipo_de_trabajo</th>\n",
       "      <th>nombre_area</th>\n",
       "      <th>longitud_titulo</th>\n",
       "      <th>longitud_descripcion</th>\n",
       "      <th>nivel_laboral</th>\n",
       "      <th>denominacion_empresa</th>\n",
       "      <th>mapacalle</th>\n",
       "      <th>ciudad</th>\n",
       "      <th>online</th>\n",
       "      <th>sepostulo</th>\n",
       "    </tr>\n",
       "  </thead>\n",
       "  <tbody>\n",
       "    <tr>\n",
       "      <th>0</th>\n",
       "      <td>18</td>\n",
       "      <td>BolNL</td>\n",
       "      <td>2</td>\n",
       "      <td>NaN</td>\n",
       "      <td>NaN</td>\n",
       "      <td>NaN</td>\n",
       "      <td>NaN</td>\n",
       "      <td>NaN</td>\n",
       "      <td>NaN</td>\n",
       "      <td>NaN</td>\n",
       "      <td>NaN</td>\n",
       "      <td>NaN</td>\n",
       "      <td>NaN</td>\n",
       "      <td>NaN</td>\n",
       "      <td>NaN</td>\n",
       "      <td>NaN</td>\n",
       "      <td>NaN</td>\n",
       "      <td>NaN</td>\n",
       "    </tr>\n",
       "    <tr>\n",
       "      <th>1</th>\n",
       "      <td>48375</td>\n",
       "      <td>RwVdKR</td>\n",
       "      <td>1</td>\n",
       "      <td>NaN</td>\n",
       "      <td>NaN</td>\n",
       "      <td>NaN</td>\n",
       "      <td>NaN</td>\n",
       "      <td>NaN</td>\n",
       "      <td>NaN</td>\n",
       "      <td>NaN</td>\n",
       "      <td>NaN</td>\n",
       "      <td>NaN</td>\n",
       "      <td>NaN</td>\n",
       "      <td>NaN</td>\n",
       "      <td>NaN</td>\n",
       "      <td>NaN</td>\n",
       "      <td>NaN</td>\n",
       "      <td>NaN</td>\n",
       "    </tr>\n",
       "    <tr>\n",
       "      <th>2</th>\n",
       "      <td>169730</td>\n",
       "      <td>1KjXB</td>\n",
       "      <td>2</td>\n",
       "      <td>NaN</td>\n",
       "      <td>NaN</td>\n",
       "      <td>NaN</td>\n",
       "      <td>NaN</td>\n",
       "      <td>NaN</td>\n",
       "      <td>NaN</td>\n",
       "      <td>NaN</td>\n",
       "      <td>NaN</td>\n",
       "      <td>NaN</td>\n",
       "      <td>NaN</td>\n",
       "      <td>NaN</td>\n",
       "      <td>NaN</td>\n",
       "      <td>NaN</td>\n",
       "      <td>NaN</td>\n",
       "      <td>NaN</td>\n",
       "    </tr>\n",
       "    <tr>\n",
       "      <th>3</th>\n",
       "      <td>169730</td>\n",
       "      <td>2AKzxa</td>\n",
       "      <td>2</td>\n",
       "      <td>NaN</td>\n",
       "      <td>NaN</td>\n",
       "      <td>NaN</td>\n",
       "      <td>NaN</td>\n",
       "      <td>NaN</td>\n",
       "      <td>NaN</td>\n",
       "      <td>NaN</td>\n",
       "      <td>NaN</td>\n",
       "      <td>NaN</td>\n",
       "      <td>NaN</td>\n",
       "      <td>NaN</td>\n",
       "      <td>NaN</td>\n",
       "      <td>NaN</td>\n",
       "      <td>NaN</td>\n",
       "      <td>NaN</td>\n",
       "    </tr>\n",
       "    <tr>\n",
       "      <th>4</th>\n",
       "      <td>169730</td>\n",
       "      <td>6LJ64</td>\n",
       "      <td>1</td>\n",
       "      <td>NaN</td>\n",
       "      <td>NaN</td>\n",
       "      <td>NaN</td>\n",
       "      <td>NaN</td>\n",
       "      <td>NaN</td>\n",
       "      <td>NaN</td>\n",
       "      <td>NaN</td>\n",
       "      <td>NaN</td>\n",
       "      <td>NaN</td>\n",
       "      <td>NaN</td>\n",
       "      <td>NaN</td>\n",
       "      <td>NaN</td>\n",
       "      <td>NaN</td>\n",
       "      <td>NaN</td>\n",
       "      <td>NaN</td>\n",
       "    </tr>\n",
       "  </tbody>\n",
       "</table>\n",
       "</div>"
      ],
      "text/plain": [
       "   idaviso idpostulante  cantidad_vistas  Cod_sexo  edad Cod_edu Cod_est  \\\n",
       "0       18        BolNL                2       NaN   NaN     NaN     NaN   \n",
       "1    48375       RwVdKR                1       NaN   NaN     NaN     NaN   \n",
       "2   169730        1KjXB                2       NaN   NaN     NaN     NaN   \n",
       "3   169730       2AKzxa                2       NaN   NaN     NaN     NaN   \n",
       "4   169730        6LJ64                1       NaN   NaN     NaN     NaN   \n",
       "\n",
       "   nombre_zona  tipo_de_trabajo  nombre_area  longitud_titulo  \\\n",
       "0          NaN              NaN          NaN              NaN   \n",
       "1          NaN              NaN          NaN              NaN   \n",
       "2          NaN              NaN          NaN              NaN   \n",
       "3          NaN              NaN          NaN              NaN   \n",
       "4          NaN              NaN          NaN              NaN   \n",
       "\n",
       "   longitud_descripcion  nivel_laboral  denominacion_empresa  mapacalle  \\\n",
       "0                   NaN            NaN                   NaN        NaN   \n",
       "1                   NaN            NaN                   NaN        NaN   \n",
       "2                   NaN            NaN                   NaN        NaN   \n",
       "3                   NaN            NaN                   NaN        NaN   \n",
       "4                   NaN            NaN                   NaN        NaN   \n",
       "\n",
       "   ciudad  online  sepostulo  \n",
       "0     NaN     NaN        NaN  \n",
       "1     NaN     NaN        NaN  \n",
       "2     NaN     NaN        NaN  \n",
       "3     NaN     NaN        NaN  \n",
       "4     NaN     NaN        NaN  "
      ]
     },
     "execution_count": 78,
     "metadata": {},
     "output_type": "execute_result"
    }
   ],
   "source": [
    "vistas = pd.merge(vistas, postulaciones_historico, how='left', on=['idpostulante','idaviso','cantidad_vistas'])\n",
    "vistas.head()"
   ]
  },
  {
   "cell_type": "code",
   "execution_count": 79,
   "metadata": {},
   "outputs": [
    {
     "data": {
      "text/html": [
       "<div>\n",
       "<style scoped>\n",
       "    .dataframe tbody tr th:only-of-type {\n",
       "        vertical-align: middle;\n",
       "    }\n",
       "\n",
       "    .dataframe tbody tr th {\n",
       "        vertical-align: top;\n",
       "    }\n",
       "\n",
       "    .dataframe thead th {\n",
       "        text-align: right;\n",
       "    }\n",
       "</style>\n",
       "<table border=\"1\" class=\"dataframe\">\n",
       "  <thead>\n",
       "    <tr style=\"text-align: right;\">\n",
       "      <th></th>\n",
       "      <th>idaviso</th>\n",
       "      <th>idpostulante</th>\n",
       "      <th>cantidad_vistas</th>\n",
       "      <th>Cod_sexo</th>\n",
       "      <th>edad</th>\n",
       "      <th>Cod_edu</th>\n",
       "      <th>Cod_est</th>\n",
       "      <th>nombre_zona</th>\n",
       "      <th>tipo_de_trabajo</th>\n",
       "      <th>nombre_area</th>\n",
       "      <th>longitud_titulo</th>\n",
       "      <th>longitud_descripcion</th>\n",
       "      <th>nivel_laboral</th>\n",
       "      <th>denominacion_empresa</th>\n",
       "      <th>mapacalle</th>\n",
       "      <th>ciudad</th>\n",
       "      <th>online</th>\n",
       "      <th>sepostulo</th>\n",
       "    </tr>\n",
       "  </thead>\n",
       "  <tbody>\n",
       "    <tr>\n",
       "      <th>0</th>\n",
       "      <td>18</td>\n",
       "      <td>BolNL</td>\n",
       "      <td>2</td>\n",
       "      <td>NaN</td>\n",
       "      <td>NaN</td>\n",
       "      <td>NaN</td>\n",
       "      <td>NaN</td>\n",
       "      <td>NaN</td>\n",
       "      <td>NaN</td>\n",
       "      <td>NaN</td>\n",
       "      <td>NaN</td>\n",
       "      <td>NaN</td>\n",
       "      <td>NaN</td>\n",
       "      <td>NaN</td>\n",
       "      <td>NaN</td>\n",
       "      <td>NaN</td>\n",
       "      <td>NaN</td>\n",
       "      <td>NaN</td>\n",
       "    </tr>\n",
       "    <tr>\n",
       "      <th>1</th>\n",
       "      <td>48375</td>\n",
       "      <td>RwVdKR</td>\n",
       "      <td>1</td>\n",
       "      <td>NaN</td>\n",
       "      <td>NaN</td>\n",
       "      <td>NaN</td>\n",
       "      <td>NaN</td>\n",
       "      <td>NaN</td>\n",
       "      <td>NaN</td>\n",
       "      <td>NaN</td>\n",
       "      <td>NaN</td>\n",
       "      <td>NaN</td>\n",
       "      <td>NaN</td>\n",
       "      <td>NaN</td>\n",
       "      <td>NaN</td>\n",
       "      <td>NaN</td>\n",
       "      <td>NaN</td>\n",
       "      <td>NaN</td>\n",
       "    </tr>\n",
       "    <tr>\n",
       "      <th>2</th>\n",
       "      <td>169730</td>\n",
       "      <td>1KjXB</td>\n",
       "      <td>2</td>\n",
       "      <td>NaN</td>\n",
       "      <td>NaN</td>\n",
       "      <td>NaN</td>\n",
       "      <td>NaN</td>\n",
       "      <td>NaN</td>\n",
       "      <td>NaN</td>\n",
       "      <td>NaN</td>\n",
       "      <td>NaN</td>\n",
       "      <td>NaN</td>\n",
       "      <td>NaN</td>\n",
       "      <td>NaN</td>\n",
       "      <td>NaN</td>\n",
       "      <td>NaN</td>\n",
       "      <td>NaN</td>\n",
       "      <td>NaN</td>\n",
       "    </tr>\n",
       "    <tr>\n",
       "      <th>3</th>\n",
       "      <td>169730</td>\n",
       "      <td>2AKzxa</td>\n",
       "      <td>2</td>\n",
       "      <td>NaN</td>\n",
       "      <td>NaN</td>\n",
       "      <td>NaN</td>\n",
       "      <td>NaN</td>\n",
       "      <td>NaN</td>\n",
       "      <td>NaN</td>\n",
       "      <td>NaN</td>\n",
       "      <td>NaN</td>\n",
       "      <td>NaN</td>\n",
       "      <td>NaN</td>\n",
       "      <td>NaN</td>\n",
       "      <td>NaN</td>\n",
       "      <td>NaN</td>\n",
       "      <td>NaN</td>\n",
       "      <td>NaN</td>\n",
       "    </tr>\n",
       "    <tr>\n",
       "      <th>4</th>\n",
       "      <td>169730</td>\n",
       "      <td>6LJ64</td>\n",
       "      <td>1</td>\n",
       "      <td>NaN</td>\n",
       "      <td>NaN</td>\n",
       "      <td>NaN</td>\n",
       "      <td>NaN</td>\n",
       "      <td>NaN</td>\n",
       "      <td>NaN</td>\n",
       "      <td>NaN</td>\n",
       "      <td>NaN</td>\n",
       "      <td>NaN</td>\n",
       "      <td>NaN</td>\n",
       "      <td>NaN</td>\n",
       "      <td>NaN</td>\n",
       "      <td>NaN</td>\n",
       "      <td>NaN</td>\n",
       "      <td>NaN</td>\n",
       "    </tr>\n",
       "  </tbody>\n",
       "</table>\n",
       "</div>"
      ],
      "text/plain": [
       "   idaviso idpostulante  cantidad_vistas  Cod_sexo  edad Cod_edu Cod_est  \\\n",
       "0       18        BolNL                2       NaN   NaN     NaN     NaN   \n",
       "1    48375       RwVdKR                1       NaN   NaN     NaN     NaN   \n",
       "2   169730        1KjXB                2       NaN   NaN     NaN     NaN   \n",
       "3   169730       2AKzxa                2       NaN   NaN     NaN     NaN   \n",
       "4   169730        6LJ64                1       NaN   NaN     NaN     NaN   \n",
       "\n",
       "   nombre_zona  tipo_de_trabajo  nombre_area  longitud_titulo  \\\n",
       "0          NaN              NaN          NaN              NaN   \n",
       "1          NaN              NaN          NaN              NaN   \n",
       "2          NaN              NaN          NaN              NaN   \n",
       "3          NaN              NaN          NaN              NaN   \n",
       "4          NaN              NaN          NaN              NaN   \n",
       "\n",
       "   longitud_descripcion  nivel_laboral  denominacion_empresa  mapacalle  \\\n",
       "0                   NaN            NaN                   NaN        NaN   \n",
       "1                   NaN            NaN                   NaN        NaN   \n",
       "2                   NaN            NaN                   NaN        NaN   \n",
       "3                   NaN            NaN                   NaN        NaN   \n",
       "4                   NaN            NaN                   NaN        NaN   \n",
       "\n",
       "   ciudad  online  sepostulo  \n",
       "0     NaN     NaN        NaN  \n",
       "1     NaN     NaN        NaN  \n",
       "2     NaN     NaN        NaN  \n",
       "3     NaN     NaN        NaN  \n",
       "4     NaN     NaN        NaN  "
      ]
     },
     "execution_count": 79,
     "metadata": {},
     "output_type": "execute_result"
    }
   ],
   "source": [
    "vistas = vistas.loc[vistas.edad.isnull()]\n",
    "vistas.head()"
   ]
  },
  {
   "cell_type": "code",
   "execution_count": 80,
   "metadata": {},
   "outputs": [
    {
     "data": {
      "text/html": [
       "<div>\n",
       "<style scoped>\n",
       "    .dataframe tbody tr th:only-of-type {\n",
       "        vertical-align: middle;\n",
       "    }\n",
       "\n",
       "    .dataframe tbody tr th {\n",
       "        vertical-align: top;\n",
       "    }\n",
       "\n",
       "    .dataframe thead th {\n",
       "        text-align: right;\n",
       "    }\n",
       "</style>\n",
       "<table border=\"1\" class=\"dataframe\">\n",
       "  <thead>\n",
       "    <tr style=\"text-align: right;\">\n",
       "      <th></th>\n",
       "      <th>idpostulante</th>\n",
       "      <th>Cod_sexo</th>\n",
       "      <th>edad</th>\n",
       "      <th>Cod_edu</th>\n",
       "      <th>Cod_est</th>\n",
       "      <th>idaviso</th>\n",
       "      <th>nombre_zona</th>\n",
       "      <th>tipo_de_trabajo</th>\n",
       "      <th>nombre_area</th>\n",
       "      <th>longitud_titulo</th>\n",
       "      <th>longitud_descripcion</th>\n",
       "      <th>nivel_laboral</th>\n",
       "      <th>denominacion_empresa</th>\n",
       "      <th>mapacalle</th>\n",
       "      <th>ciudad</th>\n",
       "      <th>online</th>\n",
       "      <th>sepostulo</th>\n",
       "      <th>cantidad_vistas</th>\n",
       "    </tr>\n",
       "  </thead>\n",
       "  <tbody>\n",
       "    <tr>\n",
       "      <th>0</th>\n",
       "      <td>6MM</td>\n",
       "      <td>0</td>\n",
       "      <td>33</td>\n",
       "      <td>0</td>\n",
       "      <td>0</td>\n",
       "      <td>1805750</td>\n",
       "      <td>2</td>\n",
       "      <td>1</td>\n",
       "      <td>153</td>\n",
       "      <td>3</td>\n",
       "      <td>428</td>\n",
       "      <td>5</td>\n",
       "      <td>3404</td>\n",
       "      <td>0</td>\n",
       "      <td>1</td>\n",
       "      <td>0.0</td>\n",
       "      <td>0</td>\n",
       "      <td>2</td>\n",
       "    </tr>\n",
       "    <tr>\n",
       "      <th>1</th>\n",
       "      <td>6MM</td>\n",
       "      <td>0</td>\n",
       "      <td>33</td>\n",
       "      <td>0</td>\n",
       "      <td>0</td>\n",
       "      <td>1805750</td>\n",
       "      <td>2</td>\n",
       "      <td>1</td>\n",
       "      <td>153</td>\n",
       "      <td>3</td>\n",
       "      <td>428</td>\n",
       "      <td>5</td>\n",
       "      <td>3404</td>\n",
       "      <td>0</td>\n",
       "      <td>1</td>\n",
       "      <td>0.0</td>\n",
       "      <td>0</td>\n",
       "      <td>2</td>\n",
       "    </tr>\n",
       "    <tr>\n",
       "      <th>2</th>\n",
       "      <td>6MM</td>\n",
       "      <td>0</td>\n",
       "      <td>33</td>\n",
       "      <td>0</td>\n",
       "      <td>0</td>\n",
       "      <td>1805750</td>\n",
       "      <td>2</td>\n",
       "      <td>1</td>\n",
       "      <td>153</td>\n",
       "      <td>3</td>\n",
       "      <td>428</td>\n",
       "      <td>5</td>\n",
       "      <td>3404</td>\n",
       "      <td>0</td>\n",
       "      <td>1</td>\n",
       "      <td>0.0</td>\n",
       "      <td>0</td>\n",
       "      <td>2</td>\n",
       "    </tr>\n",
       "    <tr>\n",
       "      <th>3</th>\n",
       "      <td>Njx0l</td>\n",
       "      <td>0</td>\n",
       "      <td>48</td>\n",
       "      <td>4</td>\n",
       "      <td>3</td>\n",
       "      <td>1805750</td>\n",
       "      <td>2</td>\n",
       "      <td>1</td>\n",
       "      <td>153</td>\n",
       "      <td>3</td>\n",
       "      <td>428</td>\n",
       "      <td>5</td>\n",
       "      <td>3404</td>\n",
       "      <td>0</td>\n",
       "      <td>1</td>\n",
       "      <td>0.0</td>\n",
       "      <td>0</td>\n",
       "      <td>1</td>\n",
       "    </tr>\n",
       "    <tr>\n",
       "      <th>4</th>\n",
       "      <td>Njx0l</td>\n",
       "      <td>0</td>\n",
       "      <td>48</td>\n",
       "      <td>4</td>\n",
       "      <td>3</td>\n",
       "      <td>1805750</td>\n",
       "      <td>2</td>\n",
       "      <td>1</td>\n",
       "      <td>153</td>\n",
       "      <td>3</td>\n",
       "      <td>428</td>\n",
       "      <td>5</td>\n",
       "      <td>3404</td>\n",
       "      <td>0</td>\n",
       "      <td>1</td>\n",
       "      <td>0.0</td>\n",
       "      <td>0</td>\n",
       "      <td>1</td>\n",
       "    </tr>\n",
       "  </tbody>\n",
       "</table>\n",
       "</div>"
      ],
      "text/plain": [
       "  idpostulante  Cod_sexo  edad Cod_edu Cod_est  idaviso  nombre_zona  \\\n",
       "0          6MM         0    33       0       0  1805750            2   \n",
       "1          6MM         0    33       0       0  1805750            2   \n",
       "2          6MM         0    33       0       0  1805750            2   \n",
       "3        Njx0l         0    48       4       3  1805750            2   \n",
       "4        Njx0l         0    48       4       3  1805750            2   \n",
       "\n",
       "   tipo_de_trabajo  nombre_area  longitud_titulo  longitud_descripcion  \\\n",
       "0                1          153                3                   428   \n",
       "1                1          153                3                   428   \n",
       "2                1          153                3                   428   \n",
       "3                1          153                3                   428   \n",
       "4                1          153                3                   428   \n",
       "\n",
       "   nivel_laboral  denominacion_empresa  mapacalle  ciudad  online  sepostulo  \\\n",
       "0              5                  3404          0       1     0.0          0   \n",
       "1              5                  3404          0       1     0.0          0   \n",
       "2              5                  3404          0       1     0.0          0   \n",
       "3              5                  3404          0       1     0.0          0   \n",
       "4              5                  3404          0       1     0.0          0   \n",
       "\n",
       "   cantidad_vistas  \n",
       "0                2  \n",
       "1                2  \n",
       "2                2  \n",
       "3                1  \n",
       "4                1  "
      ]
     },
     "execution_count": 80,
     "metadata": {},
     "output_type": "execute_result"
    }
   ],
   "source": [
    "#Voy tomando muestras al azar de postulantes y de avisos.\n",
    "#Con ellas me voy armando combinaciones postulante-aviso\n",
    "\n",
    "vistas = vistas[['idaviso','idpostulante','cantidad_vistas']].sample(n=len(postulaciones_historico)*2,replace=True,axis=0,random_state=6)\n",
    "\n",
    "vistas = pd.merge(postulantes,vistas,how='inner',on=['idpostulante'])\n",
    "vistas = pd.merge(vistas,avisos_detalle,how='inner',on='idaviso') \n",
    "\n",
    "vistas['sepostulo'] = 0\n",
    "\n",
    "#Modifico el orden de las columnas\n",
    "vistas = vistas[['idpostulante','Cod_sexo','edad','Cod_edu','Cod_est','idaviso','nombre_zona','tipo_de_trabajo','nombre_area','longitud_titulo','longitud_descripcion','nivel_laboral','denominacion_empresa','mapacalle','ciudad','online','sepostulo','cantidad_vistas']]\n",
    "vistas.head()"
   ]
  },
  {
   "cell_type": "code",
   "execution_count": 81,
   "metadata": {
    "scrolled": true
   },
   "outputs": [
    {
     "data": {
      "text/plain": [
       "(6806904, 18)"
      ]
     },
     "execution_count": 81,
     "metadata": {},
     "output_type": "execute_result"
    }
   ],
   "source": [
    "vistas.shape"
   ]
  },
  {
   "cell_type": "code",
   "execution_count": 82,
   "metadata": {},
   "outputs": [
    {
     "data": {
      "text/html": [
       "<div>\n",
       "<style scoped>\n",
       "    .dataframe tbody tr th:only-of-type {\n",
       "        vertical-align: middle;\n",
       "    }\n",
       "\n",
       "    .dataframe tbody tr th {\n",
       "        vertical-align: top;\n",
       "    }\n",
       "\n",
       "    .dataframe thead th {\n",
       "        text-align: right;\n",
       "    }\n",
       "</style>\n",
       "<table border=\"1\" class=\"dataframe\">\n",
       "  <thead>\n",
       "    <tr style=\"text-align: right;\">\n",
       "      <th></th>\n",
       "      <th>idpostulante</th>\n",
       "      <th>Cod_sexo</th>\n",
       "      <th>edad</th>\n",
       "      <th>Cod_edu</th>\n",
       "      <th>Cod_est</th>\n",
       "      <th>idaviso</th>\n",
       "      <th>nombre_zona</th>\n",
       "      <th>tipo_de_trabajo</th>\n",
       "      <th>nombre_area</th>\n",
       "      <th>longitud_titulo</th>\n",
       "      <th>longitud_descripcion</th>\n",
       "      <th>nivel_laboral</th>\n",
       "      <th>denominacion_empresa</th>\n",
       "      <th>mapacalle</th>\n",
       "      <th>ciudad</th>\n",
       "      <th>online</th>\n",
       "      <th>sepostulo</th>\n",
       "      <th>cantidad_vistas</th>\n",
       "    </tr>\n",
       "  </thead>\n",
       "  <tbody>\n",
       "    <tr>\n",
       "      <th>0</th>\n",
       "      <td>aEW8J</td>\n",
       "      <td>1</td>\n",
       "      <td>53</td>\n",
       "      <td>4</td>\n",
       "      <td>2</td>\n",
       "      <td>1112028437</td>\n",
       "      <td>1</td>\n",
       "      <td>1</td>\n",
       "      <td>157</td>\n",
       "      <td>33</td>\n",
       "      <td>1420</td>\n",
       "      <td>2</td>\n",
       "      <td>4016</td>\n",
       "      <td>0</td>\n",
       "      <td>0</td>\n",
       "      <td>1.0</td>\n",
       "      <td>1</td>\n",
       "      <td>1.0</td>\n",
       "    </tr>\n",
       "    <tr>\n",
       "      <th>1</th>\n",
       "      <td>aEW8J</td>\n",
       "      <td>1</td>\n",
       "      <td>53</td>\n",
       "      <td>4</td>\n",
       "      <td>2</td>\n",
       "      <td>1112263553</td>\n",
       "      <td>1</td>\n",
       "      <td>1</td>\n",
       "      <td>157</td>\n",
       "      <td>35</td>\n",
       "      <td>1602</td>\n",
       "      <td>3</td>\n",
       "      <td>3084</td>\n",
       "      <td>0</td>\n",
       "      <td>0</td>\n",
       "      <td>0.0</td>\n",
       "      <td>1</td>\n",
       "      <td>1.0</td>\n",
       "    </tr>\n",
       "    <tr>\n",
       "      <th>2</th>\n",
       "      <td>aEW8J</td>\n",
       "      <td>1</td>\n",
       "      <td>53</td>\n",
       "      <td>4</td>\n",
       "      <td>2</td>\n",
       "      <td>1112262301</td>\n",
       "      <td>1</td>\n",
       "      <td>1</td>\n",
       "      <td>75</td>\n",
       "      <td>53</td>\n",
       "      <td>1537</td>\n",
       "      <td>2</td>\n",
       "      <td>1488</td>\n",
       "      <td>0</td>\n",
       "      <td>0</td>\n",
       "      <td>0.0</td>\n",
       "      <td>1</td>\n",
       "      <td>1.0</td>\n",
       "    </tr>\n",
       "    <tr>\n",
       "      <th>3</th>\n",
       "      <td>aEW8J</td>\n",
       "      <td>1</td>\n",
       "      <td>53</td>\n",
       "      <td>4</td>\n",
       "      <td>2</td>\n",
       "      <td>1112280883</td>\n",
       "      <td>1</td>\n",
       "      <td>1</td>\n",
       "      <td>75</td>\n",
       "      <td>42</td>\n",
       "      <td>1625</td>\n",
       "      <td>3</td>\n",
       "      <td>3819</td>\n",
       "      <td>0</td>\n",
       "      <td>0</td>\n",
       "      <td>1.0</td>\n",
       "      <td>1</td>\n",
       "      <td>1.0</td>\n",
       "    </tr>\n",
       "    <tr>\n",
       "      <th>4</th>\n",
       "      <td>aEW8J</td>\n",
       "      <td>1</td>\n",
       "      <td>53</td>\n",
       "      <td>4</td>\n",
       "      <td>2</td>\n",
       "      <td>1112284858</td>\n",
       "      <td>1</td>\n",
       "      <td>1</td>\n",
       "      <td>157</td>\n",
       "      <td>70</td>\n",
       "      <td>2588</td>\n",
       "      <td>2</td>\n",
       "      <td>2256</td>\n",
       "      <td>0</td>\n",
       "      <td>0</td>\n",
       "      <td>0.0</td>\n",
       "      <td>1</td>\n",
       "      <td>1.0</td>\n",
       "    </tr>\n",
       "  </tbody>\n",
       "</table>\n",
       "</div>"
      ],
      "text/plain": [
       "  idpostulante  Cod_sexo  edad Cod_edu Cod_est     idaviso  nombre_zona  \\\n",
       "0        aEW8J         1    53       4       2  1112028437            1   \n",
       "1        aEW8J         1    53       4       2  1112263553            1   \n",
       "2        aEW8J         1    53       4       2  1112262301            1   \n",
       "3        aEW8J         1    53       4       2  1112280883            1   \n",
       "4        aEW8J         1    53       4       2  1112284858            1   \n",
       "\n",
       "   tipo_de_trabajo  nombre_area  longitud_titulo  longitud_descripcion  \\\n",
       "0                1          157               33                  1420   \n",
       "1                1          157               35                  1602   \n",
       "2                1           75               53                  1537   \n",
       "3                1           75               42                  1625   \n",
       "4                1          157               70                  2588   \n",
       "\n",
       "   nivel_laboral  denominacion_empresa  mapacalle  ciudad  online  sepostulo  \\\n",
       "0              2                  4016          0       0     1.0          1   \n",
       "1              3                  3084          0       0     0.0          1   \n",
       "2              2                  1488          0       0     0.0          1   \n",
       "3              3                  3819          0       0     1.0          1   \n",
       "4              2                  2256          0       0     0.0          1   \n",
       "\n",
       "   cantidad_vistas  \n",
       "0              1.0  \n",
       "1              1.0  \n",
       "2              1.0  \n",
       "3              1.0  \n",
       "4              1.0  "
      ]
     },
     "execution_count": 82,
     "metadata": {},
     "output_type": "execute_result"
    }
   ],
   "source": [
    "#Junto todo\n",
    "\n",
    "Data = pd.concat ([postulaciones_historico,vistas],axis=0)\n",
    "Data.head()"
   ]
  },
  {
   "cell_type": "code",
   "execution_count": 83,
   "metadata": {},
   "outputs": [
    {
     "data": {
      "text/plain": [
       "474"
      ]
     },
     "execution_count": 83,
     "metadata": {},
     "output_type": "execute_result"
    }
   ],
   "source": [
    "#Ya no necesito este dataframe\n",
    "del [[postulaciones,vistas,postulaciones_historico]]\n",
    "gc.collect()"
   ]
  },
  {
   "cell_type": "code",
   "execution_count": 84,
   "metadata": {},
   "outputs": [],
   "source": [
    "#Filtro los registros que están presentes en test_final_100k_\n",
    "\n",
    "Data = Data.set_index(['idpostulante','idaviso']).drop(test_final_100k_.set_index(['idpostulante','idaviso']).index).reset_index()"
   ]
  },
  {
   "cell_type": "code",
   "execution_count": 85,
   "metadata": {},
   "outputs": [
    {
     "data": {
      "text/html": [
       "<div>\n",
       "<style scoped>\n",
       "    .dataframe tbody tr th:only-of-type {\n",
       "        vertical-align: middle;\n",
       "    }\n",
       "\n",
       "    .dataframe tbody tr th {\n",
       "        vertical-align: top;\n",
       "    }\n",
       "\n",
       "    .dataframe thead th {\n",
       "        text-align: right;\n",
       "    }\n",
       "</style>\n",
       "<table border=\"1\" class=\"dataframe\">\n",
       "  <thead>\n",
       "    <tr style=\"text-align: right;\">\n",
       "      <th></th>\n",
       "      <th>Cod_sexo</th>\n",
       "      <th>edad</th>\n",
       "      <th>Cod_edu</th>\n",
       "      <th>Cod_est</th>\n",
       "      <th>nombre_zona</th>\n",
       "      <th>tipo_de_trabajo</th>\n",
       "      <th>nombre_area</th>\n",
       "      <th>longitud_titulo</th>\n",
       "      <th>longitud_descripcion</th>\n",
       "      <th>nivel_laboral</th>\n",
       "      <th>denominacion_empresa</th>\n",
       "      <th>mapacalle</th>\n",
       "      <th>ciudad</th>\n",
       "      <th>online</th>\n",
       "      <th>sepostulo</th>\n",
       "      <th>cantidad_vistas</th>\n",
       "    </tr>\n",
       "  </thead>\n",
       "  <tbody>\n",
       "    <tr>\n",
       "      <th>0</th>\n",
       "      <td>1</td>\n",
       "      <td>53</td>\n",
       "      <td>4</td>\n",
       "      <td>2</td>\n",
       "      <td>1</td>\n",
       "      <td>1</td>\n",
       "      <td>157</td>\n",
       "      <td>33</td>\n",
       "      <td>1420</td>\n",
       "      <td>2</td>\n",
       "      <td>4016</td>\n",
       "      <td>0</td>\n",
       "      <td>0</td>\n",
       "      <td>1.0</td>\n",
       "      <td>1</td>\n",
       "      <td>1.0</td>\n",
       "    </tr>\n",
       "    <tr>\n",
       "      <th>1</th>\n",
       "      <td>1</td>\n",
       "      <td>53</td>\n",
       "      <td>4</td>\n",
       "      <td>2</td>\n",
       "      <td>1</td>\n",
       "      <td>1</td>\n",
       "      <td>157</td>\n",
       "      <td>35</td>\n",
       "      <td>1602</td>\n",
       "      <td>3</td>\n",
       "      <td>3084</td>\n",
       "      <td>0</td>\n",
       "      <td>0</td>\n",
       "      <td>0.0</td>\n",
       "      <td>1</td>\n",
       "      <td>1.0</td>\n",
       "    </tr>\n",
       "    <tr>\n",
       "      <th>2</th>\n",
       "      <td>1</td>\n",
       "      <td>53</td>\n",
       "      <td>4</td>\n",
       "      <td>2</td>\n",
       "      <td>1</td>\n",
       "      <td>1</td>\n",
       "      <td>75</td>\n",
       "      <td>53</td>\n",
       "      <td>1537</td>\n",
       "      <td>2</td>\n",
       "      <td>1488</td>\n",
       "      <td>0</td>\n",
       "      <td>0</td>\n",
       "      <td>0.0</td>\n",
       "      <td>1</td>\n",
       "      <td>1.0</td>\n",
       "    </tr>\n",
       "    <tr>\n",
       "      <th>3</th>\n",
       "      <td>1</td>\n",
       "      <td>53</td>\n",
       "      <td>4</td>\n",
       "      <td>2</td>\n",
       "      <td>1</td>\n",
       "      <td>1</td>\n",
       "      <td>75</td>\n",
       "      <td>42</td>\n",
       "      <td>1625</td>\n",
       "      <td>3</td>\n",
       "      <td>3819</td>\n",
       "      <td>0</td>\n",
       "      <td>0</td>\n",
       "      <td>1.0</td>\n",
       "      <td>1</td>\n",
       "      <td>1.0</td>\n",
       "    </tr>\n",
       "    <tr>\n",
       "      <th>4</th>\n",
       "      <td>1</td>\n",
       "      <td>53</td>\n",
       "      <td>4</td>\n",
       "      <td>2</td>\n",
       "      <td>1</td>\n",
       "      <td>1</td>\n",
       "      <td>157</td>\n",
       "      <td>70</td>\n",
       "      <td>2588</td>\n",
       "      <td>2</td>\n",
       "      <td>2256</td>\n",
       "      <td>0</td>\n",
       "      <td>0</td>\n",
       "      <td>0.0</td>\n",
       "      <td>1</td>\n",
       "      <td>1.0</td>\n",
       "    </tr>\n",
       "  </tbody>\n",
       "</table>\n",
       "</div>"
      ],
      "text/plain": [
       "   Cod_sexo  edad Cod_edu Cod_est  nombre_zona  tipo_de_trabajo  nombre_area  \\\n",
       "0         1    53       4       2            1                1          157   \n",
       "1         1    53       4       2            1                1          157   \n",
       "2         1    53       4       2            1                1           75   \n",
       "3         1    53       4       2            1                1           75   \n",
       "4         1    53       4       2            1                1          157   \n",
       "\n",
       "   longitud_titulo  longitud_descripcion  nivel_laboral  denominacion_empresa  \\\n",
       "0               33                  1420              2                  4016   \n",
       "1               35                  1602              3                  3084   \n",
       "2               53                  1537              2                  1488   \n",
       "3               42                  1625              3                  3819   \n",
       "4               70                  2588              2                  2256   \n",
       "\n",
       "   mapacalle  ciudad  online  sepostulo  cantidad_vistas  \n",
       "0          0       0     1.0          1              1.0  \n",
       "1          0       0     0.0          1              1.0  \n",
       "2          0       0     0.0          1              1.0  \n",
       "3          0       0     1.0          1              1.0  \n",
       "4          0       0     0.0          1              1.0  "
      ]
     },
     "execution_count": 85,
     "metadata": {},
     "output_type": "execute_result"
    }
   ],
   "source": [
    "Data = Data.drop(['idpostulante','idaviso'],axis=1)\n",
    "Data.head()"
   ]
  },
  {
   "cell_type": "code",
   "execution_count": 86,
   "metadata": {},
   "outputs": [],
   "source": [
    "Data.to_csv('Datos/Data.csv')"
   ]
  },
  {
   "cell_type": "markdown",
   "metadata": {},
   "source": [
    "# Armado de los datos de entrenamiento y prueba"
   ]
  },
  {
   "cell_type": "code",
   "execution_count": 3,
   "metadata": {},
   "outputs": [],
   "source": [
    "Data = pd.read_csv('Datos/Data.csv')\n",
    "Data = Data.drop(['Unnamed: 0','online'], axis=1)"
   ]
  },
  {
   "cell_type": "code",
   "execution_count": 4,
   "metadata": {},
   "outputs": [
    {
     "data": {
      "text/plain": [
       "(12950444, 15)"
      ]
     },
     "execution_count": 4,
     "metadata": {},
     "output_type": "execute_result"
    }
   ],
   "source": [
    "Data.shape"
   ]
  },
  {
   "cell_type": "code",
   "execution_count": 6,
   "metadata": {},
   "outputs": [
    {
     "data": {
      "text/plain": [
       "0    2623552\n",
       "1    2376448\n",
       "Name: sepostulo, dtype: int64"
      ]
     },
     "execution_count": 6,
     "metadata": {},
     "output_type": "execute_result"
    }
   ],
   "source": [
    "Data.sepostulo.value_counts()"
   ]
  },
  {
   "cell_type": "code",
   "execution_count": 7,
   "metadata": {},
   "outputs": [],
   "source": [
    "postulantes = pd.read_csv('Datos/postulantes.csv')\n",
    "avisos_detalle = pd.read_csv('Datos/avisos_detalle.csv')\n",
    "vistas_postulantes = pd.read_csv('Datos/vistas_postulantes.csv')"
   ]
  },
  {
   "cell_type": "code",
   "execution_count": 8,
   "metadata": {},
   "outputs": [
    {
     "data": {
      "text/html": [
       "<div>\n",
       "<style scoped>\n",
       "    .dataframe tbody tr th:only-of-type {\n",
       "        vertical-align: middle;\n",
       "    }\n",
       "\n",
       "    .dataframe tbody tr th {\n",
       "        vertical-align: top;\n",
       "    }\n",
       "\n",
       "    .dataframe thead th {\n",
       "        text-align: right;\n",
       "    }\n",
       "</style>\n",
       "<table border=\"1\" class=\"dataframe\">\n",
       "  <thead>\n",
       "    <tr style=\"text-align: right;\">\n",
       "      <th></th>\n",
       "      <th>Cod_sexo</th>\n",
       "      <th>edad</th>\n",
       "      <th>Cod_edu</th>\n",
       "      <th>Cod_est</th>\n",
       "      <th>nombre_zona</th>\n",
       "      <th>tipo_de_trabajo</th>\n",
       "      <th>nombre_area</th>\n",
       "      <th>longitud_titulo</th>\n",
       "      <th>longitud_descripcion</th>\n",
       "      <th>nivel_laboral</th>\n",
       "      <th>denominacion_empresa</th>\n",
       "      <th>mapacalle</th>\n",
       "      <th>ciudad</th>\n",
       "      <th>sepostulo</th>\n",
       "      <th>cantidad_vistas</th>\n",
       "    </tr>\n",
       "  </thead>\n",
       "  <tbody>\n",
       "    <tr>\n",
       "      <th>5834624</th>\n",
       "      <td>1</td>\n",
       "      <td>40</td>\n",
       "      <td>1.0</td>\n",
       "      <td>2.0</td>\n",
       "      <td>1</td>\n",
       "      <td>1</td>\n",
       "      <td>73</td>\n",
       "      <td>53</td>\n",
       "      <td>417</td>\n",
       "      <td>2</td>\n",
       "      <td>2531</td>\n",
       "      <td>0</td>\n",
       "      <td>0</td>\n",
       "      <td>1</td>\n",
       "      <td>1.0</td>\n",
       "    </tr>\n",
       "    <tr>\n",
       "      <th>438776</th>\n",
       "      <td>1</td>\n",
       "      <td>29</td>\n",
       "      <td>4.0</td>\n",
       "      <td>3.0</td>\n",
       "      <td>1</td>\n",
       "      <td>1</td>\n",
       "      <td>23</td>\n",
       "      <td>44</td>\n",
       "      <td>1020</td>\n",
       "      <td>6</td>\n",
       "      <td>4027</td>\n",
       "      <td>0</td>\n",
       "      <td>0</td>\n",
       "      <td>1</td>\n",
       "      <td>1.0</td>\n",
       "    </tr>\n",
       "    <tr>\n",
       "      <th>8868187</th>\n",
       "      <td>0</td>\n",
       "      <td>25</td>\n",
       "      <td>1.0</td>\n",
       "      <td>3.0</td>\n",
       "      <td>1</td>\n",
       "      <td>2</td>\n",
       "      <td>133</td>\n",
       "      <td>28</td>\n",
       "      <td>521</td>\n",
       "      <td>2</td>\n",
       "      <td>2524</td>\n",
       "      <td>0</td>\n",
       "      <td>0</td>\n",
       "      <td>0</td>\n",
       "      <td>1.0</td>\n",
       "    </tr>\n",
       "    <tr>\n",
       "      <th>5366428</th>\n",
       "      <td>1</td>\n",
       "      <td>31</td>\n",
       "      <td>1.0</td>\n",
       "      <td>3.0</td>\n",
       "      <td>1</td>\n",
       "      <td>1</td>\n",
       "      <td>171</td>\n",
       "      <td>71</td>\n",
       "      <td>1664</td>\n",
       "      <td>6</td>\n",
       "      <td>3477</td>\n",
       "      <td>0</td>\n",
       "      <td>0</td>\n",
       "      <td>1</td>\n",
       "      <td>1.0</td>\n",
       "    </tr>\n",
       "    <tr>\n",
       "      <th>2856859</th>\n",
       "      <td>1</td>\n",
       "      <td>27</td>\n",
       "      <td>3.0</td>\n",
       "      <td>3.0</td>\n",
       "      <td>1</td>\n",
       "      <td>1</td>\n",
       "      <td>61</td>\n",
       "      <td>26</td>\n",
       "      <td>2276</td>\n",
       "      <td>5</td>\n",
       "      <td>1100</td>\n",
       "      <td>0</td>\n",
       "      <td>0</td>\n",
       "      <td>1</td>\n",
       "      <td>1.0</td>\n",
       "    </tr>\n",
       "  </tbody>\n",
       "</table>\n",
       "</div>"
      ],
      "text/plain": [
       "         Cod_sexo  edad  Cod_edu  Cod_est  nombre_zona  tipo_de_trabajo  \\\n",
       "5834624         1    40      1.0      2.0            1                1   \n",
       "438776          1    29      4.0      3.0            1                1   \n",
       "8868187         0    25      1.0      3.0            1                2   \n",
       "5366428         1    31      1.0      3.0            1                1   \n",
       "2856859         1    27      3.0      3.0            1                1   \n",
       "\n",
       "         nombre_area  longitud_titulo  longitud_descripcion  nivel_laboral  \\\n",
       "5834624           73               53                   417              2   \n",
       "438776            23               44                  1020              6   \n",
       "8868187          133               28                   521              2   \n",
       "5366428          171               71                  1664              6   \n",
       "2856859           61               26                  2276              5   \n",
       "\n",
       "         denominacion_empresa  mapacalle  ciudad  sepostulo  cantidad_vistas  \n",
       "5834624                  2531          0       0          1              1.0  \n",
       "438776                   4027          0       0          1              1.0  \n",
       "8868187                  2524          0       0          0              1.0  \n",
       "5366428                  3477          0       0          1              1.0  \n",
       "2856859                  1100          0       0          1              1.0  "
      ]
     },
     "execution_count": 8,
     "metadata": {},
     "output_type": "execute_result"
    }
   ],
   "source": [
    "Data.head()"
   ]
  },
  {
   "cell_type": "code",
   "execution_count": 9,
   "metadata": {},
   "outputs": [
    {
     "data": {
      "text/html": [
       "<div>\n",
       "<style scoped>\n",
       "    .dataframe tbody tr th:only-of-type {\n",
       "        vertical-align: middle;\n",
       "    }\n",
       "\n",
       "    .dataframe tbody tr th {\n",
       "        vertical-align: top;\n",
       "    }\n",
       "\n",
       "    .dataframe thead th {\n",
       "        text-align: right;\n",
       "    }\n",
       "</style>\n",
       "<table border=\"1\" class=\"dataframe\">\n",
       "  <thead>\n",
       "    <tr style=\"text-align: right;\">\n",
       "      <th></th>\n",
       "      <th>idaviso</th>\n",
       "      <th>idpostulante</th>\n",
       "      <th>cantidad_vistas</th>\n",
       "    </tr>\n",
       "  </thead>\n",
       "  <tbody>\n",
       "    <tr>\n",
       "      <th>0</th>\n",
       "      <td>18</td>\n",
       "      <td>BolNL</td>\n",
       "      <td>2</td>\n",
       "    </tr>\n",
       "    <tr>\n",
       "      <th>1</th>\n",
       "      <td>48375</td>\n",
       "      <td>RwVdKR</td>\n",
       "      <td>1</td>\n",
       "    </tr>\n",
       "    <tr>\n",
       "      <th>2</th>\n",
       "      <td>169730</td>\n",
       "      <td>1KjXB</td>\n",
       "      <td>2</td>\n",
       "    </tr>\n",
       "    <tr>\n",
       "      <th>3</th>\n",
       "      <td>169730</td>\n",
       "      <td>2AKzxa</td>\n",
       "      <td>2</td>\n",
       "    </tr>\n",
       "    <tr>\n",
       "      <th>4</th>\n",
       "      <td>169730</td>\n",
       "      <td>6LJ64</td>\n",
       "      <td>1</td>\n",
       "    </tr>\n",
       "  </tbody>\n",
       "</table>\n",
       "</div>"
      ],
      "text/plain": [
       "   idaviso idpostulante  cantidad_vistas\n",
       "0       18        BolNL                2\n",
       "1    48375       RwVdKR                1\n",
       "2   169730        1KjXB                2\n",
       "3   169730       2AKzxa                2\n",
       "4   169730        6LJ64                1"
      ]
     },
     "execution_count": 9,
     "metadata": {},
     "output_type": "execute_result"
    }
   ],
   "source": [
    "vistas_postulantes.head()"
   ]
  },
  {
   "cell_type": "code",
   "execution_count": 10,
   "metadata": {},
   "outputs": [
    {
     "data": {
      "text/html": [
       "<div>\n",
       "<style scoped>\n",
       "    .dataframe tbody tr th:only-of-type {\n",
       "        vertical-align: middle;\n",
       "    }\n",
       "\n",
       "    .dataframe tbody tr th {\n",
       "        vertical-align: top;\n",
       "    }\n",
       "\n",
       "    .dataframe thead th {\n",
       "        text-align: right;\n",
       "    }\n",
       "</style>\n",
       "<table border=\"1\" class=\"dataframe\">\n",
       "  <thead>\n",
       "    <tr style=\"text-align: right;\">\n",
       "      <th></th>\n",
       "      <th>id</th>\n",
       "      <th>Cod_sexo</th>\n",
       "      <th>edad</th>\n",
       "      <th>Cod_edu</th>\n",
       "      <th>Cod_est</th>\n",
       "      <th>nombre_zona</th>\n",
       "      <th>tipo_de_trabajo</th>\n",
       "      <th>nombre_area</th>\n",
       "      <th>longitud_titulo</th>\n",
       "      <th>longitud_descripcion</th>\n",
       "      <th>nivel_laboral</th>\n",
       "      <th>denominacion_empresa</th>\n",
       "      <th>mapacalle</th>\n",
       "      <th>ciudad</th>\n",
       "      <th>cantidad_vistas</th>\n",
       "    </tr>\n",
       "  </thead>\n",
       "  <tbody>\n",
       "    <tr>\n",
       "      <th>0</th>\n",
       "      <td>0</td>\n",
       "      <td>1</td>\n",
       "      <td>42</td>\n",
       "      <td>7.0</td>\n",
       "      <td>3.0</td>\n",
       "      <td>2</td>\n",
       "      <td>1</td>\n",
       "      <td>107</td>\n",
       "      <td>19</td>\n",
       "      <td>420</td>\n",
       "      <td>3</td>\n",
       "      <td>3910</td>\n",
       "      <td>0</td>\n",
       "      <td>0</td>\n",
       "      <td>1.0</td>\n",
       "    </tr>\n",
       "    <tr>\n",
       "      <th>1</th>\n",
       "      <td>1</td>\n",
       "      <td>0</td>\n",
       "      <td>31</td>\n",
       "      <td>2.0</td>\n",
       "      <td>2.0</td>\n",
       "      <td>2</td>\n",
       "      <td>1</td>\n",
       "      <td>107</td>\n",
       "      <td>19</td>\n",
       "      <td>420</td>\n",
       "      <td>3</td>\n",
       "      <td>3910</td>\n",
       "      <td>0</td>\n",
       "      <td>0</td>\n",
       "      <td>1.0</td>\n",
       "    </tr>\n",
       "    <tr>\n",
       "      <th>2</th>\n",
       "      <td>2</td>\n",
       "      <td>1</td>\n",
       "      <td>36</td>\n",
       "      <td>4.0</td>\n",
       "      <td>3.0</td>\n",
       "      <td>2</td>\n",
       "      <td>1</td>\n",
       "      <td>107</td>\n",
       "      <td>19</td>\n",
       "      <td>420</td>\n",
       "      <td>3</td>\n",
       "      <td>3910</td>\n",
       "      <td>0</td>\n",
       "      <td>0</td>\n",
       "      <td>1.0</td>\n",
       "    </tr>\n",
       "    <tr>\n",
       "      <th>3</th>\n",
       "      <td>3</td>\n",
       "      <td>0</td>\n",
       "      <td>68</td>\n",
       "      <td>5.0</td>\n",
       "      <td>3.0</td>\n",
       "      <td>2</td>\n",
       "      <td>1</td>\n",
       "      <td>139</td>\n",
       "      <td>43</td>\n",
       "      <td>494</td>\n",
       "      <td>5</td>\n",
       "      <td>3425</td>\n",
       "      <td>0</td>\n",
       "      <td>0</td>\n",
       "      <td>1.0</td>\n",
       "    </tr>\n",
       "    <tr>\n",
       "      <th>4</th>\n",
       "      <td>4</td>\n",
       "      <td>1</td>\n",
       "      <td>32</td>\n",
       "      <td>3.0</td>\n",
       "      <td>2.0</td>\n",
       "      <td>2</td>\n",
       "      <td>1</td>\n",
       "      <td>139</td>\n",
       "      <td>43</td>\n",
       "      <td>494</td>\n",
       "      <td>5</td>\n",
       "      <td>3425</td>\n",
       "      <td>0</td>\n",
       "      <td>0</td>\n",
       "      <td>1.0</td>\n",
       "    </tr>\n",
       "  </tbody>\n",
       "</table>\n",
       "</div>"
      ],
      "text/plain": [
       "   id  Cod_sexo  edad  Cod_edu  Cod_est  nombre_zona  tipo_de_trabajo  \\\n",
       "0   0         1    42      7.0      3.0            2                1   \n",
       "1   1         0    31      2.0      2.0            2                1   \n",
       "2   2         1    36      4.0      3.0            2                1   \n",
       "3   3         0    68      5.0      3.0            2                1   \n",
       "4   4         1    32      3.0      2.0            2                1   \n",
       "\n",
       "   nombre_area  longitud_titulo  longitud_descripcion  nivel_laboral  \\\n",
       "0          107               19                   420              3   \n",
       "1          107               19                   420              3   \n",
       "2          107               19                   420              3   \n",
       "3          139               43                   494              5   \n",
       "4          139               43                   494              5   \n",
       "\n",
       "   denominacion_empresa  mapacalle  ciudad  cantidad_vistas  \n",
       "0                  3910          0       0              1.0  \n",
       "1                  3910          0       0              1.0  \n",
       "2                  3910          0       0              1.0  \n",
       "3                  3425          0       0              1.0  \n",
       "4                  3425          0       0              1.0  "
      ]
     },
     "execution_count": 10,
     "metadata": {},
     "output_type": "execute_result"
    }
   ],
   "source": [
    "#Estos son los datos de test_final_100k_ pasados a formato vector. \n",
    "#Con estos datos voy a sacar los resultados para llenar el csv del submit.\n",
    "x_query = pd.merge(test_final_100k_,postulantes,on='idpostulante',how='inner')\n",
    "x_query = pd.merge(x_query,avisos_detalle,on='idaviso',how='inner')\n",
    "x_query = pd.merge(x_query,vistas_postulantes,on=['idaviso','idpostulante'],how='left').drop(['idpostulante','idaviso','online'],axis=1)\n",
    "x_query = x_query.fillna(1)\n",
    "x_query = x_query.sort_values(by='id')\n",
    "del[[test_final_100k_]]\n",
    "gc.collect()\n",
    "x_query.head()"
   ]
  },
  {
   "cell_type": "code",
   "execution_count": 11,
   "metadata": {},
   "outputs": [
    {
     "data": {
      "text/plain": [
       "(100000, 15)"
      ]
     },
     "execution_count": 11,
     "metadata": {},
     "output_type": "execute_result"
    }
   ],
   "source": [
    "x_query.shape"
   ]
  },
  {
   "cell_type": "markdown",
   "metadata": {},
   "source": [
    "## Separación en set de train y de test"
   ]
  },
  {
   "cell_type": "code",
   "execution_count": 12,
   "metadata": {
    "scrolled": true
   },
   "outputs": [
    {
     "name": "stdout",
     "output_type": "stream",
     "text": [
      "Antes del filtrado\n",
      "(4500000, 14)\n",
      "(500000, 14)\n",
      "Despues del filtrado\n",
      "(4500000, 14)\n",
      "(150457, 14)\n"
     ]
    },
    {
     "data": {
      "text/plain": [
       "7"
      ]
     },
     "execution_count": 12,
     "metadata": {},
     "output_type": "execute_result"
    }
   ],
   "source": [
    "from sklearn.model_selection import train_test_split\n",
    "\n",
    "#Acá tengo la totalidad de los datos recolectados y sus labels correspondientes.\n",
    "x_train_complete = Data.drop(['sepostulo'], axis=1)\n",
    "y_train_complete = Data['sepostulo']\n",
    "\n",
    "del [[Data]]\n",
    "gc.collect()\n",
    "\n",
    "#Random state es la semilla del random, si la dejamos fija el split que hace de los datos va a ser siempre\n",
    "#el mismo\n",
    "x_train, x_test, y_train, y_test = train_test_split(x_train_complete, y_train_complete, test_size = 0.1, random_state = 7)\n",
    "\n",
    "del [[x_train_complete,y_train_complete]]\n",
    "gc.collect()\n",
    "\n",
    "print (\"Antes del filtrado\")\n",
    "print (x_train.shape)\n",
    "print (x_test.shape)\n",
    "\n",
    "################################################################################################################\n",
    "#Para no contaminar el resultado al evaluar predicciones, tengo que sacar de x_test los registros que sean identicos a \n",
    "#los de x_test.\n",
    "\n",
    "train=pd.concat([x_train,y_train],axis=1)\n",
    "test=pd.concat([x_test,y_test],axis=1)\n",
    "train['tipo'] = 1\n",
    "test['tipo'] = 0\n",
    "todo = pd.concat([train,test],axis=0)\n",
    "todo = todo.sort_values('tipo',ascending=False)\n",
    "todo = todo.drop_duplicates(todo.columns.drop(['tipo','sepostulo'])) #Con esto desparezco a los tipo 0 que aparecen tambien en train\n",
    "test = todo.loc[todo.tipo==0]\n",
    "x_test = test.drop(['sepostulo','tipo'],axis=1)\n",
    "y_test = test['sepostulo']\n",
    "x_train = train.drop(['sepostulo','tipo'],axis=1)\n",
    "y_train = train['sepostulo']\n",
    "\n",
    "del[[train,test,todo]]\n",
    "gc.collect()\n",
    "\n",
    "print (\"Despues del filtrado\")\n",
    "print (x_train.shape)\n",
    "print (x_test.shape)\n",
    "################################################################################################################\n",
    "\n",
    "\n",
    "del [[postulantes]]\n",
    "gc.collect()"
   ]
  },
  {
   "cell_type": "code",
   "execution_count": 13,
   "metadata": {},
   "outputs": [
    {
     "name": "stdout",
     "output_type": "stream",
     "text": [
      "(2205450, 14)\n",
      "(150457, 14)\n",
      "(2355907, 14)\n"
     ]
    }
   ],
   "source": [
    "#Podemos ver que no hay registros en comun entre x_train y x_test\n",
    "\n",
    "print (x_train.drop_duplicates().shape)\n",
    "print (x_test.shape)\n",
    "\n",
    "print (pd.concat([x_train.drop_duplicates(),x_test],axis=0).drop_duplicates().shape)"
   ]
  },
  {
   "cell_type": "code",
   "execution_count": 14,
   "metadata": {},
   "outputs": [
    {
     "data": {
      "text/plain": [
       "(4500000, 14)"
      ]
     },
     "execution_count": 14,
     "metadata": {},
     "output_type": "execute_result"
    }
   ],
   "source": [
    "x_train.shape"
   ]
  },
  {
   "cell_type": "code",
   "execution_count": 15,
   "metadata": {},
   "outputs": [
    {
     "data": {
      "text/plain": [
       "(100000, 15)"
      ]
     },
     "execution_count": 15,
     "metadata": {},
     "output_type": "execute_result"
    }
   ],
   "source": [
    "x_query.shape"
   ]
  },
  {
   "cell_type": "code",
   "execution_count": 16,
   "metadata": {},
   "outputs": [
    {
     "data": {
      "text/html": [
       "<div>\n",
       "<style scoped>\n",
       "    .dataframe tbody tr th:only-of-type {\n",
       "        vertical-align: middle;\n",
       "    }\n",
       "\n",
       "    .dataframe tbody tr th {\n",
       "        vertical-align: top;\n",
       "    }\n",
       "\n",
       "    .dataframe thead th {\n",
       "        text-align: right;\n",
       "    }\n",
       "</style>\n",
       "<table border=\"1\" class=\"dataframe\">\n",
       "  <thead>\n",
       "    <tr style=\"text-align: right;\">\n",
       "      <th></th>\n",
       "      <th>id</th>\n",
       "      <th>Cod_sexo</th>\n",
       "      <th>edad</th>\n",
       "      <th>Cod_edu</th>\n",
       "      <th>Cod_est</th>\n",
       "      <th>nombre_zona</th>\n",
       "      <th>tipo_de_trabajo</th>\n",
       "      <th>nombre_area</th>\n",
       "      <th>longitud_titulo</th>\n",
       "      <th>longitud_descripcion</th>\n",
       "      <th>nivel_laboral</th>\n",
       "      <th>denominacion_empresa</th>\n",
       "      <th>mapacalle</th>\n",
       "      <th>ciudad</th>\n",
       "      <th>cantidad_vistas</th>\n",
       "    </tr>\n",
       "  </thead>\n",
       "  <tbody>\n",
       "    <tr>\n",
       "      <th>0</th>\n",
       "      <td>0</td>\n",
       "      <td>1</td>\n",
       "      <td>42</td>\n",
       "      <td>7.0</td>\n",
       "      <td>3.0</td>\n",
       "      <td>2</td>\n",
       "      <td>1</td>\n",
       "      <td>107</td>\n",
       "      <td>19</td>\n",
       "      <td>420</td>\n",
       "      <td>3</td>\n",
       "      <td>3910</td>\n",
       "      <td>0</td>\n",
       "      <td>0</td>\n",
       "      <td>1.0</td>\n",
       "    </tr>\n",
       "    <tr>\n",
       "      <th>1</th>\n",
       "      <td>1</td>\n",
       "      <td>0</td>\n",
       "      <td>31</td>\n",
       "      <td>2.0</td>\n",
       "      <td>2.0</td>\n",
       "      <td>2</td>\n",
       "      <td>1</td>\n",
       "      <td>107</td>\n",
       "      <td>19</td>\n",
       "      <td>420</td>\n",
       "      <td>3</td>\n",
       "      <td>3910</td>\n",
       "      <td>0</td>\n",
       "      <td>0</td>\n",
       "      <td>1.0</td>\n",
       "    </tr>\n",
       "    <tr>\n",
       "      <th>2</th>\n",
       "      <td>2</td>\n",
       "      <td>1</td>\n",
       "      <td>36</td>\n",
       "      <td>4.0</td>\n",
       "      <td>3.0</td>\n",
       "      <td>2</td>\n",
       "      <td>1</td>\n",
       "      <td>107</td>\n",
       "      <td>19</td>\n",
       "      <td>420</td>\n",
       "      <td>3</td>\n",
       "      <td>3910</td>\n",
       "      <td>0</td>\n",
       "      <td>0</td>\n",
       "      <td>1.0</td>\n",
       "    </tr>\n",
       "    <tr>\n",
       "      <th>3</th>\n",
       "      <td>3</td>\n",
       "      <td>0</td>\n",
       "      <td>68</td>\n",
       "      <td>5.0</td>\n",
       "      <td>3.0</td>\n",
       "      <td>2</td>\n",
       "      <td>1</td>\n",
       "      <td>139</td>\n",
       "      <td>43</td>\n",
       "      <td>494</td>\n",
       "      <td>5</td>\n",
       "      <td>3425</td>\n",
       "      <td>0</td>\n",
       "      <td>0</td>\n",
       "      <td>1.0</td>\n",
       "    </tr>\n",
       "    <tr>\n",
       "      <th>4</th>\n",
       "      <td>4</td>\n",
       "      <td>1</td>\n",
       "      <td>32</td>\n",
       "      <td>3.0</td>\n",
       "      <td>2.0</td>\n",
       "      <td>2</td>\n",
       "      <td>1</td>\n",
       "      <td>139</td>\n",
       "      <td>43</td>\n",
       "      <td>494</td>\n",
       "      <td>5</td>\n",
       "      <td>3425</td>\n",
       "      <td>0</td>\n",
       "      <td>0</td>\n",
       "      <td>1.0</td>\n",
       "    </tr>\n",
       "  </tbody>\n",
       "</table>\n",
       "</div>"
      ],
      "text/plain": [
       "   id  Cod_sexo  edad  Cod_edu  Cod_est  nombre_zona  tipo_de_trabajo  \\\n",
       "0   0         1    42      7.0      3.0            2                1   \n",
       "1   1         0    31      2.0      2.0            2                1   \n",
       "2   2         1    36      4.0      3.0            2                1   \n",
       "3   3         0    68      5.0      3.0            2                1   \n",
       "4   4         1    32      3.0      2.0            2                1   \n",
       "\n",
       "   nombre_area  longitud_titulo  longitud_descripcion  nivel_laboral  \\\n",
       "0          107               19                   420              3   \n",
       "1          107               19                   420              3   \n",
       "2          107               19                   420              3   \n",
       "3          139               43                   494              5   \n",
       "4          139               43                   494              5   \n",
       "\n",
       "   denominacion_empresa  mapacalle  ciudad  cantidad_vistas  \n",
       "0                  3910          0       0              1.0  \n",
       "1                  3910          0       0              1.0  \n",
       "2                  3910          0       0              1.0  \n",
       "3                  3425          0       0              1.0  \n",
       "4                  3425          0       0              1.0  "
      ]
     },
     "execution_count": 16,
     "metadata": {},
     "output_type": "execute_result"
    }
   ],
   "source": [
    "x_query.head()"
   ]
  },
  {
   "cell_type": "code",
   "execution_count": 17,
   "metadata": {},
   "outputs": [
    {
     "data": {
      "text/html": [
       "<div>\n",
       "<style scoped>\n",
       "    .dataframe tbody tr th:only-of-type {\n",
       "        vertical-align: middle;\n",
       "    }\n",
       "\n",
       "    .dataframe tbody tr th {\n",
       "        vertical-align: top;\n",
       "    }\n",
       "\n",
       "    .dataframe thead th {\n",
       "        text-align: right;\n",
       "    }\n",
       "</style>\n",
       "<table border=\"1\" class=\"dataframe\">\n",
       "  <thead>\n",
       "    <tr style=\"text-align: right;\">\n",
       "      <th></th>\n",
       "      <th>Cod_sexo</th>\n",
       "      <th>edad</th>\n",
       "      <th>Cod_edu</th>\n",
       "      <th>Cod_est</th>\n",
       "      <th>nombre_zona</th>\n",
       "      <th>tipo_de_trabajo</th>\n",
       "      <th>nombre_area</th>\n",
       "      <th>longitud_titulo</th>\n",
       "      <th>longitud_descripcion</th>\n",
       "      <th>nivel_laboral</th>\n",
       "      <th>denominacion_empresa</th>\n",
       "      <th>mapacalle</th>\n",
       "      <th>ciudad</th>\n",
       "      <th>cantidad_vistas</th>\n",
       "    </tr>\n",
       "  </thead>\n",
       "  <tbody>\n",
       "    <tr>\n",
       "      <th>1008181</th>\n",
       "      <td>0</td>\n",
       "      <td>45</td>\n",
       "      <td>4.0</td>\n",
       "      <td>3.0</td>\n",
       "      <td>1</td>\n",
       "      <td>1</td>\n",
       "      <td>125</td>\n",
       "      <td>23</td>\n",
       "      <td>1069</td>\n",
       "      <td>2</td>\n",
       "      <td>1488</td>\n",
       "      <td>0</td>\n",
       "      <td>0</td>\n",
       "      <td>1.0</td>\n",
       "    </tr>\n",
       "    <tr>\n",
       "      <th>8228665</th>\n",
       "      <td>0</td>\n",
       "      <td>30</td>\n",
       "      <td>4.0</td>\n",
       "      <td>2.0</td>\n",
       "      <td>1</td>\n",
       "      <td>1</td>\n",
       "      <td>176</td>\n",
       "      <td>37</td>\n",
       "      <td>758</td>\n",
       "      <td>2</td>\n",
       "      <td>332</td>\n",
       "      <td>0</td>\n",
       "      <td>0</td>\n",
       "      <td>1.0</td>\n",
       "    </tr>\n",
       "    <tr>\n",
       "      <th>11771273</th>\n",
       "      <td>1</td>\n",
       "      <td>29</td>\n",
       "      <td>4.0</td>\n",
       "      <td>2.0</td>\n",
       "      <td>2</td>\n",
       "      <td>1</td>\n",
       "      <td>107</td>\n",
       "      <td>36</td>\n",
       "      <td>1083</td>\n",
       "      <td>2</td>\n",
       "      <td>3162</td>\n",
       "      <td>1</td>\n",
       "      <td>0</td>\n",
       "      <td>1.0</td>\n",
       "    </tr>\n",
       "    <tr>\n",
       "      <th>7872646</th>\n",
       "      <td>1</td>\n",
       "      <td>22</td>\n",
       "      <td>4.0</td>\n",
       "      <td>2.0</td>\n",
       "      <td>1</td>\n",
       "      <td>1</td>\n",
       "      <td>73</td>\n",
       "      <td>41</td>\n",
       "      <td>360</td>\n",
       "      <td>2</td>\n",
       "      <td>2456</td>\n",
       "      <td>0</td>\n",
       "      <td>0</td>\n",
       "      <td>1.0</td>\n",
       "    </tr>\n",
       "    <tr>\n",
       "      <th>3313814</th>\n",
       "      <td>1</td>\n",
       "      <td>28</td>\n",
       "      <td>4.0</td>\n",
       "      <td>2.0</td>\n",
       "      <td>1</td>\n",
       "      <td>1</td>\n",
       "      <td>176</td>\n",
       "      <td>38</td>\n",
       "      <td>1069</td>\n",
       "      <td>2</td>\n",
       "      <td>159</td>\n",
       "      <td>0</td>\n",
       "      <td>0</td>\n",
       "      <td>1.0</td>\n",
       "    </tr>\n",
       "  </tbody>\n",
       "</table>\n",
       "</div>"
      ],
      "text/plain": [
       "          Cod_sexo  edad  Cod_edu  Cod_est  nombre_zona  tipo_de_trabajo  \\\n",
       "1008181          0    45      4.0      3.0            1                1   \n",
       "8228665          0    30      4.0      2.0            1                1   \n",
       "11771273         1    29      4.0      2.0            2                1   \n",
       "7872646          1    22      4.0      2.0            1                1   \n",
       "3313814          1    28      4.0      2.0            1                1   \n",
       "\n",
       "          nombre_area  longitud_titulo  longitud_descripcion  nivel_laboral  \\\n",
       "1008181           125               23                  1069              2   \n",
       "8228665           176               37                   758              2   \n",
       "11771273          107               36                  1083              2   \n",
       "7872646            73               41                   360              2   \n",
       "3313814           176               38                  1069              2   \n",
       "\n",
       "          denominacion_empresa  mapacalle  ciudad  cantidad_vistas  \n",
       "1008181                   1488          0       0              1.0  \n",
       "8228665                    332          0       0              1.0  \n",
       "11771273                  3162          1       0              1.0  \n",
       "7872646                   2456          0       0              1.0  \n",
       "3313814                    159          0       0              1.0  "
      ]
     },
     "execution_count": 17,
     "metadata": {},
     "output_type": "execute_result"
    }
   ],
   "source": [
    "x_train.head()"
   ]
  },
  {
   "cell_type": "code",
   "execution_count": 18,
   "metadata": {},
   "outputs": [],
   "source": [
    "#x_train.to_csv('Datos/x_train.csv')\n",
    "#pd.DataFrame(y_train).to_csv('Datos/y_train.csv')\n",
    "#x_test.to_csv('Datos/x_test.csv')\n",
    "#pd.DataFrame(y_test).to_csv('Datos/y_test.csv')\n",
    "#x_query.to_csv('Datos/x_query.csv')"
   ]
  },
  {
   "cell_type": "markdown",
   "metadata": {},
   "source": [
    "# Script para generar submits"
   ]
  },
  {
   "cell_type": "code",
   "execution_count": 19,
   "metadata": {},
   "outputs": [],
   "source": [
    "def generar_submit(modelo,x_query,nombrecsv,tipo_pred):\n",
    "    submit=pd.DataFrame()\n",
    "    submit['id']=x_query['id']\n",
    "    if tipo_pred == 'proba':\n",
    "        submit['sepostulo'] = pd.DataFrame(modelo.predict_proba(x_query.drop('id', axis=1)),columns=['Proba_NO','Proba_SI'])['Proba_SI']\n",
    "    if tipo_pred == 'bin':\n",
    "        submit['sepostulo'] = modelo.predict(x_query.drop('id', axis=1))\n",
    "    print (modelo.get_params())\n",
    "    return submit.set_index('id').to_csv('Datos/'+nombrecsv+'.csv')"
   ]
  },
  {
   "cell_type": "markdown",
   "metadata": {},
   "source": [
    "# Script para evaluar modelos"
   ]
  },
  {
   "cell_type": "code",
   "execution_count": 20,
   "metadata": {},
   "outputs": [],
   "source": [
    "def evaluar(modelo, x_test, y_test):\n",
    "    # Hago las predicciones\n",
    "    pred = modelo.predict(x_test)\n",
    "    predicciones = [round(value) for value in pred]\n",
    "\n",
    "    # Evalúo porcentaje de acierto\n",
    "    accuracy = accuracy_score(y_test, predicciones)\n",
    "    print(\"Porcentaje de acierto: %.2f%%\" % (accuracy * 100.0))"
   ]
  },
  {
   "cell_type": "markdown",
   "metadata": {},
   "source": [
    "# Primera aproximación: métodos simples"
   ]
  },
  {
   "cell_type": "markdown",
   "metadata": {},
   "source": [
    "Comenzaremos probando dos de los métodos más clásicos: árbol de decisión y KNN, como para tener un primer tanteo de la forma en que las predicciones se comportan"
   ]
  },
  {
   "cell_type": "markdown",
   "metadata": {},
   "source": [
    "## Árbol de decisión"
   ]
  },
  {
   "cell_type": "code",
   "execution_count": 23,
   "metadata": {
    "scrolled": true
   },
   "outputs": [
    {
     "name": "stdout",
     "output_type": "stream",
     "text": [
      "Porcentaje de acierto: 91.49%\n",
      "Porcentaje de acierto: 71.95%\n"
     ]
    }
   ],
   "source": [
    "arbol = tree.DecisionTreeClassifier(random_state=1)\n",
    "arbol.fit(x_train,y_train)\n",
    "evaluar(arbol,x_train,y_train)\n",
    "evaluar(arbol,x_test,y_test)"
   ]
  },
  {
   "cell_type": "code",
   "execution_count": 36,
   "metadata": {
    "scrolled": true
   },
   "outputs": [
    {
     "data": {
      "text/html": [
       "<div>\n",
       "<style scoped>\n",
       "    .dataframe tbody tr th:only-of-type {\n",
       "        vertical-align: middle;\n",
       "    }\n",
       "\n",
       "    .dataframe tbody tr th {\n",
       "        vertical-align: top;\n",
       "    }\n",
       "\n",
       "    .dataframe thead th {\n",
       "        text-align: right;\n",
       "    }\n",
       "</style>\n",
       "<table border=\"1\" class=\"dataframe\">\n",
       "  <thead>\n",
       "    <tr style=\"text-align: right;\">\n",
       "      <th></th>\n",
       "      <th>importance</th>\n",
       "    </tr>\n",
       "  </thead>\n",
       "  <tbody>\n",
       "    <tr>\n",
       "      <th>edad</th>\n",
       "      <td>0.195066</td>\n",
       "    </tr>\n",
       "    <tr>\n",
       "      <th>longitud_descripcion</th>\n",
       "      <td>0.165457</td>\n",
       "    </tr>\n",
       "    <tr>\n",
       "      <th>cantidad_vistas</th>\n",
       "      <td>0.149331</td>\n",
       "    </tr>\n",
       "    <tr>\n",
       "      <th>denominacion_empresa</th>\n",
       "      <td>0.120240</td>\n",
       "    </tr>\n",
       "    <tr>\n",
       "      <th>longitud_titulo</th>\n",
       "      <td>0.104295</td>\n",
       "    </tr>\n",
       "    <tr>\n",
       "      <th>nombre_area</th>\n",
       "      <td>0.089642</td>\n",
       "    </tr>\n",
       "    <tr>\n",
       "      <th>Cod_edu</th>\n",
       "      <td>0.053601</td>\n",
       "    </tr>\n",
       "    <tr>\n",
       "      <th>Cod_est</th>\n",
       "      <td>0.039581</td>\n",
       "    </tr>\n",
       "    <tr>\n",
       "      <th>Cod_sexo</th>\n",
       "      <td>0.032691</td>\n",
       "    </tr>\n",
       "    <tr>\n",
       "      <th>nivel_laboral</th>\n",
       "      <td>0.030804</td>\n",
       "    </tr>\n",
       "    <tr>\n",
       "      <th>tipo_de_trabajo</th>\n",
       "      <td>0.010505</td>\n",
       "    </tr>\n",
       "    <tr>\n",
       "      <th>nombre_zona</th>\n",
       "      <td>0.004666</td>\n",
       "    </tr>\n",
       "    <tr>\n",
       "      <th>mapacalle</th>\n",
       "      <td>0.003382</td>\n",
       "    </tr>\n",
       "    <tr>\n",
       "      <th>ciudad</th>\n",
       "      <td>0.000739</td>\n",
       "    </tr>\n",
       "  </tbody>\n",
       "</table>\n",
       "</div>"
      ],
      "text/plain": [
       "                      importance\n",
       "edad                    0.195066\n",
       "longitud_descripcion    0.165457\n",
       "cantidad_vistas         0.149331\n",
       "denominacion_empresa    0.120240\n",
       "longitud_titulo         0.104295\n",
       "nombre_area             0.089642\n",
       "Cod_edu                 0.053601\n",
       "Cod_est                 0.039581\n",
       "Cod_sexo                0.032691\n",
       "nivel_laboral           0.030804\n",
       "tipo_de_trabajo         0.010505\n",
       "nombre_zona             0.004666\n",
       "mapacalle               0.003382\n",
       "ciudad                  0.000739"
      ]
     },
     "execution_count": 36,
     "metadata": {},
     "output_type": "execute_result"
    }
   ],
   "source": [
    "#Por lo que vemos mapacalle, ciudad, nombre zona no aportan mucho. Al parecer solamente es ruido.\n",
    "\n",
    "feature_importances = pd.DataFrame(arbol.feature_importances_,\n",
    "                                   index = x_train.columns,\n",
    "                                    columns=['importance']).sort_values('importance',ascending=False)\n",
    "feature_importances"
   ]
  },
  {
   "cell_type": "code",
   "execution_count": 26,
   "metadata": {},
   "outputs": [
    {
     "name": "stdout",
     "output_type": "stream",
     "text": [
      "Porcentaje de acierto: 84.99%\n",
      "Porcentaje de acierto: 73.96%\n"
     ]
    }
   ],
   "source": [
    "#Probemos entrenar al arbol solamente con los cinco features mas importantes. Mejoro la precision\n",
    "\n",
    "arbol = tree.DecisionTreeClassifier(random_state=1)\n",
    "arbol.fit(x_train[['edad','longitud_descripcion','cantidad_vistas','denominacion_empresa','longitud_titulo']],y_train)\n",
    "evaluar(arbol,x_train[['edad','longitud_descripcion','cantidad_vistas','denominacion_empresa','longitud_titulo']],y_train)\n",
    "evaluar(arbol,x_test[['edad','longitud_descripcion','cantidad_vistas','denominacion_empresa','longitud_titulo']],y_test)"
   ]
  },
  {
   "cell_type": "markdown",
   "metadata": {},
   "source": [
    "### Búqueda de hiperparámetros"
   ]
  },
  {
   "cell_type": "markdown",
   "metadata": {},
   "source": [
    "Previa lectura de la documentación de sklearn, hemos definido los hiperparámetros del árbol que consideramos más importantes. Definimos también un rango donde buscar, así que ahora haremos uso de random search para probar al azar n combinaciones de los mismos, quedándonos con la mejor.\n",
    "Cada combinación la entrenaremos usando k_fold para disminuir el riesgo de overfitting."
   ]
  },
  {
   "cell_type": "code",
   "execution_count": 24,
   "metadata": {
    "scrolled": false
   },
   "outputs": [
    {
     "name": "stdout",
     "output_type": "stream",
     "text": [
      "Fitting 3 folds for each of 40 candidates, totalling 120 fits\n"
     ]
    },
    {
     "name": "stderr",
     "output_type": "stream",
     "text": [
      "[Parallel(n_jobs=-1)]: Done  10 tasks      | elapsed:  1.3min\n",
      "[Parallel(n_jobs=-1)]: Done  64 tasks      | elapsed:  9.6min\n",
      "[Parallel(n_jobs=-1)]: Done 120 out of 120 | elapsed: 17.6min finished\n"
     ]
    },
    {
     "data": {
      "text/plain": [
       "RandomizedSearchCV(cv=3, error_score='raise',\n",
       "          estimator=DecisionTreeClassifier(class_weight=None, criterion='gini', max_depth=None,\n",
       "            max_features=None, max_leaf_nodes=None,\n",
       "            min_impurity_decrease=0.0, min_impurity_split=None,\n",
       "            min_samples_leaf=1, min_samples_split=2,\n",
       "            min_weight_fraction_leaf=0.0, presort=False, random_state=7,\n",
       "            splitter='best'),\n",
       "          fit_params=None, iid=True, n_iter=40, n_jobs=-1,\n",
       "          param_distributions={'min_samples_split': [2, 3, 4, 5, 6, 7, 8, 9, 10, 50, 100, 150, 200, 250, 300], 'splitter': ['random', 'best'], 'criterion': ['gini'], 'max_depth': [None, 10, 20, 30, 40, 50, 60, 70, 80, 90, 100], 'min_samples_leaf': [1, 2, 3, 4, 5, 10, 15, 20, 25, 30, 35, 40, 45, 50]},\n",
       "          pre_dispatch='2*n_jobs', random_state=42, refit=True,\n",
       "          return_train_score='warn', scoring=None, verbose=5)"
      ]
     },
     "execution_count": 24,
     "metadata": {},
     "output_type": "execute_result"
    }
   ],
   "source": [
    "#Defino un rango para cada parámetro que me intersa, randomSearch va a probar con n combinaciones al azar.\n",
    "max_depth = [None, 10, 20, 30, 40, 50, 60, 70, 80, 90, 100]\n",
    "min_samples_leaf = [1,2,3,4,5,10,15,20,25,30,35,40,45,50]\n",
    "min_samples_split = [2,3,4,5,6,7,8,9,10,50,100,150,200,250,300]\n",
    "criterion = ['gini']\n",
    "splitter = ['random','best']\n",
    "\n",
    "random_grid = {    \n",
    "    'max_depth': max_depth,\n",
    "    'min_samples_leaf': min_samples_leaf,\n",
    "    'criterion': criterion,\n",
    "    'splitter': splitter,\n",
    "    'min_samples_split':min_samples_split,\n",
    "     }\n",
    "\n",
    "#El modelo para el que quiero probar parámetros\n",
    "arbol = tree.DecisionTreeClassifier(random_state=7)\n",
    "\n",
    "#Pruebo 10 combinaciones al azar y hago k_fold  con k=3 para cada una. Total: 60 iteraciones  (3 minutos aprox). \n",
    "#n_jobs maneja la cantidad de procesos(cores) a utilizar. Con -1 estoy usando todos los disponibles.\n",
    "rf_random = RandomizedSearchCV(estimator = arbol, param_distributions = random_grid, n_iter = 40, cv = 3, verbose=5, n_jobs = -1, random_state=42)\n",
    "rf_random.fit(x_train[['edad','longitud_descripcion','cantidad_vistas','denominacion_empresa','longitud_titulo']],y_train)"
   ]
  },
  {
   "cell_type": "code",
   "execution_count": 25,
   "metadata": {
    "scrolled": true
   },
   "outputs": [
    {
     "name": "stdout",
     "output_type": "stream",
     "text": [
      "{'min_samples_split': 100, 'splitter': 'best', 'criterion': 'gini', 'max_depth': 70, 'min_samples_leaf': 20}\n",
      "0.7963368888888889\n"
     ]
    }
   ],
   "source": [
    "#De todas las combinaciones de parámetros que randomSearch probó, esta es la mejor.\n",
    "\n",
    "print(rf_random.best_params_)\n",
    "print(rf_random.best_score_)"
   ]
  },
  {
   "cell_type": "code",
   "execution_count": 27,
   "metadata": {},
   "outputs": [
    {
     "name": "stdout",
     "output_type": "stream",
     "text": [
      "Porcentaje de acierto: 80.96%\n",
      "Porcentaje de acierto: 75.96%\n"
     ]
    }
   ],
   "source": [
    "evaluar(rf_random.best_estimator_,x_train[['edad','longitud_descripcion','cantidad_vistas','denominacion_empresa','longitud_titulo']],y_train)\n",
    "evaluar(rf_random.best_estimator_,x_test[['edad','longitud_descripcion','cantidad_vistas','denominacion_empresa','longitud_titulo']],y_test)"
   ]
  },
  {
   "cell_type": "markdown",
   "metadata": {},
   "source": [
    "# PCA"
   ]
  },
  {
   "cell_type": "markdown",
   "metadata": {},
   "source": [
    "Probemos ahora reducir la dimensionalidad de nuestro set de datos."
   ]
  },
  {
   "cell_type": "code",
   "execution_count": 12,
   "metadata": {},
   "outputs": [
    {
     "name": "stdout",
     "output_type": "stream",
     "text": [
      "1 dimensiones, 0.11989415248733683\n",
      "2 dimensiones, 0.22297409464297352\n",
      "3 dimensiones, 0.3223339772042729\n",
      "4 dimensiones, 0.41694000655820007\n",
      "5 dimensiones, 0.5104160380732308\n",
      "6 dimensiones, 0.6009443002103942\n",
      "7 dimensiones, 0.6874239668656928\n",
      "8 dimensiones, 0.7708213964001055\n",
      "9 dimensiones, 0.8499623186834568\n",
      "10 dimensiones, 0.9256347929937477\n",
      "11 dimensiones, 1.0\n"
     ]
    }
   ],
   "source": [
    "#Intentemos con PCA. No parece que reducir dimensiones vaya a ayudarme mucho.\n",
    "\n",
    "#Normalizo la matriz\n",
    "from sklearn.preprocessing import StandardScaler\n",
    "x = StandardScaler().fit_transform(x_train.values)\n",
    "\n",
    "#Veamos cuanta informacion se conserva para cada posible reduccion\n",
    "for n in range (1,12):\n",
    "    from sklearn.decomposition import PCA\n",
    "    # en este caso aplicamos PCA indicando la cantidad de componentes \n",
    "    # que queremos, 2, para representar en 2 dimensiones.\n",
    "    pca = PCA(n_components=n)\n",
    "    principalComponents = pca.fit_transform(x)\n",
    "    # reconstruimos el data frame para poder representarlo\n",
    "    principalDf = pd.DataFrame(data = principalComponents)\n",
    "    print str(n)+\" dimensiones, \"+str(sum(pca.explained_variance_ratio_))"
   ]
  },
  {
   "cell_type": "markdown",
   "metadata": {},
   "source": [
    "## KNN"
   ]
  },
  {
   "cell_type": "markdown",
   "metadata": {},
   "source": [
    "Comencemos por analizar uno de los parámetros centrales del algoritmo: el valor de K"
   ]
  },
  {
   "cell_type": "code",
   "execution_count": null,
   "metadata": {},
   "outputs": [],
   "source": [
    "for k in range (1,51,4):\n",
    "    model = KNeighborsClassifier(n_neighbors=k,\n",
    "                                 n_jobs=-1,\n",
    "                                 weights='distance',\n",
    "                                 p=2)\n",
    "    model.fit(x_train[['edad','longitud_descripcion','cantidad_vistas','denominacion_empresa','longitud_titulo']], y_train)\n",
    "    #No es estrictamente necesario usar el set de prueba en KNN\n",
    "    score = model.score(x_test[['edad','longitud_descripcion','cantidad_vistas','denominacion_empresa','longitud_titulo']],y_test) \n",
    "    print(\"k=%d, Precision=%.2f%%\" % (k, score * 100))"
   ]
  },
  {
   "cell_type": "markdown",
   "metadata": {},
   "source": [
    "k=1, Precision=72.89%\n",
    "k=3, Precision=74.17%\n",
    "k=5, Precision=74.88%\n",
    "k=7, Precision=75.31%\n",
    "k=9, Precision=75.60%\n",
    "k=11, Precision=75.70%\n",
    "k=13, Precision=75.81%\n",
    "k=15, Precision=75.90%\n",
    "k=17, Precision=75.90%\n",
    "k=19, Precision=75.87%\n",
    "k=21, Precision=75.86%\n",
    "k=23, Precision=75.89%"
   ]
  },
  {
   "cell_type": "code",
   "execution_count": 20,
   "metadata": {},
   "outputs": [
    {
     "name": "stdout",
     "output_type": "stream",
     "text": [
      "Fitting 3 folds for each of 20 candidates, totalling 60 fits\n"
     ]
    },
    {
     "name": "stderr",
     "output_type": "stream",
     "text": [
      "[Parallel(n_jobs=-1)]: Done  37 tasks      | elapsed: 24.4min\n",
      "[Parallel(n_jobs=-1)]: Done  60 out of  60 | elapsed: 38.5min finished\n"
     ]
    },
    {
     "data": {
      "text/plain": [
       "RandomizedSearchCV(cv=3, error_score='raise',\n",
       "          estimator=KNeighborsClassifier(algorithm='auto', leaf_size=30, metric='minkowski',\n",
       "           metric_params=None, n_jobs=1, n_neighbors=5, p=2,\n",
       "           weights='uniform'),\n",
       "          fit_params=None, iid=True, n_iter=20, n_jobs=-1,\n",
       "          param_distributions={'n_neighbors': [18, 19, 20, 21, 22], 'n_jobs': [-1], 'weights': ['uniform', 'distance'], 'p': [1, 2, 3]},\n",
       "          pre_dispatch='2*n_jobs', random_state=42, refit=True,\n",
       "          return_train_score='warn', scoring=None, verbose=2)"
      ]
     },
     "execution_count": 20,
     "metadata": {},
     "output_type": "execute_result"
    }
   ],
   "source": [
    "#Defino un rango para cada parámetro que me interesa, randomSearch va a probar con n combinaciones al azar.\n",
    "weights = ['uniform', 'distance']\n",
    "p = [1,2,3]\n",
    "n_jobs = [-1]\n",
    "n_neighbors = [18, 19, 20, 21, 22]\n",
    "\n",
    "param_grid = {\n",
    "    'n_neighbors':n_neighbors,\n",
    "    'weights': weights,\n",
    "    'p': p,\n",
    "    'n_jobs': n_jobs\n",
    "    }\n",
    "\n",
    "#El modelo para el que quiero probar parámetros\n",
    "KNN = KNeighborsClassifier()\n",
    "\n",
    "#Pruebo 20 combinaciones al azar y hago k_fold  con k=3 para cada una. Total: 60 iteraciones  (3 minutos aprox). \n",
    "#n_jobs maneja la cantidad de procesos(cores) a utilizar. Con -1 estoy usando todos los disponibles.\n",
    "\n",
    "grid_search = GridSearchCV(estimator = KNN, \n",
    "                         param_grid = param_grid, \n",
    "                         cv = 3, \n",
    "                         n_jobs = -1, \n",
    "                         verbose = 5)\n",
    "grid_search.fit(x_train[['edad','longitud_descripcion','cantidad_vistas','denominacion_empresa','longitud_titulo']], y_train)"
   ]
  },
  {
   "cell_type": "code",
   "execution_count": 23,
   "metadata": {},
   "outputs": [
    {
     "data": {
      "text/plain": [
       "{'n_jobs': -1, 'n_neighbors': 22, 'p': 1, 'weights': 'uniform'}"
      ]
     },
     "execution_count": 23,
     "metadata": {},
     "output_type": "execute_result"
    }
   ],
   "source": [
    "print(rf_random.best_params_)\n",
    "print(rf_random.best_score_)"
   ]
  },
  {
   "cell_type": "code",
   "execution_count": 37,
   "metadata": {},
   "outputs": [
    {
     "data": {
      "text/plain": [
       "KNeighborsClassifier(algorithm='auto', leaf_size=30, metric='minkowski',\n",
       "           metric_params=None, n_jobs=-1, n_neighbors=150, p=2,\n",
       "           weights='distance')"
      ]
     },
     "execution_count": 37,
     "metadata": {},
     "output_type": "execute_result"
    }
   ],
   "source": [
    "KNN = KNeighborsClassifier(n_neighbors=150,\n",
    "                           n_jobs=-1,\n",
    "                           weights='distance',\n",
    "                           p=2)\n",
    "KNN.fit(x_train[['edad','longitud_descripcion','cantidad_vistas','longitud_titulo']], y_train)"
   ]
  },
  {
   "cell_type": "code",
   "execution_count": null,
   "metadata": {},
   "outputs": [],
   "source": [
    "evaluar(KNN,x_train[['edad','longitud_descripcion','cantidad_vistas','longitud_titulo']],y_train)\n",
    "evaluar(KNN,x_test[['edad','longitud_descripcion','cantidad_vistas','longitud_titulo']],y_test)"
   ]
  },
  {
   "cell_type": "code",
   "execution_count": 23,
   "metadata": {},
   "outputs": [
    {
     "name": "stdout",
     "output_type": "stream",
     "text": [
      "{'n_neighbors': 150, 'n_jobs': -1, 'algorithm': 'auto', 'metric': 'minkowski', 'metric_params': None, 'p': 2, 'weights': 'distance', 'leaf_size': 30}\n"
     ]
    }
   ],
   "source": [
    "generar_submit(KNN,x_query[['id','cantidad_vistas','longitud_descripcion','denominacion_empresa','longitud_titulo','edad']],'KNN','proba')"
   ]
  },
  {
   "cell_type": "markdown",
   "metadata": {},
   "source": [
    "# Métodos de ensamble"
   ]
  },
  {
   "cell_type": "markdown",
   "metadata": {},
   "source": [
    "Habiendo hecho ya algunas pruebas con métodos más simples, probemos ahora algunos algoritmos más potentes para intentar mejorar nuestros resultados."
   ]
  },
  {
   "cell_type": "markdown",
   "metadata": {},
   "source": [
    "## Bagging "
   ]
  },
  {
   "cell_type": "code",
   "execution_count": null,
   "metadata": {},
   "outputs": [],
   "source": [
    "arbol = tree.DecisionTreeClassifier(max_depth=70,\n",
    "                                    min_samples_leaf=20,\n",
    "                                    criterion='gini',\n",
    "                                    splitter='best',\n",
    "                                    min_samples_split=100)\n",
    "arbol.fit(x_train[['edad','longitud_descripcion','cantidad_vistas','denominacion_empresa','longitud_titulo']],y_train)\n",
    "evaluar(arbol,x_train[['edad','longitud_descripcion','cantidad_vistas','denominacion_empresa','longitud_titulo']],y_train)\n",
    "evaluar(arbol,x_test[['edad','longitud_descripcion','cantidad_vistas','denominacion_empresa','longitud_titulo']],y_test)"
   ]
  },
  {
   "cell_type": "code",
   "execution_count": null,
   "metadata": {},
   "outputs": [],
   "source": [
    "bagging = BaggingClassifier(base_estimator=arbol, n_estimators=30, max_samples=1.0)\n",
    "bagging.fit(x_train[['edad','longitud_descripcion','cantidad_vistas','denominacion_empresa','longitud_titulo']],y_train)\n",
    "evaluar(bagging,x_train[['edad','longitud_descripcion','cantidad_vistas','denominacion_empresa','longitud_titulo']],y_train)\n",
    "evaluar(bagging,x_test[['edad','longitud_descripcion','cantidad_vistas','denominacion_empresa','longitud_titulo']],y_test)"
   ]
  },
  {
   "cell_type": "code",
   "execution_count": null,
   "metadata": {},
   "outputs": [],
   "source": [
    "generar_submit(bagging,x_query[['id','edad','longitud_descripcion','cantidad_vistas','denominacion_empresa','longitud_titulo']],'baggingtree','proba')"
   ]
  },
  {
   "cell_type": "markdown",
   "metadata": {},
   "source": [
    "## Random Forest "
   ]
  },
  {
   "cell_type": "code",
   "execution_count": 21,
   "metadata": {},
   "outputs": [
    {
     "name": "stdout",
     "output_type": "stream",
     "text": [
      "building tree 1 of 22building tree 2 of 22\n",
      "\n",
      "building tree 3 of 22\n",
      "building tree 4 of 22\n",
      "building tree 5 of 22\n",
      "building tree 6 of 22\n",
      "building tree 7 of 22\n",
      "building tree 8 of 22\n",
      "building tree 9 of 22\n",
      "building tree 10 of 22\n",
      "building tree 11 of 22\n",
      "building tree 12 of 22\n",
      "building tree 13 of 22\n",
      "building tree 14 of 22\n",
      "building tree 15 of 22\n",
      "building tree 16 of 22\n",
      "building tree 17 of 22\n",
      "building tree 18 of 22\n",
      "building tree 19 of 22\n",
      "building tree 20 of 22\n",
      "building tree 21 of 22\n",
      "building tree 22 of 22\n"
     ]
    },
    {
     "name": "stderr",
     "output_type": "stream",
     "text": [
      "[Parallel(n_jobs=-1)]: Done  22 out of  22 | elapsed:  2.8min finished\n",
      "[Parallel(n_jobs=4)]: Done  22 out of  22 | elapsed:   35.2s finished\n"
     ]
    },
    {
     "name": "stdout",
     "output_type": "stream",
     "text": [
      "Porcentaje de acierto: 80.13%\n"
     ]
    },
    {
     "name": "stderr",
     "output_type": "stream",
     "text": [
      "[Parallel(n_jobs=4)]: Done  22 out of  22 | elapsed:    1.1s finished\n"
     ]
    },
    {
     "name": "stdout",
     "output_type": "stream",
     "text": [
      "Porcentaje de acierto: 74.56%\n"
     ]
    }
   ],
   "source": [
    "RF = RandomForestClassifier(n_estimators=22,\n",
    "                            min_samples_split = 100, \n",
    "                            criterion = 'gini', \n",
    "                            max_depth = 70, \n",
    "                            min_samples_leaf = 20, \n",
    "                            verbose = 2,\n",
    "                            random_state = 7,\n",
    "                            n_jobs = -1)\n",
    "\n",
    "RF.fit(x_train, y_train)\n",
    "evaluar(RF,x_train,y_train)\n",
    "evaluar(RF,x_test,y_test)"
   ]
  },
  {
   "cell_type": "code",
   "execution_count": 23,
   "metadata": {},
   "outputs": [
    {
     "data": {
      "text/html": [
       "<div>\n",
       "<style scoped>\n",
       "    .dataframe tbody tr th:only-of-type {\n",
       "        vertical-align: middle;\n",
       "    }\n",
       "\n",
       "    .dataframe tbody tr th {\n",
       "        vertical-align: top;\n",
       "    }\n",
       "\n",
       "    .dataframe thead th {\n",
       "        text-align: right;\n",
       "    }\n",
       "</style>\n",
       "<table border=\"1\" class=\"dataframe\">\n",
       "  <thead>\n",
       "    <tr style=\"text-align: right;\">\n",
       "      <th></th>\n",
       "      <th>importance</th>\n",
       "    </tr>\n",
       "  </thead>\n",
       "  <tbody>\n",
       "    <tr>\n",
       "      <th>cantidad_vistas</th>\n",
       "      <td>0.302133</td>\n",
       "    </tr>\n",
       "    <tr>\n",
       "      <th>longitud_descripcion</th>\n",
       "      <td>0.188363</td>\n",
       "    </tr>\n",
       "    <tr>\n",
       "      <th>denominacion_empresa</th>\n",
       "      <td>0.153146</td>\n",
       "    </tr>\n",
       "    <tr>\n",
       "      <th>longitud_titulo</th>\n",
       "      <td>0.134808</td>\n",
       "    </tr>\n",
       "    <tr>\n",
       "      <th>nombre_area</th>\n",
       "      <td>0.110512</td>\n",
       "    </tr>\n",
       "    <tr>\n",
       "      <th>nivel_laboral</th>\n",
       "      <td>0.029786</td>\n",
       "    </tr>\n",
       "    <tr>\n",
       "      <th>edad</th>\n",
       "      <td>0.024466</td>\n",
       "    </tr>\n",
       "    <tr>\n",
       "      <th>tipo_de_trabajo</th>\n",
       "      <td>0.018198</td>\n",
       "    </tr>\n",
       "    <tr>\n",
       "      <th>Cod_edu</th>\n",
       "      <td>0.013447</td>\n",
       "    </tr>\n",
       "    <tr>\n",
       "      <th>Cod_sexo</th>\n",
       "      <td>0.008750</td>\n",
       "    </tr>\n",
       "    <tr>\n",
       "      <th>Cod_est</th>\n",
       "      <td>0.005802</td>\n",
       "    </tr>\n",
       "    <tr>\n",
       "      <th>nombre_zona</th>\n",
       "      <td>0.004969</td>\n",
       "    </tr>\n",
       "    <tr>\n",
       "      <th>mapacalle</th>\n",
       "      <td>0.004539</td>\n",
       "    </tr>\n",
       "    <tr>\n",
       "      <th>ciudad</th>\n",
       "      <td>0.001081</td>\n",
       "    </tr>\n",
       "  </tbody>\n",
       "</table>\n",
       "</div>"
      ],
      "text/plain": [
       "                      importance\n",
       "cantidad_vistas         0.302133\n",
       "longitud_descripcion    0.188363\n",
       "denominacion_empresa    0.153146\n",
       "longitud_titulo         0.134808\n",
       "nombre_area             0.110512\n",
       "nivel_laboral           0.029786\n",
       "edad                    0.024466\n",
       "tipo_de_trabajo         0.018198\n",
       "Cod_edu                 0.013447\n",
       "Cod_sexo                0.008750\n",
       "Cod_est                 0.005802\n",
       "nombre_zona             0.004969\n",
       "mapacalle               0.004539\n",
       "ciudad                  0.001081"
      ]
     },
     "execution_count": 23,
     "metadata": {},
     "output_type": "execute_result"
    }
   ],
   "source": [
    "feature_importances = pd.DataFrame(RF.feature_importances_,\n",
    "                                   index = x_train.columns,\n",
    "                                    columns=['importance']).sort_values('importance',ascending=False)\n",
    "feature_importances"
   ]
  },
  {
   "cell_type": "markdown",
   "metadata": {},
   "source": [
    "### Búsqueda de hiperparámetros "
   ]
  },
  {
   "cell_type": "code",
   "execution_count": 24,
   "metadata": {},
   "outputs": [
    {
     "name": "stdout",
     "output_type": "stream",
     "text": [
      "Fitting 2 folds for each of 16 candidates, totalling 32 fits\n"
     ]
    },
    {
     "name": "stderr",
     "output_type": "stream",
     "text": [
      "[Parallel(n_jobs=-1)]: Done  10 tasks      | elapsed:  2.7min\n",
      "[Parallel(n_jobs=-1)]: Done  32 out of  32 | elapsed:  7.3min remaining:    0.0s\n",
      "[Parallel(n_jobs=-1)]: Done  32 out of  32 | elapsed:  7.3min finished\n"
     ]
    },
    {
     "data": {
      "text/plain": [
       "GridSearchCV(cv=2, error_score='raise',\n",
       "       estimator=RandomForestClassifier(bootstrap=True, class_weight=None, criterion='gini',\n",
       "            max_depth=None, max_features='auto', max_leaf_nodes=None,\n",
       "            min_impurity_decrease=0.0, min_impurity_split=None,\n",
       "            min_samples_leaf=1, min_samples_split=2,\n",
       "            min_weight_fraction_leaf=0.0, n_estimators=10, n_jobs=1,\n",
       "            oob_score=False, random_state=None, verbose=0,\n",
       "            warm_start=False),\n",
       "       fit_params=None, iid=True, n_jobs=-1,\n",
       "       param_grid={'warm_start': [True, False], 'n_estimators': [3], 'oob_score': [True, False], 'n_jobs': [-1], 'criterion': ['entropy', 'gini'], 'max_features': ['sqrt', 'log2'], 'random_state': [7], 'bootstrap': [True]},\n",
       "       pre_dispatch='2*n_jobs', refit=True, return_train_score='warn',\n",
       "       scoring=None, verbose=5)"
      ]
     },
     "execution_count": 24,
     "metadata": {},
     "output_type": "execute_result"
    }
   ],
   "source": [
    "from sklearn.ensemble import RandomForestClassifier\n",
    "\n",
    "#Defino un rango para cada parámetro que me interesa, randomSearch va a probar con n combinaciones al azar.\n",
    "max_features = ['sqrt','log2']\n",
    "criterion = ['entropy','gini']\n",
    "warm_start = [True,False]\n",
    "oob_score = [True, False]\n",
    "n_jobs = [-1]\n",
    "bootstrap = [True]\n",
    "random_state = [7]\n",
    "\n",
    "param_grid = {    \n",
    "    'criterion': criterion,\n",
    "    'warm_start': warm_start,\n",
    "    'max_features': max_features,\n",
    "    'n_estimators':n_estimators,\n",
    "    'n_jobs':n_jobs,\n",
    "    'oob_score':oob_score,\n",
    "    'bootstrap':bootstrap,\n",
    "    'random_state':random_state\n",
    "    }\n",
    "\n",
    "#El modelo para el que quiero probar parámetros\n",
    "RF = RandomForestClassifier()\n",
    "\n",
    "#Pruebo 20 combinaciones al azar y hago k_fold  con k=3 para cada una. Total: 60 iteraciones  (3 minutos aprox). \n",
    "#n_jobs maneja la cantidad de procesos(cores) a utilizar. Con -1 estoy usando todos los disponibles.\n",
    "\n",
    "grid_search = GridSearchCV(estimator = RF, \n",
    "                         param_grid = param_grid, \n",
    "                         cv = 2, \n",
    "                         n_jobs = -1, \n",
    "                         verbose = 5)\n",
    "grid_search.fit(x_train[['nombre_area','longitud_descripcion','cantidad_vistas','denominacion_empresa','longitud_titulo']], y_train)"
   ]
  },
  {
   "cell_type": "code",
   "execution_count": 23,
   "metadata": {},
   "outputs": [
    {
     "name": "stdout",
     "output_type": "stream",
     "text": [
      "building tree 1 of 22\n",
      "building tree 2 of 22\n",
      "building tree 3 of 22\n",
      " building tree 4 of 22\n",
      "building tree 5 of 22\n",
      "building tree 6 of 22\n",
      "building tree 7 of 22\n",
      "building tree 8 of 22\n",
      "building tree 9 of 22\n",
      "building tree 10 of 22\n",
      "building tree 11 of 22\n",
      "building tree 12 of 22\n",
      "building tree 13 of 22\n",
      "building tree 14 of 22\n",
      "building tree 15 of 22\n",
      "building tree 16 of 22\n",
      "building tree 17 of 22\n",
      "building tree 18 of 22\n",
      "building tree 19 of 22\n",
      "building tree 20 of 22\n",
      "building tree 21 of 22\n",
      "building tree 22 of 22\n"
     ]
    },
    {
     "name": "stderr",
     "output_type": "stream",
     "text": [
      "[Parallel(n_jobs=-1)]: Done  22 out of  22 | elapsed:  8.2min finished\n",
      "[Parallel(n_jobs=4)]: Done  22 out of  22 | elapsed:  1.3min finished\n"
     ]
    },
    {
     "name": "stdout",
     "output_type": "stream",
     "text": [
      "Porcentaje de acierto: 80.59%\n",
      "Porcentaje de acierto: 70.17%\n"
     ]
    },
    {
     "name": "stderr",
     "output_type": "stream",
     "text": [
      "[Parallel(n_jobs=4)]: Done  22 out of  22 | elapsed:    1.3s finished\n"
     ]
    }
   ],
   "source": [
    "RF = RandomForestClassifier(n_estimators=22,\n",
    "                            min_samples_split = 100, \n",
    "                            criterion = 'entropy', \n",
    "                            max_depth = 70, \n",
    "                            min_samples_leaf = 20, \n",
    "                            verbose = 2,\n",
    "                            random_state = 7,\n",
    "                            warm_start = True,\n",
    "                            oob_score = True,\n",
    "                            n_jobs = -1,\n",
    "                            bootstrap = True,\n",
    "                            max_features = 'sqrt'\n",
    "                            )\n",
    "\n",
    "RF.fit(x_train[['nombre_area','longitud_descripcion','cantidad_vistas','denominacion_empresa','longitud_titulo']], y_train)\n",
    "evaluar(RF,x_train[['nombre_area','longitud_descripcion','cantidad_vistas','denominacion_empresa','longitud_titulo']],y_train)\n",
    "evaluar(RF,x_test[['nombre_area','longitud_descripcion','cantidad_vistas','denominacion_empresa','longitud_titulo']],y_test)"
   ]
  },
  {
   "cell_type": "code",
   "execution_count": 24,
   "metadata": {},
   "outputs": [
    {
     "name": "stderr",
     "output_type": "stream",
     "text": [
      "[Parallel(n_jobs=4)]: Done  22 out of  22 | elapsed:    0.2s finished\n"
     ]
    },
    {
     "name": "stdout",
     "output_type": "stream",
     "text": [
      "{'warm_start': True, 'oob_score': True, 'n_jobs': -1, 'min_impurity_decrease': 0.0, 'verbose': 2, 'max_leaf_nodes': None, 'bootstrap': True, 'min_samples_leaf': 20, 'n_estimators': 22, 'min_samples_split': 100, 'min_weight_fraction_leaf': 0.0, 'criterion': 'entropy', 'random_state': 7, 'min_impurity_split': None, 'max_features': 'sqrt', 'max_depth': 70, 'class_weight': None}\n"
     ]
    }
   ],
   "source": [
    "generar_submit(RF,x_query[['id','nombre_area','longitud_descripcion','cantidad_vistas','denominacion_empresa','longitud_titulo']],'randomForest','proba')"
   ]
  },
  {
   "cell_type": "markdown",
   "metadata": {},
   "source": [
    "## XGBOOST "
   ]
  },
  {
   "cell_type": "code",
   "execution_count": 28,
   "metadata": {},
   "outputs": [
    {
     "name": "stderr",
     "output_type": "stream",
     "text": [
      "C:\\Users\\Mariano\\Anaconda2\\lib\\site-packages\\sklearn\\preprocessing\\label.py:151: DeprecationWarning: The truth value of an empty array is ambiguous. Returning False, but in future this will result in an error. Use `array.size > 0` to check that an array is not empty.\n",
      "  if diff:\n"
     ]
    },
    {
     "name": "stdout",
     "output_type": "stream",
     "text": [
      "Porcentaje de acierto: 91.02%\n",
      "Porcentaje de acierto: 75.82%\n"
     ]
    },
    {
     "name": "stderr",
     "output_type": "stream",
     "text": [
      "C:\\Users\\Mariano\\Anaconda2\\lib\\site-packages\\sklearn\\preprocessing\\label.py:151: DeprecationWarning: The truth value of an empty array is ambiguous. Returning False, but in future this will result in an error. Use `array.size > 0` to check that an array is not empty.\n",
      "  if diff:\n"
     ]
    }
   ],
   "source": [
    "xgb_clf = XGBClassifier(n_estimators=22,\n",
    "                        max_depth = 70, \n",
    "                        silent = False,\n",
    "                        seed = 4,\n",
    "                        learning_rate = 0.3)\n",
    "xgb_clf.fit( x_train, y_train)\n",
    "evaluar(xgb_clf, x_train, y_train)\n",
    "evaluar(xgb_clf, x_test, y_test)"
   ]
  },
  {
   "cell_type": "code",
   "execution_count": 29,
   "metadata": {},
   "outputs": [
    {
     "data": {
      "text/html": [
       "<div>\n",
       "<style scoped>\n",
       "    .dataframe tbody tr th:only-of-type {\n",
       "        vertical-align: middle;\n",
       "    }\n",
       "\n",
       "    .dataframe tbody tr th {\n",
       "        vertical-align: top;\n",
       "    }\n",
       "\n",
       "    .dataframe thead th {\n",
       "        text-align: right;\n",
       "    }\n",
       "</style>\n",
       "<table border=\"1\" class=\"dataframe\">\n",
       "  <thead>\n",
       "    <tr style=\"text-align: right;\">\n",
       "      <th></th>\n",
       "      <th>importance</th>\n",
       "    </tr>\n",
       "  </thead>\n",
       "  <tbody>\n",
       "    <tr>\n",
       "      <th>edad</th>\n",
       "      <td>0.405093</td>\n",
       "    </tr>\n",
       "    <tr>\n",
       "      <th>longitud_titulo</th>\n",
       "      <td>0.113481</td>\n",
       "    </tr>\n",
       "    <tr>\n",
       "      <th>longitud_descripcion</th>\n",
       "      <td>0.095489</td>\n",
       "    </tr>\n",
       "    <tr>\n",
       "      <th>nombre_area</th>\n",
       "      <td>0.086798</td>\n",
       "    </tr>\n",
       "    <tr>\n",
       "      <th>denominacion_empresa</th>\n",
       "      <td>0.083089</td>\n",
       "    </tr>\n",
       "    <tr>\n",
       "      <th>Cod_edu</th>\n",
       "      <td>0.075830</td>\n",
       "    </tr>\n",
       "    <tr>\n",
       "      <th>Cod_est</th>\n",
       "      <td>0.051338</td>\n",
       "    </tr>\n",
       "    <tr>\n",
       "      <th>Cod_sexo</th>\n",
       "      <td>0.032482</td>\n",
       "    </tr>\n",
       "    <tr>\n",
       "      <th>cantidad_vistas</th>\n",
       "      <td>0.019610</td>\n",
       "    </tr>\n",
       "    <tr>\n",
       "      <th>nivel_laboral</th>\n",
       "      <td>0.018260</td>\n",
       "    </tr>\n",
       "    <tr>\n",
       "      <th>tipo_de_trabajo</th>\n",
       "      <td>0.009396</td>\n",
       "    </tr>\n",
       "    <tr>\n",
       "      <th>nombre_zona</th>\n",
       "      <td>0.008712</td>\n",
       "    </tr>\n",
       "    <tr>\n",
       "      <th>ciudad</th>\n",
       "      <td>0.000254</td>\n",
       "    </tr>\n",
       "    <tr>\n",
       "      <th>mapacalle</th>\n",
       "      <td>0.000168</td>\n",
       "    </tr>\n",
       "  </tbody>\n",
       "</table>\n",
       "</div>"
      ],
      "text/plain": [
       "                      importance\n",
       "edad                    0.405093\n",
       "longitud_titulo         0.113481\n",
       "longitud_descripcion    0.095489\n",
       "nombre_area             0.086798\n",
       "denominacion_empresa    0.083089\n",
       "Cod_edu                 0.075830\n",
       "Cod_est                 0.051338\n",
       "Cod_sexo                0.032482\n",
       "cantidad_vistas         0.019610\n",
       "nivel_laboral           0.018260\n",
       "tipo_de_trabajo         0.009396\n",
       "nombre_zona             0.008712\n",
       "ciudad                  0.000254\n",
       "mapacalle               0.000168"
      ]
     },
     "execution_count": 29,
     "metadata": {},
     "output_type": "execute_result"
    }
   ],
   "source": [
    "feature_importances = pd.DataFrame(xgb_clf.feature_importances_,\n",
    "                                   index = x_train.columns,\n",
    "                                    columns=['importance']).sort_values('importance',ascending=False)\n",
    "feature_importances"
   ]
  },
  {
   "cell_type": "code",
   "execution_count": 33,
   "metadata": {},
   "outputs": [
    {
     "name": "stderr",
     "output_type": "stream",
     "text": [
      "C:\\Users\\Mariano\\Anaconda2\\lib\\site-packages\\sklearn\\preprocessing\\label.py:151: DeprecationWarning: The truth value of an empty array is ambiguous. Returning False, but in future this will result in an error. Use `array.size > 0` to check that an array is not empty.\n",
      "  if diff:\n"
     ]
    },
    {
     "name": "stdout",
     "output_type": "stream",
     "text": [
      "Porcentaje de acierto: 80.58%\n",
      "Porcentaje de acierto: 74.06%\n"
     ]
    },
    {
     "name": "stderr",
     "output_type": "stream",
     "text": [
      "C:\\Users\\Mariano\\Anaconda2\\lib\\site-packages\\sklearn\\preprocessing\\label.py:151: DeprecationWarning: The truth value of an empty array is ambiguous. Returning False, but in future this will result in an error. Use `array.size > 0` to check that an array is not empty.\n",
      "  if diff:\n"
     ]
    }
   ],
   "source": [
    "xgb_clf = XGBClassifier(n_estimators=22,\n",
    "                        max_depth = 70, \n",
    "                        silent = False,\n",
    "                        seed = 4,\n",
    "                        learning_rate = 0.3)\n",
    "xgb_clf.fit( x_train[['edad','longitud_descripcion','nombre_area','denominacion_empresa','longitud_titulo']], y_train)\n",
    "evaluar(xgb_clf, x_train[['edad','longitud_descripcion','nombre_area','denominacion_empresa','longitud_titulo']], y_train)\n",
    "evaluar(xgb_clf, x_test[['edad','longitud_descripcion','nombre_area','denominacion_empresa','longitud_titulo']], y_test)"
   ]
  },
  {
   "cell_type": "code",
   "execution_count": 36,
   "metadata": {
    "scrolled": false
   },
   "outputs": [
    {
     "name": "stdout",
     "output_type": "stream",
     "text": [
      "{'reg_alpha': 0, 'colsample_bytree': 1, 'silent': False, 'colsample_bylevel': 1, 'scale_pos_weight': 1, 'learning_rate': 0.3, 'missing': None, 'max_delta_step': 0, 'nthread': -1, 'base_score': 0.5, 'n_estimators': 22, 'subsample': 1, 'reg_lambda': 1, 'seed': 4, 'min_child_weight': 1, 'objective': 'binary:logistic', 'max_depth': 70, 'gamma': 0}\n"
     ]
    }
   ],
   "source": [
    "generar_submit(xgb_clf,x_query[['id','edad','longitud_descripcion','nombre_area','denominacion_empresa','longitud_titulo']],'xgboost','proba')"
   ]
  },
  {
   "cell_type": "markdown",
   "metadata": {},
   "source": [
    "## AdaBoost\n"
   ]
  },
  {
   "cell_type": "code",
   "execution_count": 27,
   "metadata": {},
   "outputs": [
    {
     "ename": "KeyboardInterrupt",
     "evalue": "",
     "output_type": "error",
     "traceback": [
      "\u001b[1;31m---------------------------------------------------------------------------\u001b[0m",
      "\u001b[1;31mKeyboardInterrupt\u001b[0m                         Traceback (most recent call last)",
      "\u001b[1;32m<ipython-input-27-0e2836e2ba24>\u001b[0m in \u001b[0;36m<module>\u001b[1;34m()\u001b[0m\n\u001b[0;32m      1\u001b[0m \u001b[0madaBoost\u001b[0m \u001b[1;33m=\u001b[0m \u001b[0mAdaBoostClassifier\u001b[0m\u001b[1;33m(\u001b[0m\u001b[0mbase_estimator\u001b[0m\u001b[1;33m=\u001b[0m\u001b[0marbol\u001b[0m\u001b[1;33m,\u001b[0m \u001b[0mn_estimators\u001b[0m\u001b[1;33m=\u001b[0m\u001b[1;36m30\u001b[0m\u001b[1;33m,\u001b[0m \u001b[0mlearning_rate\u001b[0m\u001b[1;33m=\u001b[0m\u001b[1;36m1.0\u001b[0m\u001b[1;33m)\u001b[0m\u001b[1;33m\u001b[0m\u001b[0m\n\u001b[0;32m      2\u001b[0m \u001b[0madaBoost\u001b[0m\u001b[1;33m.\u001b[0m\u001b[0mfit\u001b[0m\u001b[1;33m(\u001b[0m\u001b[0mx_train\u001b[0m\u001b[1;33m[\u001b[0m\u001b[1;33m[\u001b[0m\u001b[1;34m'edad'\u001b[0m\u001b[1;33m,\u001b[0m\u001b[1;34m'longitud_descripcion'\u001b[0m\u001b[1;33m,\u001b[0m\u001b[1;34m'cantidad_vistas'\u001b[0m\u001b[1;33m,\u001b[0m\u001b[1;34m'denominacion_empresa'\u001b[0m\u001b[1;33m,\u001b[0m\u001b[1;34m'longitud_titulo'\u001b[0m\u001b[1;33m]\u001b[0m\u001b[1;33m]\u001b[0m\u001b[1;33m,\u001b[0m\u001b[0my_train\u001b[0m\u001b[1;33m)\u001b[0m\u001b[1;33m\u001b[0m\u001b[0m\n\u001b[1;32m----> 3\u001b[1;33m \u001b[0mevaluar\u001b[0m\u001b[1;33m(\u001b[0m\u001b[0madaBoost\u001b[0m\u001b[1;33m,\u001b[0m\u001b[0mx_train\u001b[0m\u001b[1;33m[\u001b[0m\u001b[1;33m[\u001b[0m\u001b[1;34m'edad'\u001b[0m\u001b[1;33m,\u001b[0m\u001b[1;34m'longitud_descripcion'\u001b[0m\u001b[1;33m,\u001b[0m\u001b[1;34m'cantidad_vistas'\u001b[0m\u001b[1;33m,\u001b[0m\u001b[1;34m'denominacion_empresa'\u001b[0m\u001b[1;33m,\u001b[0m\u001b[1;34m'longitud_titulo'\u001b[0m\u001b[1;33m]\u001b[0m\u001b[1;33m]\u001b[0m\u001b[1;33m,\u001b[0m\u001b[0my_train\u001b[0m\u001b[1;33m)\u001b[0m\u001b[1;33m\u001b[0m\u001b[0m\n\u001b[0m\u001b[0;32m      4\u001b[0m \u001b[0mevaluar\u001b[0m\u001b[1;33m(\u001b[0m\u001b[0madaBoost\u001b[0m\u001b[1;33m,\u001b[0m\u001b[0mx_test\u001b[0m\u001b[1;33m[\u001b[0m\u001b[1;33m[\u001b[0m\u001b[1;34m'edad'\u001b[0m\u001b[1;33m,\u001b[0m\u001b[1;34m'longitud_descripcion'\u001b[0m\u001b[1;33m,\u001b[0m\u001b[1;34m'cantidad_vistas'\u001b[0m\u001b[1;33m,\u001b[0m\u001b[1;34m'denominacion_empresa'\u001b[0m\u001b[1;33m,\u001b[0m\u001b[1;34m'longitud_titulo'\u001b[0m\u001b[1;33m]\u001b[0m\u001b[1;33m]\u001b[0m\u001b[1;33m,\u001b[0m\u001b[0my_test\u001b[0m\u001b[1;33m)\u001b[0m\u001b[1;33m\u001b[0m\u001b[0m\n",
      "\u001b[1;32m<ipython-input-20-945dac6250dc>\u001b[0m in \u001b[0;36mevaluar\u001b[1;34m(modelo, x_test, y_test)\u001b[0m\n\u001b[0;32m      1\u001b[0m \u001b[1;32mdef\u001b[0m \u001b[0mevaluar\u001b[0m\u001b[1;33m(\u001b[0m\u001b[0mmodelo\u001b[0m\u001b[1;33m,\u001b[0m \u001b[0mx_test\u001b[0m\u001b[1;33m,\u001b[0m \u001b[0my_test\u001b[0m\u001b[1;33m)\u001b[0m\u001b[1;33m:\u001b[0m\u001b[1;33m\u001b[0m\u001b[0m\n\u001b[0;32m      2\u001b[0m     \u001b[1;31m# Hago las predicciones\u001b[0m\u001b[1;33m\u001b[0m\u001b[1;33m\u001b[0m\u001b[0m\n\u001b[1;32m----> 3\u001b[1;33m     \u001b[0mpred\u001b[0m \u001b[1;33m=\u001b[0m \u001b[0mmodelo\u001b[0m\u001b[1;33m.\u001b[0m\u001b[0mpredict\u001b[0m\u001b[1;33m(\u001b[0m\u001b[0mx_test\u001b[0m\u001b[1;33m)\u001b[0m\u001b[1;33m\u001b[0m\u001b[0m\n\u001b[0m\u001b[0;32m      4\u001b[0m     \u001b[0mpredicciones\u001b[0m \u001b[1;33m=\u001b[0m \u001b[1;33m[\u001b[0m\u001b[0mround\u001b[0m\u001b[1;33m(\u001b[0m\u001b[0mvalue\u001b[0m\u001b[1;33m)\u001b[0m \u001b[1;32mfor\u001b[0m \u001b[0mvalue\u001b[0m \u001b[1;32min\u001b[0m \u001b[0mpred\u001b[0m\u001b[1;33m]\u001b[0m\u001b[1;33m\u001b[0m\u001b[0m\n\u001b[0;32m      5\u001b[0m \u001b[1;33m\u001b[0m\u001b[0m\n",
      "\u001b[1;32mC:\\Users\\Mariano\\Anaconda2\\lib\\site-packages\\sklearn\\ensemble\\weight_boosting.pyc\u001b[0m in \u001b[0;36mpredict\u001b[1;34m(self, X)\u001b[0m\n\u001b[0;32m    600\u001b[0m             \u001b[0mThe\u001b[0m \u001b[0mpredicted\u001b[0m \u001b[0mclasses\u001b[0m\u001b[1;33m.\u001b[0m\u001b[1;33m\u001b[0m\u001b[0m\n\u001b[0;32m    601\u001b[0m         \"\"\"\n\u001b[1;32m--> 602\u001b[1;33m         \u001b[0mpred\u001b[0m \u001b[1;33m=\u001b[0m \u001b[0mself\u001b[0m\u001b[1;33m.\u001b[0m\u001b[0mdecision_function\u001b[0m\u001b[1;33m(\u001b[0m\u001b[0mX\u001b[0m\u001b[1;33m)\u001b[0m\u001b[1;33m\u001b[0m\u001b[0m\n\u001b[0m\u001b[0;32m    603\u001b[0m \u001b[1;33m\u001b[0m\u001b[0m\n\u001b[0;32m    604\u001b[0m         \u001b[1;32mif\u001b[0m \u001b[0mself\u001b[0m\u001b[1;33m.\u001b[0m\u001b[0mn_classes_\u001b[0m \u001b[1;33m==\u001b[0m \u001b[1;36m2\u001b[0m\u001b[1;33m:\u001b[0m\u001b[1;33m\u001b[0m\u001b[0m\n",
      "\u001b[1;32mC:\\Users\\Mariano\\Anaconda2\\lib\\site-packages\\sklearn\\ensemble\\weight_boosting.pyc\u001b[0m in \u001b[0;36mdecision_function\u001b[1;34m(self, X)\u001b[0m\n\u001b[0;32m    668\u001b[0m             \u001b[1;31m# The weights are all 1. for SAMME.R\u001b[0m\u001b[1;33m\u001b[0m\u001b[1;33m\u001b[0m\u001b[0m\n\u001b[0;32m    669\u001b[0m             pred = sum(_samme_proba(estimator, n_classes, X)\n\u001b[1;32m--> 670\u001b[1;33m                        for estimator in self.estimators_)\n\u001b[0m\u001b[0;32m    671\u001b[0m         \u001b[1;32melse\u001b[0m\u001b[1;33m:\u001b[0m   \u001b[1;31m# self.algorithm == \"SAMME\"\u001b[0m\u001b[1;33m\u001b[0m\u001b[0m\n\u001b[0;32m    672\u001b[0m             pred = sum((estimator.predict(X) == classes).T * w\n",
      "\u001b[1;32mC:\\Users\\Mariano\\Anaconda2\\lib\\site-packages\\sklearn\\ensemble\\weight_boosting.pyc\u001b[0m in \u001b[0;36m<genexpr>\u001b[1;34m((estimator,))\u001b[0m\n\u001b[0;32m    668\u001b[0m             \u001b[1;31m# The weights are all 1. for SAMME.R\u001b[0m\u001b[1;33m\u001b[0m\u001b[1;33m\u001b[0m\u001b[0m\n\u001b[0;32m    669\u001b[0m             pred = sum(_samme_proba(estimator, n_classes, X)\n\u001b[1;32m--> 670\u001b[1;33m                        for estimator in self.estimators_)\n\u001b[0m\u001b[0;32m    671\u001b[0m         \u001b[1;32melse\u001b[0m\u001b[1;33m:\u001b[0m   \u001b[1;31m# self.algorithm == \"SAMME\"\u001b[0m\u001b[1;33m\u001b[0m\u001b[0m\n\u001b[0;32m    672\u001b[0m             pred = sum((estimator.predict(X) == classes).T * w\n",
      "\u001b[1;32mC:\\Users\\Mariano\\Anaconda2\\lib\\site-packages\\sklearn\\ensemble\\weight_boosting.pyc\u001b[0m in \u001b[0;36m_samme_proba\u001b[1;34m(estimator, n_classes, X)\u001b[0m\n\u001b[0;32m    283\u001b[0m \u001b[1;33m\u001b[0m\u001b[0m\n\u001b[0;32m    284\u001b[0m     \"\"\"\n\u001b[1;32m--> 285\u001b[1;33m     \u001b[0mproba\u001b[0m \u001b[1;33m=\u001b[0m \u001b[0mestimator\u001b[0m\u001b[1;33m.\u001b[0m\u001b[0mpredict_proba\u001b[0m\u001b[1;33m(\u001b[0m\u001b[0mX\u001b[0m\u001b[1;33m)\u001b[0m\u001b[1;33m\u001b[0m\u001b[0m\n\u001b[0m\u001b[0;32m    286\u001b[0m \u001b[1;33m\u001b[0m\u001b[0m\n\u001b[0;32m    287\u001b[0m     \u001b[1;31m# Displace zero probabilities so the log is defined.\u001b[0m\u001b[1;33m\u001b[0m\u001b[1;33m\u001b[0m\u001b[0m\n",
      "\u001b[1;32mC:\\Users\\Mariano\\Anaconda2\\lib\\site-packages\\sklearn\\tree\\tree.pyc\u001b[0m in \u001b[0;36mpredict_proba\u001b[1;34m(self, X, check_input)\u001b[0m\n\u001b[0;32m    824\u001b[0m         \u001b[1;32mif\u001b[0m \u001b[0mself\u001b[0m\u001b[1;33m.\u001b[0m\u001b[0mn_outputs_\u001b[0m \u001b[1;33m==\u001b[0m \u001b[1;36m1\u001b[0m\u001b[1;33m:\u001b[0m\u001b[1;33m\u001b[0m\u001b[0m\n\u001b[0;32m    825\u001b[0m             \u001b[0mproba\u001b[0m \u001b[1;33m=\u001b[0m \u001b[0mproba\u001b[0m\u001b[1;33m[\u001b[0m\u001b[1;33m:\u001b[0m\u001b[1;33m,\u001b[0m \u001b[1;33m:\u001b[0m\u001b[0mself\u001b[0m\u001b[1;33m.\u001b[0m\u001b[0mn_classes_\u001b[0m\u001b[1;33m]\u001b[0m\u001b[1;33m\u001b[0m\u001b[0m\n\u001b[1;32m--> 826\u001b[1;33m             \u001b[0mnormalizer\u001b[0m \u001b[1;33m=\u001b[0m \u001b[0mproba\u001b[0m\u001b[1;33m.\u001b[0m\u001b[0msum\u001b[0m\u001b[1;33m(\u001b[0m\u001b[0maxis\u001b[0m\u001b[1;33m=\u001b[0m\u001b[1;36m1\u001b[0m\u001b[1;33m)\u001b[0m\u001b[1;33m[\u001b[0m\u001b[1;33m:\u001b[0m\u001b[1;33m,\u001b[0m \u001b[0mnp\u001b[0m\u001b[1;33m.\u001b[0m\u001b[0mnewaxis\u001b[0m\u001b[1;33m]\u001b[0m\u001b[1;33m\u001b[0m\u001b[0m\n\u001b[0m\u001b[0;32m    827\u001b[0m             \u001b[0mnormalizer\u001b[0m\u001b[1;33m[\u001b[0m\u001b[0mnormalizer\u001b[0m \u001b[1;33m==\u001b[0m \u001b[1;36m0.0\u001b[0m\u001b[1;33m]\u001b[0m \u001b[1;33m=\u001b[0m \u001b[1;36m1.0\u001b[0m\u001b[1;33m\u001b[0m\u001b[0m\n\u001b[0;32m    828\u001b[0m             \u001b[0mproba\u001b[0m \u001b[1;33m/=\u001b[0m \u001b[0mnormalizer\u001b[0m\u001b[1;33m\u001b[0m\u001b[0m\n",
      "\u001b[1;32mC:\\Users\\Mariano\\Anaconda2\\lib\\site-packages\\numpy\\core\\_methods.pyc\u001b[0m in \u001b[0;36m_sum\u001b[1;34m(a, axis, dtype, out, keepdims)\u001b[0m\n\u001b[0;32m     30\u001b[0m \u001b[1;33m\u001b[0m\u001b[0m\n\u001b[0;32m     31\u001b[0m \u001b[1;32mdef\u001b[0m \u001b[0m_sum\u001b[0m\u001b[1;33m(\u001b[0m\u001b[0ma\u001b[0m\u001b[1;33m,\u001b[0m \u001b[0maxis\u001b[0m\u001b[1;33m=\u001b[0m\u001b[0mNone\u001b[0m\u001b[1;33m,\u001b[0m \u001b[0mdtype\u001b[0m\u001b[1;33m=\u001b[0m\u001b[0mNone\u001b[0m\u001b[1;33m,\u001b[0m \u001b[0mout\u001b[0m\u001b[1;33m=\u001b[0m\u001b[0mNone\u001b[0m\u001b[1;33m,\u001b[0m \u001b[0mkeepdims\u001b[0m\u001b[1;33m=\u001b[0m\u001b[0mFalse\u001b[0m\u001b[1;33m)\u001b[0m\u001b[1;33m:\u001b[0m\u001b[1;33m\u001b[0m\u001b[0m\n\u001b[1;32m---> 32\u001b[1;33m     \u001b[1;32mreturn\u001b[0m \u001b[0mumr_sum\u001b[0m\u001b[1;33m(\u001b[0m\u001b[0ma\u001b[0m\u001b[1;33m,\u001b[0m \u001b[0maxis\u001b[0m\u001b[1;33m,\u001b[0m \u001b[0mdtype\u001b[0m\u001b[1;33m,\u001b[0m \u001b[0mout\u001b[0m\u001b[1;33m,\u001b[0m \u001b[0mkeepdims\u001b[0m\u001b[1;33m)\u001b[0m\u001b[1;33m\u001b[0m\u001b[0m\n\u001b[0m\u001b[0;32m     33\u001b[0m \u001b[1;33m\u001b[0m\u001b[0m\n\u001b[0;32m     34\u001b[0m \u001b[1;32mdef\u001b[0m \u001b[0m_prod\u001b[0m\u001b[1;33m(\u001b[0m\u001b[0ma\u001b[0m\u001b[1;33m,\u001b[0m \u001b[0maxis\u001b[0m\u001b[1;33m=\u001b[0m\u001b[0mNone\u001b[0m\u001b[1;33m,\u001b[0m \u001b[0mdtype\u001b[0m\u001b[1;33m=\u001b[0m\u001b[0mNone\u001b[0m\u001b[1;33m,\u001b[0m \u001b[0mout\u001b[0m\u001b[1;33m=\u001b[0m\u001b[0mNone\u001b[0m\u001b[1;33m,\u001b[0m \u001b[0mkeepdims\u001b[0m\u001b[1;33m=\u001b[0m\u001b[0mFalse\u001b[0m\u001b[1;33m)\u001b[0m\u001b[1;33m:\u001b[0m\u001b[1;33m\u001b[0m\u001b[0m\n",
      "\u001b[1;31mKeyboardInterrupt\u001b[0m: "
     ]
    }
   ],
   "source": [
    "adaBoost = AdaBoostClassifier(base_estimator=arbol, n_estimators=30, learning_rate=0.8)\n",
    "adaBoost.fit(x_train[['edad','longitud_descripcion','cantidad_vistas','denominacion_empresa','longitud_titulo']],y_train)\n",
    "evaluar(adaBoost,x_train[['edad','longitud_descripcion','cantidad_vistas','denominacion_empresa','longitud_titulo']],y_train)\n",
    "evaluar(adaBoost,x_test[['edad','longitud_descripcion','cantidad_vistas','denominacion_empresa','longitud_titulo']],y_test)"
   ]
  },
  {
   "cell_type": "code",
   "execution_count": null,
   "metadata": {},
   "outputs": [],
   "source": [
    "feature_importances = pd.DataFrame(AB.feature_importances_,\n",
    "                                   index = x_train.columns,\n",
    "                                    columns=['importance']).sort_values('importance',ascending=False)\n",
    "feature_importances"
   ]
  },
  {
   "cell_type": "code",
   "execution_count": 33,
   "metadata": {},
   "outputs": [
    {
     "name": "stdout",
     "output_type": "stream",
     "text": [
      "{'n_estimators': 50, 'base_estimator': None, 'random_state': None, 'learning_rate': 1.0, 'algorithm': 'SAMME.R'}\n"
     ]
    }
   ],
   "source": [
    "generar_submit(AB,x_query,test_final_100k_,'AdaBoost','binaria')"
   ]
  },
  {
   "cell_type": "markdown",
   "metadata": {},
   "source": [
    "# Linear regression "
   ]
  },
  {
   "cell_type": "markdown",
   "metadata": {},
   "source": [
    "Probemos ahora con un método lineal."
   ]
  },
  {
   "cell_type": "code",
   "execution_count": 129,
   "metadata": {},
   "outputs": [
    {
     "data": {
      "text/plain": [
       "VotingClassifier(estimators=[('clf1', LinearRegression(copy_X=True, fit_intercept=True, n_jobs=-1, normalize=True)), ('clf2', LinearRegression(copy_X=True, fit_intercept=True, n_jobs=-1, normalize=True)), ('clf3', LinearRegression(copy_X=True, fit_intercept=True, n_jobs=-1, normalize=True)), ('clf4', LinearRegressio...lize=True)), ('clf8', LinearRegression(copy_X=True, fit_intercept=True, n_jobs=-1, normalize=True))],\n",
       "         flatten_transform=None, n_jobs=1, voting='hard', weights=None)"
      ]
     },
     "execution_count": 129,
     "metadata": {},
     "output_type": "execute_result"
    }
   ],
   "source": [
    "clf = linear_model.LinearRegression(n_jobs=-1, normalize=True,fit_intercept=True)\n",
    "clf.fit(a_train[['cantidad_vistas','longitud_descripcion','denominacion_empresa','longitud_titulo','nombre_area']], a_target)"
   ]
  },
  {
   "cell_type": "code",
   "execution_count": null,
   "metadata": {},
   "outputs": [],
   "source": [
    "evaluar(voting_clf,x_train[['cantidad_vistas','longitud_descripcion','denominacion_empresa','longitud_titulo','nombre_area']],y_train)\n",
    "evaluar(voting_clf,x_test[['cantidad_vistas','longitud_descripcion','denominacion_empresa','longitud_titulo','nombre_area']],y_test)"
   ]
  },
  {
   "cell_type": "code",
   "execution_count": 17,
   "metadata": {},
   "outputs": [
    {
     "name": "stdout",
     "output_type": "stream",
     "text": [
      "Fitting 3 folds for each of 8 candidates, totalling 24 fits\n"
     ]
    },
    {
     "name": "stderr",
     "output_type": "stream",
     "text": [
      "[Parallel(n_jobs=-1)]: Done  10 tasks      | elapsed:   33.6s\n",
      "[Parallel(n_jobs=-1)]: Done  22 out of  24 | elapsed:  1.0min remaining:    5.4s\n",
      "[Parallel(n_jobs=-1)]: Done  24 out of  24 | elapsed:  1.1min finished\n"
     ]
    },
    {
     "data": {
      "text/plain": [
       "GridSearchCV(cv=3, error_score='raise',\n",
       "       estimator=LinearRegression(copy_X=True, fit_intercept=True, n_jobs=1, normalize=False),\n",
       "       fit_params=None, iid=True, n_jobs=-1,\n",
       "       param_grid={'normalize': [True, False], 'copy_X': [True, False], 'n_jobs': [-1], 'fit_intercept': [True, False]},\n",
       "       pre_dispatch='2*n_jobs', refit=True, return_train_score='warn',\n",
       "       scoring=None, verbose=5)"
      ]
     },
     "execution_count": 17,
     "metadata": {},
     "output_type": "execute_result"
    }
   ],
   "source": [
    "param_grid = {\n",
    "    'fit_intercept':[True,False], \n",
    "    'normalize':[True,False], \n",
    "    'copy_X':[True,False],\n",
    "    'n_jobs':[-1]\n",
    "}\n",
    "\n",
    "regr = linear_model.LinearRegression()\n",
    "grid_search = GridSearchCV(estimator = regr, \n",
    "                           param_grid = param_grid, \n",
    "                           cv = 3, \n",
    "                           n_jobs = -1, \n",
    "                           verbose = 5)\n",
    "\n",
    "# Fit the grid search to the data\n",
    "grid_search.fit(x_train, y_train)"
   ]
  },
  {
   "cell_type": "code",
   "execution_count": 20,
   "metadata": {},
   "outputs": [
    {
     "name": "stdout",
     "output_type": "stream",
     "text": [
      "{'copy_X': True, 'normalize': False, 'n_jobs': -1, 'fit_intercept': True}\n",
      "0.0005458686660765686\n"
     ]
    }
   ],
   "source": [
    "print grid_search.best_params_\n",
    "print grid_search.best_score_"
   ]
  },
  {
   "cell_type": "code",
   "execution_count": 21,
   "metadata": {},
   "outputs": [
    {
     "name": "stdout",
     "output_type": "stream",
     "text": [
      "Porcentaje de acierto: 57.04%\n",
      "Porcentaje de acierto: 52.93%\n"
     ]
    }
   ],
   "source": [
    "evaluar(grid_search.best_estimator_, x_train, y_train)\n",
    "evaluar(grid_search.best_estimator_, x_test, y_test)"
   ]
  },
  {
   "cell_type": "code",
   "execution_count": 14,
   "metadata": {},
   "outputs": [
    {
     "name": "stdout",
     "output_type": "stream",
     "text": [
      "{'copy_X': True, 'normalize': False, 'n_jobs': 1, 'fit_intercept': True}\n"
     ]
    }
   ],
   "source": [
    "generar_submit(regr,x_query,test_final_100k_,'Linear regression','binaria')"
   ]
  },
  {
   "cell_type": "markdown",
   "metadata": {},
   "source": [
    "## VOTING"
   ]
  },
  {
   "cell_type": "code",
   "execution_count": null,
   "metadata": {},
   "outputs": [],
   "source": [
    "voting_clf = VotingClassifier(estimators = [('xgb',xgb_clf),('rf', RF), ('knn',KNN)],voting = 'soft',weights=[3,3,1])\n",
    "voting_clf.fit(x_train[['edad','longitud_descripcion','cantidad_vistas','denominacion_empresa','longitud_titulo']], y_train)\n",
    "evaluar(voting_clf,x_train[['edad','longitud_descripcion','cantidad_vistas','denominacion_empresa','longitud_titulo']],y_train)\n",
    "evaluar(voting_clf,x_test[['edad','longitud_descripcion','cantidad_vistas','denominacion_empresa','longitud_titulo']],y_test)"
   ]
  },
  {
   "cell_type": "code",
   "execution_count": 29,
   "metadata": {},
   "outputs": [
    {
     "name": "stderr",
     "output_type": "stream",
     "text": [
      "[Parallel(n_jobs=1)]: Done   1 out of   1 | elapsed:    0.0s remaining:    0.0s\n",
      "[Parallel(n_jobs=1)]: Done  22 out of  22 | elapsed:    0.6s finished\n"
     ]
    },
    {
     "name": "stdout",
     "output_type": "stream",
     "text": [
      "{'n_jobs': 1, 'rf__min_impurity_decrease': 0.0, 'knn__n_jobs': -1, 'knn__weights': 'distance', 'flatten_transform': None, 'rf__n_jobs': 1, 'rf__warm_start': False, 'estimators': [('rf', RandomForestClassifier(bootstrap=True, class_weight=None, criterion='gini',\n",
      "            max_depth=70, max_features='auto', max_leaf_nodes=None,\n",
      "            min_impurity_decrease=0.0, min_impurity_split=None,\n",
      "            min_samples_leaf=20, min_samples_split=100,\n",
      "            min_weight_fraction_leaf=0.0, n_estimators=22, n_jobs=1,\n",
      "            oob_score=False, random_state=7, verbose=2, warm_start=False)), ('knn', KNeighborsClassifier(algorithm='auto', leaf_size=30, metric='minkowski',\n",
      "           metric_params=None, n_jobs=-1, n_neighbors=41, p=2,\n",
      "           weights='distance'))], 'rf__bootstrap': True, 'knn__metric': 'minkowski', 'knn__n_neighbors': 41, 'knn__algorithm': 'auto', 'rf': RandomForestClassifier(bootstrap=True, class_weight=None, criterion='gini',\n",
      "            max_depth=70, max_features='auto', max_leaf_nodes=None,\n",
      "            min_impurity_decrease=0.0, min_impurity_split=None,\n",
      "            min_samples_leaf=20, min_samples_split=100,\n",
      "            min_weight_fraction_leaf=0.0, n_estimators=22, n_jobs=1,\n",
      "            oob_score=False, random_state=7, verbose=2, warm_start=False), 'rf__oob_score': False, 'rf__min_impurity_split': None, 'knn__p': 2, 'rf__max_features': 'auto', 'rf__min_weight_fraction_leaf': 0.0, 'knn': KNeighborsClassifier(algorithm='auto', leaf_size=30, metric='minkowski',\n",
      "           metric_params=None, n_jobs=-1, n_neighbors=41, p=2,\n",
      "           weights='distance'), 'rf__max_depth': 70, 'rf__n_estimators': 22, 'rf__verbose': 2, 'knn__metric_params': None, 'rf__criterion': 'gini', 'rf__max_leaf_nodes': None, 'knn__leaf_size': 30, 'rf__min_samples_split': 100, 'weights': None, 'rf__min_samples_leaf': 20, 'voting': 'soft', 'rf__class_weight': None, 'rf__random_state': 7}\n"
     ]
    }
   ],
   "source": [
    "generar_submit(voting_clf,x_query[['id','edad','longitud_descripcion','cantidad_vistas','denominacion_empresa','longitud_titulo']],'Voting','proba')"
   ]
  },
  {
   "cell_type": "code",
   "execution_count": null,
   "metadata": {},
   "outputs": [],
   "source": []
  }
 ],
 "metadata": {
  "kernelspec": {
   "display_name": "Python 2",
   "language": "python",
   "name": "python2"
  },
  "language_info": {
   "codemirror_mode": {
    "name": "ipython",
    "version": 2
   },
   "file_extension": ".py",
   "mimetype": "text/x-python",
   "name": "python",
   "nbconvert_exporter": "python",
   "pygments_lexer": "ipython2",
   "version": "2.7.15"
  }
 },
 "nbformat": 4,
 "nbformat_minor": 2
}
